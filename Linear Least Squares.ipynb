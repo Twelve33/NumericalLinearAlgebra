{
 "cells": [
  {
   "cell_type": "markdown",
   "metadata": {
    "slideshow": {
     "slide_type": "slide"
    }
   },
   "source": [
    "# Linear least squares"
   ]
  },
  {
   "cell_type": "markdown",
   "metadata": {
    "slideshow": {
     "slide_type": "subslide"
    }
   },
   "source": [
    "## Fitting data by polynomials"
   ]
  },
  {
   "cell_type": "markdown",
   "metadata": {
    "slideshow": {
     "slide_type": "fragment"
    }
   },
   "source": [
    "Here are 5-year averages of the worldwide temperature anomaly as compared to the 1951-1980 average (source: NASA)."
   ]
  },
  {
   "cell_type": "code",
   "execution_count": 1,
   "metadata": {
    "collapsed": false,
    "slideshow": {
     "slide_type": "fragment"
    }
   },
   "outputs": [
    {
     "name": "stderr",
     "output_type": "stream",
     "text": [
      "INFO: Precompiling module Plots.\n"
     ]
    },
    {
     "name": "stdout",
     "output_type": "stream",
     "text": [
      "[Plots.jl] Initializing backend: gadfly\n"
     ]
    },
    {
     "name": "stderr",
     "output_type": "stream",
     "text": [
      "WARNING: Backend gadfly has been deprecated.  It may not work as originally intended.\n",
      "WARNING: New definition \n",
      "    +(AbstractArray, DataArrays.DataArray) at /home/juser/.julia/v0.4/DataArrays/src/operators.jl:276\n",
      "is ambiguous with: \n",
      "    +(WoodburyMatrices.SymWoodbury, AbstractArray{T<:Any, 2}) at /home/juser/.julia/v0.4/WoodburyMatrices/src/SymWoodburyMatrices.jl:107.\n",
      "To fix, define \n",
      "    +(WoodburyMatrices.SymWoodbury, DataArrays.DataArray{T<:Any, 2})\n",
      "before the new definition.\n",
      "WARNING: New definition \n",
      "    +(AbstractArray, DataArrays.AbstractDataArray) at /home/juser/.julia/v0.4/DataArrays/src/operators.jl:300\n",
      "is ambiguous with: \n",
      "    +(WoodburyMatrices.SymWoodbury, AbstractArray{T<:Any, 2}) at /home/juser/.julia/v0.4/WoodburyMatrices/src/SymWoodburyMatrices.jl:107.\n",
      "To fix, define \n",
      "    +(WoodburyMatrices.SymWoodbury, DataArrays.AbstractDataArray{T<:Any, 2})\n",
      "before the new definition.\n"
     ]
    },
    {
     "ename": "LoadError",
     "evalue": "LoadError: KeyError: xguide not found\nwhile loading In[1], in expression starting on line 4",
     "output_type": "error",
     "traceback": [
      "LoadError: KeyError: xguide not found\nwhile loading In[1], in expression starting on line 4",
      "",
      " in createGadflyPlotObject at /home/juser/.julia/v0.4/Plots/src/backends/gadfly.jl:60",
      " in _plot_setup at /home/juser/.julia/v0.4/Plots/src/pipeline.jl:214",
      " in _plot! at /home/juser/.julia/v0.4/Plots/src/plot.jl:178",
      " in plot at /home/juser/.julia/v0.4/Plots/src/plot.jl:52"
     ]
    }
   ],
   "source": [
    "year = collect(1955:5:2000);\n",
    "anomaly = [ -0.0480; -0.0180; -0.0360; -0.0120; -0.0040; 0.1180; 0.2100; 0.3320; 0.3340; 0.4560 ];\n",
    "using Plots;\n",
    "plot(year,anomaly,m=:o,l=nothing)"
   ]
  },
  {
   "cell_type": "markdown",
   "metadata": {
    "slideshow": {
     "slide_type": "subslide"
    }
   },
   "source": [
    "The numbers work better if we measure time in years since 1955. (We can quantify that statement later in the course.) "
   ]
  },
  {
   "cell_type": "code",
   "execution_count": 2,
   "metadata": {
    "collapsed": false,
    "slideshow": {
     "slide_type": "fragment"
    }
   },
   "outputs": [
    {
     "name": "stdout",
     "output_type": "stream",
     "text": [
      "m = length(t) = 10\n"
     ]
    }
   ],
   "source": [
    "t = year-1955;\n",
    "@show m = length(t);"
   ]
  },
  {
   "cell_type": "markdown",
   "metadata": {
    "slideshow": {
     "slide_type": "fragment"
    }
   },
   "source": [
    "A polynomial through all of these points has to have degree at least 9 in general (i.e., unless the points are special). We can solve for the coefficients of this polynomial by solving a $10\\times 10$ Vandermonde system."
   ]
  },
  {
   "cell_type": "markdown",
   "metadata": {
    "slideshow": {
     "slide_type": "slide"
    }
   },
   "source": [
    "## Polynomial Data-Fitting"
   ]
  },
  {
   "cell_type": "markdown",
   "metadata": {
    "slideshow": {
     "slide_type": "fragment"
    }
   },
   "source": [
    "Suppose we are given $m$ distinct points $x_1,\\dots, x_m\\in\\mathbb{C}$, and data $y_1,\\dots, y_m \\in \\mathbb{C}$ at these points.  Then there is a unique _polynomial interpolant_ of degree $\\leq m-1$: \n",
    "\n",
    "$$\n",
    "p(x) = c_0 + c_1x + \\cdots + c_{m-1} x^{m-1},\n",
    "$$\n",
    "\n",
    "satisfying $p(x_i) = y_i$."
   ]
  },
  {
   "cell_type": "markdown",
   "metadata": {
    "slideshow": {
     "slide_type": "fragment"
    }
   },
   "source": [
    "$$\\begin{bmatrix} 1 & x_1 & x_1^2 & \\cdots & x_1^{m-1} \\\\ 1 & x_2 & x_2^2 & \\cdots & x_2^{m-1} \\\\  & \\vdots & & & \\vdots \\\\ 1 & x_m & x_m^2 & \\cdots & x_m^{m-1}\\end{bmatrix} \\begin{bmatrix} c_0\\\\ c_1 \\\\ \\vdots \\\\ c_{m-1} \\end{bmatrix} = \\begin{bmatrix} y_1 \\\\ y_2\\\\ \\vdots \\\\ y_m\\end{bmatrix}$$"
   ]
  },
  {
   "cell_type": "markdown",
   "metadata": {
    "slideshow": {
     "slide_type": "fragment"
    }
   },
   "source": [
    "The Vandermonde matrix is nonsingular if and only if $x_i\\ne x_j$."
   ]
  },
  {
   "cell_type": "code",
   "execution_count": 3,
   "metadata": {
    "collapsed": false,
    "slideshow": {
     "slide_type": "subslide"
    }
   },
   "outputs": [
    {
     "data": {
      "text/plain": [
       "Poly(-0.048 + 0.3655471428571423x - 0.1821111666666659x^2 + 0.03600809999999972x^3 - 0.003737914999999952x^4 + 0.00022573177777777346x^5 - 8.205466666666444e-6x^6 + 1.7689396825396164e-7x^7 - 2.0826666666665615e-9x^8 + 1.0311111111110426e-11x^9)"
      ]
     },
     "execution_count": 3,
     "metadata": {},
     "output_type": "execute_result"
    }
   ],
   "source": [
    "A = t.^0;\n",
    "for j = 1:m-1\n",
    "    A = [A t.^j];\n",
    "end\n",
    "b = anomaly;\n",
    "\n",
    "c = A\\b;   # coefficients, from degree 0 to m-1\n",
    "\n",
    "using Polynomials\n",
    "p = Poly(c)"
   ]
  },
  {
   "cell_type": "code",
   "execution_count": 4,
   "metadata": {
    "collapsed": false,
    "slideshow": {
     "slide_type": "subslide"
    }
   },
   "outputs": [
    {
     "ename": "LoadError",
     "evalue": "LoadError: KeyError: xguide not found\nwhile loading In[4], in expression starting on line 1",
     "output_type": "error",
     "traceback": [
      "LoadError: KeyError: xguide not found\nwhile loading In[4], in expression starting on line 1",
      "",
      " in createGadflyPlotObject at /home/juser/.julia/v0.4/Plots/src/backends/gadfly.jl:60",
      " in _plot_setup at /home/juser/.julia/v0.4/Plots/src/pipeline.jl:214",
      " in _plot! at /home/juser/.julia/v0.4/Plots/src/plot.jl:178",
      " in plot at /home/juser/.julia/v0.4/Plots/src/plot.jl:52"
     ]
    }
   ],
   "source": [
    "plot(t->p(t-1955),1955,2000)\n",
    "plot!(year,anomaly,m=:o,l=nothing);\n",
    "title!(\"World temperature anomaly\");\n",
    "xlabel!(\"year\"); ylabel!(\"anomaly (deg C)\")"
   ]
  },
  {
   "cell_type": "markdown",
   "metadata": {
    "slideshow": {
     "slide_type": "subslide"
    }
   },
   "source": [
    "As intended, the polynomial interpolates the data, but it obviously gives a lot of unphysical nonsense. This phenomenon, which is common with interpolating polynomials over equally spaced times, is an example of _overfitting_. \n",
    "\n",
    "We actually get a better approximation by reducing the degree to 3. "
   ]
  },
  {
   "cell_type": "code",
   "execution_count": 5,
   "metadata": {
    "collapsed": false,
    "slideshow": {
     "slide_type": "fragment"
    }
   },
   "outputs": [
    {
     "name": "stdout",
     "output_type": "stream",
     "text": [
      "size(A) = (10,4)\n"
     ]
    }
   ],
   "source": [
    "A = A[:,1:4];\n",
    "@show size(A);"
   ]
  },
  {
   "cell_type": "markdown",
   "metadata": {
    "slideshow": {
     "slide_type": "fragment"
    }
   },
   "source": [
    "We now have an overdetermined system of linear equations. The easiest way to define a solution is to minimize the 2-norm of the residual--i.e., least squares. In MATLAB we use the same backslash operator as for square systems, even though the algorithms are very different. "
   ]
  },
  {
   "cell_type": "code",
   "execution_count": 6,
   "metadata": {
    "collapsed": false,
    "slideshow": {
     "slide_type": "subslide"
    }
   },
   "outputs": [
    {
     "ename": "LoadError",
     "evalue": "LoadError: KeyError: xguide not found\nwhile loading In[6], in expression starting on line 3",
     "output_type": "error",
     "traceback": [
      "LoadError: KeyError: xguide not found\nwhile loading In[6], in expression starting on line 3",
      "",
      " in createGadflyPlotObject at /home/juser/.julia/v0.4/Plots/src/backends/gadfly.jl:60",
      " in _plot_setup at /home/juser/.julia/v0.4/Plots/src/pipeline.jl:214",
      " in _plot! at /home/juser/.julia/v0.4/Plots/src/plot.jl:178",
      " in plot at /home/juser/.julia/v0.4/Plots/src/plot.jl:52"
     ]
    }
   ],
   "source": [
    "c = A\\b;   # coefficients, from degree 0 to 3\n",
    "p = Poly(c);  # fitting polynomial\n",
    "plot(t->p(t-1955),1955,2000)\n",
    "plot!(year,anomaly,m=:o,l=nothing);\n",
    "title!(\"World temperature anomaly\");\n",
    "xlabel!(\"year\"); ylabel!(\"anomaly (deg C)\")"
   ]
  },
  {
   "cell_type": "markdown",
   "metadata": {
    "slideshow": {
     "slide_type": "subslide"
    }
   },
   "source": [
    "This polynomial certainly describes the data better."
   ]
  },
  {
   "cell_type": "markdown",
   "metadata": {
    "slideshow": {
     "slide_type": "slide"
    }
   },
   "source": [
    "## Orthogonal Projection and the Normal Equations"
   ]
  },
  {
   "cell_type": "markdown",
   "metadata": {
    "slideshow": {
     "slide_type": "subslide"
    }
   },
   "source": [
    "> ** THEOREM. ** Let $A\\in\\mathbb{C}^{m\\times n}$, $m\\geq n$, and $\\mathbf{b}\\in\\mathbb{C}^m$.   A vector $\\mathbf{x}\\in\\mathbb{C}^m$ minimizes the residual norm $\\|\\mathbf{r}\\|_2 = \\|\\mathbf{b} -A\\mathbf{x}\\|_2$, hence solves the linear squares problem if and only if $\\mathbf{r}\\perp C(A)$, i.e. $$A^*\\mathbf{r} = \\mathbf{0} \\quad \\Longleftrightarrow \\quad A^*A \\mathbf{x} = A^* \\mathbf{b}.$$\n",
    "Further, $A^*A$ is nonsingular if and only if $A$ has full rank (i.e. linearly independent columns)."
   ]
  },
  {
   "cell_type": "markdown",
   "metadata": {
    "slideshow": {
     "slide_type": "subslide"
    }
   },
   "source": [
    "** Proof. ** To show $\\mathbf{y} = P \\mathbf{b}$ is the unique point in $C(A)$ that minimizes $\\|\\mathbf{b}-\\mathbf{y}\\|_2$, suppose $\\mathbf{z}\\ne\\mathbf{y}$ is another point.   Since $\\mathbf{z}-\\mathbf{y}$ is orthogonal to $\\mathbf{b}-\\mathbf{y}$: \n",
    "\n",
    "$$\\|\\mathbf{b}-\\mathbf{z} \\|_2^2 = \\|\\mathbf{b}-\\mathbf{y}\\|_2^2 + \\|\\mathbf{y}-\\mathbf{z}\\|_2^2 > \\|\\mathbf{b}-\\mathbf{y}\\|_2^2.$$"
   ]
  },
  {
   "cell_type": "markdown",
   "metadata": {
    "slideshow": {
     "slide_type": "slide"
    }
   },
   "source": [
    "## Three least squares algortithms"
   ]
  },
  {
   "cell_type": "markdown",
   "metadata": {
    "slideshow": {
     "slide_type": "subslide"
    }
   },
   "source": [
    "### Linear least squares"
   ]
  },
  {
   "cell_type": "markdown",
   "metadata": {
    "slideshow": {
     "slide_type": "fragment"
    }
   },
   "source": [
    "![LLS](https://upload.wikimedia.org/wikipedia/commons/thumb/3/3a/Linear_regression.svg/438px-Linear_regression.svg.png)"
   ]
  },
  {
   "cell_type": "markdown",
   "metadata": {
    "slideshow": {
     "slide_type": "fragment"
    }
   },
   "source": [
    "There are three distinct ways to solve the general dense linear least squares problem."
   ]
  },
  {
   "cell_type": "code",
   "execution_count": 7,
   "metadata": {
    "collapsed": false,
    "slideshow": {
     "slide_type": "subslide"
    }
   },
   "outputs": [
    {
     "name": "stdout",
     "output_type": "stream",
     "text": [
      "[3.4999999999999964,1.4000000000000012][Plots.jl] Initializing backend: pyplot\n"
     ]
    },
    {
     "name": "stderr",
     "output_type": "stream",
     "text": [
      "INFO: Precompiling module PyPlot.\n",
      "WARNING: No working GUI backend found for matplotlib.\n"
     ]
    },
    {
     "data": {
      "text/html": [
       "<img src=\"data:image/png;base64,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\" />"
      ]
     },
     "execution_count": 7,
     "metadata": {},
     "output_type": "execute_result"
    }
   ],
   "source": [
    "using Plots\n",
    "pyplot() #choose plotting backend\n",
    "input = [\n",
    "    1 6\n",
    "    2 5\n",
    "    3 7\n",
    "    4 10]\n",
    "X = hcat(ones(size(input)[1]),input[:,1])\n",
    "y = input[:,2]\n",
    "betaHat = (X' * X ) \\ X' * y #backslash computes LS-solution as in Matlab\n",
    "print(betaHat)\n",
    "plot(x->betaHat[2]*x + betaHat[1],0,5,label=\"curve fit\")\n",
    "scatter!(input[:,1],input[:,2],label=\"data\")"
   ]
  },
  {
   "cell_type": "markdown",
   "metadata": {
    "slideshow": {
     "slide_type": "subslide"
    }
   },
   "source": [
    "#### Normal equations"
   ]
  },
  {
   "cell_type": "markdown",
   "metadata": {
    "slideshow": {
     "slide_type": "fragment"
    }
   },
   "source": [
    "First, we can pose and solve the normal equations:\n",
    "\n",
    "\\begin{align}\n",
    "A\\mathbf{x} &= \\mathbf{b}\\\\\n",
    "A^* A \\mathbf{x} &= A^* \\mathbf{b}\\\\\n",
    "\\mathbf{x} &= (A^*A)^{-1}A^*\\mathbf{b} = A^+ \\mathbf{b}.\n",
    "\\end{align}\n",
    "\n",
    "$A^+$ is called the _pseudoinverse_ of $A$."
   ]
  },
  {
   "cell_type": "markdown",
   "metadata": {
    "slideshow": {
     "slide_type": "subslide"
    }
   },
   "source": [
    "##### Least squares via Normal equations:\n",
    "\n",
    "1. Form the matrix $A^* A$ and the vector $A^*\\mathbf{b}$.\n",
    "- Compute the 'Cholesky factorization': $A^*A = R^*R$.\n",
    "- Solve the lower-triangular system $R^*\\mathbf{w} = A^*\\mathbf{b}$ for $\\mathbf{w}$.\n",
    "- Solve the upper-triangular system $R\\mathbf{x} = \\mathbf{w}$ for $\\mathbf{x}$."
   ]
  },
  {
   "cell_type": "markdown",
   "metadata": {
    "slideshow": {
     "slide_type": "fragment"
    }
   },
   "source": [
    "Symmetry implies the computation of $A^*A$ requires only $mn^2$ flops (rather than $2mn^2$).   Step 2 requires $n^3/3$ flops."
   ]
  },
  {
   "cell_type": "markdown",
   "metadata": {
    "slideshow": {
     "slide_type": "fragment"
    }
   },
   "source": [
    "> ** THEOREM. **  Least squares via normal equations has operation count $\\sim mn^2+ \\frac{n^3}{3}$ flops."
   ]
  },
  {
   "cell_type": "code",
   "execution_count": 8,
   "metadata": {
    "collapsed": false,
    "slideshow": {
     "slide_type": "subslide"
    }
   },
   "outputs": [
    {
     "name": "stdout",
     "output_type": "stream",
     "text": [
      "size(B) = (4,4)\n"
     ]
    }
   ],
   "source": [
    "B = A'*A;  z = A'*b;\n",
    "@show size(B);"
   ]
  },
  {
   "cell_type": "code",
   "execution_count": 9,
   "metadata": {
    "collapsed": false,
    "slideshow": {
     "slide_type": "fragment"
    }
   },
   "outputs": [
    {
     "data": {
      "text/plain": [
       "4x2 Array{Float64,2}:\n",
       " -0.0261566    -0.0261566  \n",
       " -0.00908228   -0.00908228 \n",
       "  0.000785734   0.000785734\n",
       " -7.74825e-6   -7.74825e-6 "
      ]
     },
     "execution_count": 9,
     "metadata": {},
     "output_type": "execute_result"
    }
   ],
   "source": [
    "[c B\\z]"
   ]
  },
  {
   "cell_type": "markdown",
   "metadata": {
    "slideshow": {
     "slide_type": "subslide"
    }
   },
   "source": [
    "#### QR Factorization"
   ]
  },
  {
   "cell_type": "markdown",
   "metadata": {
    "slideshow": {
     "slide_type": "fragment"
    }
   },
   "source": [
    "Second, we can use a thin QR factorization to express the range of $A$ orthonormally, and reduce to a triangular square system."
   ]
  },
  {
   "cell_type": "markdown",
   "metadata": {
    "slideshow": {
     "slide_type": "fragment"
    }
   },
   "source": [
    "Using either Gram-Schmidt or Householder triangularization, one constructs $A = \\hat{Q}\\hat{R}$.  The orthogonal projector $P$ can be written as $\\hat{Q}\\hat{Q}^*$.  Therefore:\n",
    "\n",
    "\\begin{align}\n",
    "A\\mathbf{x} &= \\mathbf{b}\\\\\n",
    "\\hat{Q}\\hat{R} \\mathbf{x} & = \\mathbf{b} \\\\\n",
    "\\hat{R} \\mathbf{x} &= \\hat{Q}^* \\mathbf{b}\\\\\n",
    "\\mathbf{x} &= \\hat{R}^{-1} \\hat{Q}^* \\mathbf{b} = A^+ \\mathbf{b}\n",
    "\\end{align}"
   ]
  },
  {
   "cell_type": "markdown",
   "metadata": {
    "slideshow": {
     "slide_type": "subslide"
    }
   },
   "source": [
    "##### Least squares via QR factorization\n",
    "\n",
    "1. Compute the reduced QR factorization $A = \\hat{Q}\\hat{R}$.\n",
    "- Compute the vector $\\hat{Q}^*\\mathbf{b}$.\n",
    "- Solve the upper-triangular system $\\hat{R}\\mathbf{x} = \\hat{Q}^*\\mathbf{b}$ for $\\mathbf{x}$."
   ]
  },
  {
   "cell_type": "markdown",
   "metadata": {
    "slideshow": {
     "slide_type": "fragment"
    }
   },
   "source": [
    "The work for this algorithm is dominated by the cost of the $QR$ factorization.  If Householder reflectors are used for this step, we have: \n",
    "\n",
    "> ** THEOREM. ** Work for solving least squares via QR factorization is  $\\sim 2mn^2 - \\frac{2}{3}n^3$ flops."
   ]
  },
  {
   "cell_type": "code",
   "execution_count": 10,
   "metadata": {
    "collapsed": false,
    "slideshow": {
     "slide_type": "subslide"
    }
   },
   "outputs": [
    {
     "data": {
      "text/plain": [
       "4x2 Array{Float64,2}:\n",
       " -0.0261566    -0.0261566  \n",
       " -0.00908228   -0.00908228 \n",
       "  0.000785734   0.000785734\n",
       " -7.74825e-6   -7.74825e-6 "
      ]
     },
     "execution_count": 10,
     "metadata": {},
     "output_type": "execute_result"
    }
   ],
   "source": [
    "(Q,R) = qr(A);  \n",
    "z = Q'*b;\n",
    "[c R\\z]"
   ]
  },
  {
   "cell_type": "markdown",
   "metadata": {
    "slideshow": {
     "slide_type": "subslide"
    }
   },
   "source": [
    "#### SVD"
   ]
  },
  {
   "cell_type": "markdown",
   "metadata": {
    "slideshow": {
     "slide_type": "fragment"
    }
   },
   "source": [
    "And third, we can use the SVD to orthgonalize both the range and the domain, ultimately getting a diagonal square system."
   ]
  },
  {
   "cell_type": "markdown",
   "metadata": {
    "slideshow": {
     "slide_type": "fragment"
    }
   },
   "source": [
    "Suppose $A=\\hat{U}\\hat{\\Sigma}V^*$ is an SVD of $A$:\n",
    "\n",
    "\\begin{align}\n",
    "A \\mathbf{x} &= \\mathbf{b} \\\\\n",
    "\\hat{U}\\hat{\\Sigma}V^* \\mathbf{x} &= \\mathbf{b} \\\\\n",
    "\\hat{U}\\hat{\\Sigma} V^* \\mathbf{x} & = \\hat{U}\\hat{U}^* \\mathbf{b}\\\\\n",
    "\\hat{\\Sigma} V^* \\mathbf{x} &= \\hat{U}^* \\mathbf{b}\\\\\n",
    "\\mathbf{x} &= V\\hat{\\Sigma}^{-1} \\hat{U}^*\\mathbf{b} = A^+ \\mathbf{b}.\n",
    "\\end{align}"
   ]
  },
  {
   "cell_type": "markdown",
   "metadata": {
    "slideshow": {
     "slide_type": "subslide"
    }
   },
   "source": [
    "##### Least squares via SVD\n",
    "\n",
    "1. Compute the reduced SVD $A = \\hat{U}\\hat{\\Sigma}V^*$.\n",
    "- Compute the vector $\\hat{U}^*\\mathbf{b}$.\n",
    "- Solve the diagonal system $\\hat{\\Sigma}\\mathbf{w} = \\hat{U}^*\\mathbf{b}$ for $\\mathbf{w}$.\n",
    "- Set $\\mathbf{x} = V\\mathbf{w}$."
   ]
  },
  {
   "cell_type": "markdown",
   "metadata": {
    "slideshow": {
     "slide_type": "fragment"
    }
   },
   "source": [
    "The operation count for this algorithm is dominated by the computation of the SVD.   Which for $m>> n$ is approximately the same as the QR factorization, however for $m\\approx n$ it is typically:\n",
    "\n",
    "> ** THEOREM. ** The work for the least squares via SVD is $\\sim 2mn^2 + 11n^3$ flops."
   ]
  },
  {
   "cell_type": "code",
   "execution_count": 11,
   "metadata": {
    "collapsed": false,
    "slideshow": {
     "slide_type": "subslide"
    }
   },
   "outputs": [
    {
     "data": {
      "text/plain": [
       "4x2 Array{Float64,2}:\n",
       " -0.0261566    -0.0261566  \n",
       " -0.00908228   -0.00908228 \n",
       "  0.000785734   0.000785734\n",
       " -7.74825e-6   -7.74825e-6 "
      ]
     },
     "execution_count": 11,
     "metadata": {},
     "output_type": "execute_result"
    }
   ],
   "source": [
    "(U,s,V) = svd(A);  \n",
    "z = U'*b;\n",
    "[c V*(z./s)]"
   ]
  },
  {
   "cell_type": "markdown",
   "metadata": {
    "slideshow": {
     "slide_type": "slide"
    }
   },
   "source": [
    "## Conditioning and stability"
   ]
  },
  {
   "cell_type": "markdown",
   "metadata": {
    "collapsed": true,
    "slideshow": {
     "slide_type": "subslide"
    }
   },
   "source": [
    "Given multiple algorithms to solve a given problem, how do we determine which to use in a given situation?  \n",
    "\n",
    "There are several factors: algorithm _complexity_ or runtime, _parallelizability_, mathematical _conditioning_ and numerical  _stability_. "
   ]
  }
 ],
 "metadata": {
  "anaconda-cloud": {},
  "celltoolbar": "Slideshow",
  "kernelspec": {
   "display_name": "Julia 0.4.7",
   "language": "julia",
   "name": "julia-0.4"
  },
  "language_info": {
   "file_extension": ".jl",
   "mimetype": "application/julia",
   "name": "julia",
   "version": "0.4.7"
  }
 },
 "nbformat": 4,
 "nbformat_minor": 0
}
