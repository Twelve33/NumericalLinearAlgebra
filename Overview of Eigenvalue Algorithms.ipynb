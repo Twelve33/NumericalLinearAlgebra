{
 "cells": [
  {
   "cell_type": "markdown",
   "metadata": {
    "slideshow": {
     "slide_type": "slide"
    }
   },
   "source": [
    "# Overview of Eigenvalue Algorithms"
   ]
  },
  {
   "cell_type": "markdown",
   "metadata": {
    "slideshow": {
     "slide_type": "slide"
    }
   },
   "source": [
    "## Shortcomings of obvious algorithms"
   ]
  },
  {
   "cell_type": "markdown",
   "metadata": {
    "slideshow": {
     "slide_type": "fragment"
    }
   },
   "source": [
    "The naive way to compute eigenvalues/vectors would be to compute the characteristic polynomial, then compute its roots."
   ]
  },
  {
   "cell_type": "markdown",
   "metadata": {
    "slideshow": {
     "slide_type": "fragment"
    }
   },
   "source": [
    "This is a **bad** idea.   Polynomial root-finding is generally an ill-conditioned problem."
   ]
  },
  {
   "cell_type": "markdown",
   "metadata": {
    "slideshow": {
     "slide_type": "fragment"
    }
   },
   "source": [
    "Another idea, called _power iteration_ is to notice that: $$\\frac{\\mathbf{x}}{\\|\\mathbf{x}\\|}, \\frac{A\\mathbf{x}}{\\|A\\mathbf{x}\\|}, \\frac{A^2\\mathbf{x}}{\\|A^2\\mathbf{x}\\|}, \\frac{A^3\\mathbf{x}}{\\|A^3\\mathbf{x}\\|}, \\dots $$\n",
    "\n",
    "(hopefully) converges on the eigenvector with largest eigenvalue."
   ]
  },
  {
   "cell_type": "markdown",
   "metadata": {
    "slideshow": {
     "slide_type": "fragment"
    }
   },
   "source": [
    "This algorithm is usually slow."
   ]
  },
  {
   "cell_type": "markdown",
   "metadata": {
    "slideshow": {
     "slide_type": "fragment"
    }
   },
   "source": [
    "Instead we propose to find an _eigenvalue revealing matrix factorization_.   This will involve applying a sequence of transformations to $A$ to introduce zeros in appropriate places similar to the least squares problem."
   ]
  },
  {
   "cell_type": "markdown",
   "metadata": {
    "slideshow": {
     "slide_type": "slide"
    }
   },
   "source": [
    "## A fundamental difficulty"
   ]
  },
  {
   "cell_type": "markdown",
   "metadata": {
    "slideshow": {
     "slide_type": "fragment"
    }
   },
   "source": [
    "Just as an eigenvalue problem can be reduced to a root-finding problem, conversely a root-finding problem can always be reduced to an eigenvalue problem. "
   ]
  },
  {
   "cell_type": "markdown",
   "metadata": {
    "slideshow": {
     "slide_type": "fragment"
    }
   },
   "source": [
    "$$p(z) = z^m + a_{m-1}z^{m-1} + \\cdots + a_1z+a_0.$$"
   ]
  },
  {
   "cell_type": "markdown",
   "metadata": {
    "slideshow": {
     "slide_type": "fragment"
    }
   },
   "source": [
    "One can recover $(-1)^mp(z)$ as the determinant of: $$\\begin{bmatrix}-z & & & -a_0\\\\ 1 & -z & &-a_1\\\\ & \\ddots &\\ddots & \\vdots \\\\ & & 1 & (-z-a_{m-1})\\end{bmatrix}$$"
   ]
  },
  {
   "cell_type": "markdown",
   "metadata": {
    "slideshow": {
     "slide_type": "subslide"
    }
   },
   "source": [
    "This means that the roots of $p$ are simply the eigenvalues of the matrix: \n",
    "\n",
    "$$A= \\begin{bmatrix}0 & & & -a_0\\\\ 1 & 0 & &-a_1\\\\ & \\ddots &\\ddots & \\vdots \\\\ & & 1 & -a_{m-1}\\end{bmatrix}$$"
   ]
  },
  {
   "cell_type": "markdown",
   "metadata": {
    "slideshow": {
     "slide_type": "fragment"
    }
   },
   "source": [
    "$A$ is called the _companion matrix_ corresponding to $p(z)$."
   ]
  },
  {
   "cell_type": "markdown",
   "metadata": {
    "slideshow": {
     "slide_type": "subslide"
    }
   },
   "source": [
    "> ** THEOREM. ** For any $m\\geq 5$ there is a polynomial $p(z)$ of degree $m$ with rational coefficients that has a real root $p(r) =0$ with the property that $r$ cannot be written using any expression involving rational numbers, addition, subtraction, multiplication, division, and $k$-th roots."
   ]
  },
  {
   "cell_type": "markdown",
   "metadata": {
    "slideshow": {
     "slide_type": "fragment"
    }
   },
   "source": [
    "In particular, there can be no computer program which will produce the roots of a polynomial (or the eigenvalues of a matrix) in a finite number of steps.   "
   ]
  },
  {
   "cell_type": "markdown",
   "metadata": {
    "slideshow": {
     "slide_type": "fragment"
    }
   },
   "source": [
    "Any eigenvalue solver must be **iterative**."
   ]
  },
  {
   "cell_type": "markdown",
   "metadata": {
    "slideshow": {
     "slide_type": "slide"
    }
   },
   "source": [
    "## Schur Factorization and Diagonalization"
   ]
  },
  {
   "cell_type": "markdown",
   "metadata": {
    "slideshow": {
     "slide_type": "fragment"
    }
   },
   "source": [
    "Recall the Schur Factorization: $$A= QTQ^*$$ \n",
    "\n",
    "is produced via a sequence of transformations:\n",
    "$$\n",
    "\\underbrace{Q_j^* \\cdots Q_1^*}_{Q^*} A \\underbrace{Q_1\\cdots Q_j}_{Q}\n",
    "$$"
   ]
  },
  {
   "cell_type": "markdown",
   "metadata": {
    "slideshow": {
     "slide_type": "fragment"
    }
   },
   "source": [
    "We make this an iterative process by ensuring this converges to an upper-triangular matrix $T$ as $j\\to \\infty$."
   ]
  },
  {
   "cell_type": "markdown",
   "metadata": {
    "slideshow": {
     "slide_type": "fragment"
    }
   },
   "source": [
    "Note that if $A$ itself is Hermitian, so is any $Q^*AQ$.  Hence the above process will converge on a triangular Hermitian matrix, i.e. diagonal."
   ]
  },
  {
   "cell_type": "markdown",
   "metadata": {
    "slideshow": {
     "slide_type": "subslide"
    }
   },
   "source": [
    "This process is usually split into two phases:\n",
    "\n",
    "$$\n",
    "\\begin{bmatrix} \\times & \\times & \\times & \\times & \\times\\\\ \\times & \\times & \\times & \\times & \\times\\\\\\times & \\times & \\times & \\times & \\times\\\\\\times & \\times & \\times & \\times & \\times\\\\\\times & \\times & \\times & \\times & \\times\\end{bmatrix}\\quad  \\stackrel{\\text{Phase 1}}{\\longrightarrow}\\quad\\begin{bmatrix} \\times & \\times & \\times & \\times & \\times\\\\ \\times & \\times & \\times & \\times & \\times\\\\ & \\times & \\times & \\times & \\times\\\\ &  & \\times & \\times & \\times\\\\&  &  & \\times & \\times\\end{bmatrix} \\quad \\stackrel{\\text{Phase 2}}{\\longrightarrow} \\quad \\begin{bmatrix} \\times & \\times & \\times & \\times & \\times\\\\  & \\times & \\times & \\times & \\times\\\\ &  & \\times & \\times & \\times\\\\ &  &  & \\times & \\times\\\\&  &  &  & \\times\\end{bmatrix}\n",
    "$$"
   ]
  },
  {
   "cell_type": "markdown",
   "metadata": {
    "slideshow": {
     "slide_type": "fragment"
    }
   },
   "source": [
    "The first phase, a direct reduction, requires $O(m^3)$ flops.  The second, iterative phase, never terminates.  However, in practice, convergence to machine precision is achieved in $O(m)$ iterations."
   ]
  },
  {
   "cell_type": "markdown",
   "metadata": {
    "slideshow": {
     "slide_type": "fragment"
    }
   },
   "source": [
    "The middle matrix is called the _Hessenberg_ matrix $H$."
   ]
  },
  {
   "cell_type": "markdown",
   "metadata": {
    "slideshow": {
     "slide_type": "subslide"
    }
   },
   "source": [
    "In the case when $A=A^*$ is Hermitian, then, this becomes:\n",
    "\n",
    "$$\n",
    "\\begin{bmatrix} \\times & \\times & \\times & \\times & \\times\\\\ \\times & \\times & \\times & \\times & \\times\\\\\\times & \\times & \\times & \\times & \\times\\\\\\times & \\times & \\times & \\times & \\times\\\\\\times & \\times & \\times & \\times & \\times\\end{bmatrix}\\quad  \\stackrel{\\text{Phase 1}}{\\longrightarrow}\\quad\\begin{bmatrix} \\times & \\times &  &  & \\\\ \\times & \\times & \\times &  & \\\\ & \\times & \\times & \\times & \\\\ &  & \\times & \\times & \\times\\\\&  &  & \\times & \\times\\end{bmatrix} \\quad \\stackrel{\\text{Phase 2}}{\\longrightarrow} \\quad \\begin{bmatrix} \\times &  &  &  & \\\\  & \\times &  &  & \\\\ &  & \\times &  & \\\\ &  &  & \\times & \\\\&  &  &  & \\times\\end{bmatrix}\n",
    "$$"
   ]
  },
  {
   "cell_type": "code",
   "execution_count": null,
   "metadata": {
    "collapsed": true
   },
   "outputs": [],
   "source": []
  }
 ],
 "metadata": {
  "kernelspec": {
   "display_name": "Julia 0.5.0",
   "language": "julia",
   "name": "julia-0.5"
  },
  "language_info": {
   "file_extension": ".jl",
   "mimetype": "application/julia",
   "name": "julia",
   "version": "0.5.0"
  }
 },
 "nbformat": 4,
 "nbformat_minor": 0
}
