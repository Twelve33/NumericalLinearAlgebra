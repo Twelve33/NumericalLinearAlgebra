{
 "cells": [
  {
   "cell_type": "markdown",
   "metadata": {
    "slideshow": {
     "slide_type": "slide"
    }
   },
   "source": [
    "# Classical Iterative Eigensolvers"
   ]
  },
  {
   "cell_type": "markdown",
   "metadata": {
    "slideshow": {
     "slide_type": "slide"
    }
   },
   "source": [
    "## Reduction to Hessenberg or Tridiagonal Form"
   ]
  },
  {
   "cell_type": "markdown",
   "metadata": {
    "slideshow": {
     "slide_type": "fragment"
    }
   },
   "source": [
    "### A Bad Idea"
   ]
  },
  {
   "cell_type": "markdown",
   "metadata": {
    "slideshow": {
     "slide_type": "fragment"
    }
   },
   "source": [
    "To compute the Schur Factorization $A=QTQ^*$ we would like to apply a unitary similarity transformation to $A$ to introduce zeros below the diagonal."
   ]
  },
  {
   "cell_type": "markdown",
   "metadata": {
    "slideshow": {
     "slide_type": "fragment"
    }
   },
   "source": [
    "One might attempt using Householder reflectors $Q_1^*$ on the left of $A$:\n",
    "\n",
    "$$\n",
    "\\begin{bmatrix}\\times & \\times & \\times & \\times & \\times\\\\\\times & \\times & \\times & \\times & \\times\\\\\\times & \\times & \\times & \\times & \\times\\\\\\times & \\times & \\times & \\times & \\times\\\\\\times & \\times & \\times & \\times & \\times\\end{bmatrix} \\quad \\stackrel{Q_1^*\\cdot}{\\longrightarrow} \\quad \\begin{bmatrix} \\boldsymbol{\\times} & \\boldsymbol{\\times} & \\boldsymbol{\\times} & \\boldsymbol{\\times} &\\boldsymbol{\\times}\\\\0 & \\boldsymbol{\\times} & \\boldsymbol{\\times} & \\boldsymbol{\\times} &\\boldsymbol{\\times}\\\\0 & \\boldsymbol{\\times} & \\boldsymbol{\\times} & \\boldsymbol{\\times} &\\boldsymbol{\\times}\\\\0 & \\boldsymbol{\\times} & \\boldsymbol{\\times} & \\boldsymbol{\\times} &\\boldsymbol{\\times}\\\\0 & \\boldsymbol{\\times} & \\boldsymbol{\\times} & \\boldsymbol{\\times} &\\boldsymbol{\\times}\\end{bmatrix}\n",
    "$$"
   ]
  },
  {
   "cell_type": "markdown",
   "metadata": {
    "slideshow": {
     "slide_type": "subslide"
    }
   },
   "source": [
    "Unfortunately, one must also multiply on the right by $Q_1$:"
   ]
  },
  {
   "cell_type": "markdown",
   "metadata": {
    "slideshow": {
     "slide_type": "fragment"
    }
   },
   "source": [
    "$$\n",
    "\\begin{bmatrix} \\times & \\times & \\times & \\times &\\times\\\\0 &  \\times & \\times & \\times & \\times\\\\0 &  \\times & \\times & \\times & \\times\\\\0 &  \\times & \\times & \\times & \\times\\\\0 &  \\times & \\times & \\times & \\times\\end{bmatrix}\\quad \\stackrel{Q_1^*\\cdot}{\\longrightarrow} \\quad \\begin{bmatrix}\\boldsymbol{\\times} & \\boldsymbol{\\times} & \\boldsymbol{\\times} & \\boldsymbol{\\times} &\\boldsymbol{\\times}\\\\\\boldsymbol{\\times} & \\boldsymbol{\\times} & \\boldsymbol{\\times} & \\boldsymbol{\\times} &\\boldsymbol{\\times}\\\\\\boldsymbol{\\times} & \\boldsymbol{\\times} & \\boldsymbol{\\times} & \\boldsymbol{\\times} &\\boldsymbol{\\times}\\\\\\boldsymbol{\\times} & \\boldsymbol{\\times} & \\boldsymbol{\\times} & \\boldsymbol{\\times} &\\boldsymbol{\\times}\\\\\\boldsymbol{\\times} & \\boldsymbol{\\times} & \\boldsymbol{\\times} & \\boldsymbol{\\times} &\\boldsymbol{\\times}\\end{bmatrix} \n",
    "$$"
   ]
  },
  {
   "cell_type": "markdown",
   "metadata": {
    "slideshow": {
     "slide_type": "fragment"
    }
   },
   "source": [
    "Giving us a matrix no closer to being triangular."
   ]
  },
  {
   "cell_type": "markdown",
   "metadata": {
    "slideshow": {
     "slide_type": "fragment"
    }
   },
   "source": [
    "We have already mentioned that this approach was doomed to fail by Galois' Solvability Theorem."
   ]
  },
  {
   "cell_type": "markdown",
   "metadata": {
    "slideshow": {
     "slide_type": "slide"
    }
   },
   "source": [
    "### A Good Idea"
   ]
  },
  {
   "cell_type": "markdown",
   "metadata": {
    "slideshow": {
     "slide_type": "fragment"
    }
   },
   "source": [
    "Instead we settle for slightly less: the _Hessenberg Form_."
   ]
  },
  {
   "cell_type": "markdown",
   "metadata": {
    "slideshow": {
     "slide_type": "fragment"
    }
   },
   "source": [
    "$$\n",
    "\\begin{bmatrix}\\times & \\times & \\times & \\times & \\times\\\\\\times & \\times & \\times & \\times & \\times\\\\\\times & \\times & \\times & \\times & \\times\\\\\\times & \\times & \\times & \\times & \\times\\\\\\times & \\times & \\times & \\times & \\times\\end{bmatrix} \\quad \\stackrel{Q_1^*\\cdot}{\\longrightarrow} \\quad \\begin{bmatrix} {\\times} & {\\times} & {\\times} & {\\times} &{\\times}\\\\\\boldsymbol{\\times} & \\boldsymbol{\\times} & \\boldsymbol{\\times} & \\boldsymbol{\\times} &\\boldsymbol{\\times}\\\\0 & \\boldsymbol{\\times} & \\boldsymbol{\\times} & \\boldsymbol{\\times} &\\boldsymbol{\\times}\\\\0 & \\boldsymbol{\\times} & \\boldsymbol{\\times} & \\boldsymbol{\\times} &\\boldsymbol{\\times}\\\\0 & \\boldsymbol{\\times} & \\boldsymbol{\\times} & \\boldsymbol{\\times} &\\boldsymbol{\\times}\\end{bmatrix}\\quad \\stackrel{\\cdot Q_1}{\\longrightarrow} \\quad \\begin{bmatrix} {\\times} & \\boldsymbol{\\times} & \\boldsymbol{\\times} & \\boldsymbol{\\times} &\\boldsymbol{\\times}\\\\ {\\times} & \\boldsymbol{\\times} & \\boldsymbol{\\times} & \\boldsymbol{\\times} &\\boldsymbol{\\times}\\\\ & \\boldsymbol{\\times} & \\boldsymbol{\\times} & \\boldsymbol{\\times} &\\boldsymbol{\\times}\\\\ & \\boldsymbol{\\times} & \\boldsymbol{\\times} & \\boldsymbol{\\times} &\\boldsymbol{\\times}\\\\ & \\boldsymbol{\\times} & \\boldsymbol{\\times} & \\boldsymbol{\\times} &\\boldsymbol{\\times}\\end{bmatrix}\n",
    "$$"
   ]
  },
  {
   "cell_type": "markdown",
   "metadata": {
    "slideshow": {
     "slide_type": "fragment"
    }
   },
   "source": [
    "$$\n",
    "\\begin{bmatrix} {\\times} & {\\times} & {\\times} & {\\times} &{\\times}\\\\ {\\times} & {\\times} & {\\times} & {\\times} &{\\times}\\\\ & {\\times} & {\\times} & {\\times} &{\\times}\\\\ & {\\times} & {\\times} & {\\times} &{\\times}\\\\ & {\\times} & {\\times} & {\\times} &{\\times}\\end{bmatrix} \\quad \\stackrel{Q_2^*\\cdot}{\\longrightarrow} \\quad \\begin{bmatrix} {\\times} & {\\times} & {\\times} & {\\times} &{\\times}\\\\ {\\times} & {\\times} & {\\times} & {\\times} &{\\times}\\\\ & \\boldsymbol{\\times} & \\boldsymbol{\\times} & \\boldsymbol{\\times} &\\boldsymbol{\\times}\\\\ & 0 & \\boldsymbol{\\times} & \\boldsymbol{\\times} &\\boldsymbol{\\times}\\\\ & 0 & \\boldsymbol{\\times} & \\boldsymbol{\\times} &\\boldsymbol{\\times}\\end{bmatrix}\\quad \\stackrel{\\cdot Q_2}{\\longrightarrow} \\quad \\begin{bmatrix} {\\times} & {\\times} & \\boldsymbol{\\times} & \\boldsymbol{\\times} &\\boldsymbol{\\times}\\\\ {\\times} & {\\times} & \\boldsymbol{\\times} & \\boldsymbol{\\times} &\\boldsymbol{\\times}\\\\ & {\\times} & \\boldsymbol{\\times} & \\boldsymbol{\\times} &\\boldsymbol{\\times}\\\\ &  & \\boldsymbol{\\times} & \\boldsymbol{\\times} &\\boldsymbol{\\times}\\\\ &  & \\boldsymbol{\\times} & \\boldsymbol{\\times} &\\boldsymbol{\\times}\\end{bmatrix}\n",
    "$$"
   ]
  },
  {
   "cell_type": "markdown",
   "metadata": {
    "slideshow": {
     "slide_type": "subslide"
    }
   },
   "source": [
    "Repeating this $m-2$ times, we have a product in Hessenberg form:"
   ]
  },
  {
   "cell_type": "markdown",
   "metadata": {
    "slideshow": {
     "slide_type": "fragment"
    }
   },
   "source": [
    "$$Q_{m-2}^*\\cdots Q_1^* A Q_1\\cdots Q_{m-2} = H \\sim \\begin{bmatrix} {\\times} & {\\times} & {\\times} & {\\times} &{\\times}\\\\ {\\times} & {\\times} & {\\times} & {\\times} &{\\times}\\\\ & {\\times} & {\\times} & {\\times} &{\\times}\\\\ &  & {\\times} & {\\times} &{\\times}\\\\ &  &  & {\\times} &{\\times}\\end{bmatrix}$$"
   ]
  },
  {
   "cell_type": "code",
   "execution_count": 43,
   "metadata": {
    "collapsed": true,
    "slideshow": {
     "slide_type": "subslide"
    }
   },
   "outputs": [
    {
     "data": {
      "text/plain": [
       "6×6 Array{Float64,2}:\n",
       " 6.0  9.0  6.0   9.0  4.0  5.0\n",
       " 7.0  8.0  5.0  10.0  2.0  4.0\n",
       " 4.0  6.0  4.0   5.0  1.0  4.0\n",
       " 5.0  4.0  6.0   2.0  7.0  0.0\n",
       " 4.0  7.0  7.0   1.0  9.0  8.0\n",
       " 3.0  5.0  0.0   6.0  2.0  0.0"
      ]
     },
     "execution_count": 43,
     "metadata": {},
     "output_type": "execute_result"
    }
   ],
   "source": [
    "m = 6\n",
    "A = 10*rand(m,m)\n",
    "round(A)"
   ]
  },
  {
   "cell_type": "code",
   "execution_count": 44,
   "metadata": {
    "collapsed": false,
    "slideshow": {
     "slide_type": "fragment"
    }
   },
   "outputs": [
    {
     "data": {
      "text/plain": [
       "6×6 Array{Float64,2}:\n",
       "   6.0  -15.0  2.0  -1.0  -0.0   1.0\n",
       " -11.0   23.0  0.0   1.0   0.0  -2.0\n",
       "   0.0    6.0  4.0  -4.0   4.0  -1.0\n",
       "   0.0   -0.0  8.0  -3.0  -2.0  -1.0\n",
       "   0.0    0.0  0.0   3.0  -1.0   3.0\n",
       "   0.0    0.0  0.0   0.0   1.0  -1.0"
      ]
     },
     "execution_count": 44,
     "metadata": {},
     "output_type": "execute_result"
    }
   ],
   "source": [
    "for k = 1:m-2\n",
    "    x = A[k+1:m,k]\n",
    "    v = [x[1]+sign(x[1])*norm(x); x[2:end]]\n",
    "    v = v/norm(v)\n",
    "    A[k+1:m, k:m] = A[k+1:m, k:m]-2v*(v'*A[k+1:m, k:m])\n",
    "    A[1:m, k+1:m] = A[1:m,k+1:m]-2*(A[1:m,k+1:m]*v)*v'\n",
    "end\n",
    "round(A)"
   ]
  },
  {
   "cell_type": "code",
   "execution_count": 61,
   "metadata": {
    "collapsed": false,
    "slideshow": {
     "slide_type": "fragment"
    }
   },
   "outputs": [
    {
     "data": {
      "text/plain": [
       "6×6 Array{Float64,2}:\n",
       "  6.0  15.0  -2.0   1.0   0.0   1.0\n",
       " 11.0  23.0   0.0   1.0   0.0   2.0\n",
       "  0.0   6.0   4.0  -4.0   4.0   1.0\n",
       "  0.0   0.0   8.0  -3.0  -2.0   1.0\n",
       "  0.0   0.0   0.0   3.0  -1.0  -3.0\n",
       "  0.0   0.0   0.0   0.0  -1.0  -1.0"
      ]
     },
     "execution_count": 61,
     "metadata": {},
     "output_type": "execute_result"
    }
   ],
   "source": [
    "F = hessfact(A) # Returns a dictionary with both Q and H\n",
    "round(F[:H])"
   ]
  },
  {
   "cell_type": "markdown",
   "metadata": {
    "slideshow": {
     "slide_type": "subslide"
    }
   },
   "source": [
    "Here the matrix:\n",
    "$$Q= \\prod_{k=1}^{m-2} Q_k$$\n",
    "\n",
    "is never actually formed explicitly."
   ]
  },
  {
   "cell_type": "markdown",
   "metadata": {
    "slideshow": {
     "slide_type": "fragment"
    }
   },
   "source": [
    "Instead, the vectors $\\mathbf{v}_k$ are saved, and can be used, if necessary, to reconstitute $Q$."
   ]
  },
  {
   "cell_type": "markdown",
   "metadata": {
    "slideshow": {
     "slide_type": "slide"
    }
   },
   "source": [
    "### Operation Count"
   ]
  },
  {
   "cell_type": "markdown",
   "metadata": {
    "slideshow": {
     "slide_type": "fragment"
    }
   },
   "source": [
    "Rule of thumb: unitary operations cost 4 times as many flops."
   ]
  },
  {
   "cell_type": "markdown",
   "metadata": {
    "slideshow": {
     "slide_type": "fragment"
    }
   },
   "source": [
    "The work in the above algorithm is dominated by the final two updates of submatrices of $A$."
   ]
  },
  {
   "cell_type": "markdown",
   "metadata": {
    "slideshow": {
     "slide_type": "subslide"
    }
   },
   "source": [
    "The first loop applies a Householder reflector on the left of the matrix.  The $k$-th such reflector operators on the last $m-k$ rows.   Since at the time the reflector is applied, these rows have zeros in the first $k-1$ columns, arithmetic need only be done to the remaining $m-k+1$ entries."
   ]
  },
  {
   "cell_type": "markdown",
   "metadata": {
    "slideshow": {
     "slide_type": "fragment"
    }
   },
   "source": [
    "The second loop applies a Householder reflector on the right of the matrix.  At the $k$-th step the reflector operators on the last $m-k$ rows.   However, there are no zero entries this time, for a total of $m(m-k)$ for each $k$."
   ]
  },
  {
   "cell_type": "markdown",
   "metadata": {
    "slideshow": {
     "slide_type": "subslide"
    }
   },
   "source": [
    "Summing and considering only the dominant term, we find:\n",
    "$$\n",
    "\\frac{4}{3} m^3  + 2 m^3 = \\frac{10}{3} m^3.\n",
    "$$"
   ]
  },
  {
   "cell_type": "markdown",
   "metadata": {
    "slideshow": {
     "slide_type": "fragment"
    }
   },
   "source": [
    "> ** THEOREM. ** The work for Hessenberg reduction using the above algorithm is: $$\\sim \\frac{10}{3} m^3 \\text{ flops}.$$"
   ]
  },
  {
   "cell_type": "markdown",
   "metadata": {
    "slideshow": {
     "slide_type": "slide"
    }
   },
   "source": [
    "### The Hermitian Case: Reduction to Tridiagonal Form"
   ]
  },
  {
   "cell_type": "markdown",
   "metadata": {
    "slideshow": {
     "slide_type": "fragment"
    }
   },
   "source": [
    "If $A=A^*$, the algorithm reduces $A$ to _Tridiagonal form_:\n",
    "\n",
    "$$Q_{m-2}^*\\cdots Q_1^* A Q_1\\cdots Q_{m-2} = H \\sim \\begin{bmatrix} {\\times} & {\\times} &  & & \\\\ {\\times} & {\\times} & {\\times} &  &\\\\ & {\\times} & {\\times} & {\\times} &\\\\ &  & {\\times} & {\\times} &{\\times}\\\\ &  &  & {\\times} &{\\times}\\end{bmatrix}$$"
   ]
  },
  {
   "cell_type": "markdown",
   "metadata": {
    "slideshow": {
     "slide_type": "fragment"
    }
   },
   "source": [
    "Since zeros are now introduced in rows and columns, there are additional arithmetic savings.  In particular, we sum to find:\n",
    "$$\n",
    "\\frac{4}{3} m^3 + \\frac{4}{3}m^3 = \\frac{8}{3}m^3.\n",
    "$$"
   ]
  },
  {
   "cell_type": "markdown",
   "metadata": {
    "slideshow": {
     "slide_type": "fragment"
    }
   },
   "source": [
    "However, this assumes only the sparsity of the upper corner, we can use the symmetry property, i.e. the matrix is Hermitian, which saves us half the work."
   ]
  },
  {
   "cell_type": "markdown",
   "metadata": {
    "slideshow": {
     "slide_type": "fragment"
    }
   },
   "source": [
    "> ** THEOREM. ** The work for Hessenberg reduction using the above algorithm on a Hermitian matrix is: $$\\sim \\frac{4}{3} m^3 \\text{ flops}.$$"
   ]
  },
  {
   "cell_type": "markdown",
   "metadata": {
    "slideshow": {
     "slide_type": "slide"
    }
   },
   "source": [
    "### Stability"
   ]
  },
  {
   "cell_type": "markdown",
   "metadata": {
    "slideshow": {
     "slide_type": "fragment"
    }
   },
   "source": [
    "Like the Householder algorithm for QR factorization, this algorithm is backwards stable.  The argument is similar to the QR factorization via Householder orthogonal triangularization."
   ]
  },
  {
   "cell_type": "markdown",
   "metadata": {
    "slideshow": {
     "slide_type": "fragment"
    }
   },
   "source": [
    "Let $\\tilde H$ be the computed Hessenberg matrix, and let $\\tilde Q$ be, as before, the exactly unitary matrix constructed via the computed reflection vectors $\\tilde v_k$."
   ]
  },
  {
   "cell_type": "markdown",
   "metadata": {
    "slideshow": {
     "slide_type": "fragment"
    }
   },
   "source": [
    "> ** THEOREM. ** Let the Hessenberg reduction $A=QHQ^*$ of a matrix $A\\in\\mathbb{C}^{m\\times m}$ be computed by the above algorithm on a computer satisfying our axioms for $\\epsilon_{\\text{machine}}$, and let $\\tilde Q$ and $\\tilde H$ be defined as indicated above.  Then we have: $$\\tilde Q\\tilde H\\tilde Q^* = A + \\delta A, \\quad \\frac{\\|\\delta A\\|}{\\|A\\|} = O(\\epsilon_{\\text{machine}})$$ for some $\\delta A\\in\\mathbb{C}^{m\\times m}$."
   ]
  },
  {
   "cell_type": "markdown",
   "metadata": {
    "slideshow": {
     "slide_type": "slide"
    }
   },
   "source": [
    "## Rayleigh Quotient, Inverse Iteration"
   ]
  },
  {
   "cell_type": "markdown",
   "metadata": {
    "collapsed": true,
    "slideshow": {
     "slide_type": "slide"
    }
   },
   "source": [
    "### Restriction to Real Symmetric Matrices "
   ]
  },
  {
   "cell_type": "markdown",
   "metadata": {
    "slideshow": {
     "slide_type": "fragment"
    }
   },
   "source": [
    "For the moment, we restrict to the case that $A=A^\\top$ is real symmetric, and that $\\|\\cdot \\| = \\|\\cdot \\|_2$ is the $2$-norm."
   ]
  },
  {
   "cell_type": "markdown",
   "metadata": {
    "slideshow": {
     "slide_type": "fragment"
    }
   },
   "source": [
    "We let: $$A=A^\\top \\in \\mathbb{R}^{m\\times m}, \\quad \\mathbf{x} \\in \\mathbb{R}^m, \\quad \\mathbf{x}^* = \\mathbf{x}^\\top, \\quad \\|\\mathbf{x}\\|=\\sqrt{\\mathbf{x}^\\top \\mathbf{x}}.$$"
   ]
  },
  {
   "cell_type": "markdown",
   "metadata": {
    "slideshow": {
     "slide_type": "slide"
    }
   },
   "source": [
    "### Rayleigh Quotient"
   ]
  },
  {
   "cell_type": "markdown",
   "metadata": {
    "slideshow": {
     "slide_type": "fragment"
    }
   },
   "source": [
    "Given $\\mathbf{x}$, which scalar $\\alpha$ behaves most like an eigenvalue for $\\mathbf{x}$, in the sense that: $$\\|A\\mathbf{x}-\\alpha\\mathbf{x}\\|_2$$ is minimized?"
   ]
  },
  {
   "cell_type": "markdown",
   "metadata": {
    "slideshow": {
     "slide_type": "fragment"
    }
   },
   "source": [
    "This is an $m\\times 1$ least squares problem of the form:\n",
    "$$\n",
    "\\mathbf{x}\\alpha \\approx A\\mathbf{x}.\n",
    "$$\n",
    "Solving this via normal equations, we obtain $\\alpha = \\frac{\\mathbf{x}^\\top A \\mathbf{x}}{\\mathbf{x}^\\top \\mathbf{x}}.$"
   ]
  },
  {
   "cell_type": "markdown",
   "metadata": {
    "slideshow": {
     "slide_type": "subslide"
    }
   },
   "source": [
    "We define the _Rayleigh quotient_ of a vector $\\mathbf{x}\\in\\mathbb{R}^m$ to be:\n",
    "$$\n",
    "r(\\mathbf{x} ) = \\frac{\\mathbf{x}^\\top A \\mathbf{x}}{\\mathbf{x}^\\top \\mathbf{x}}.\n",
    "$$"
   ]
  },
  {
   "cell_type": "markdown",
   "metadata": {
    "slideshow": {
     "slide_type": "fragment"
    }
   },
   "source": [
    "Notice that if $\\mathbf{x}$ is an eigenvector, then $r(x)$ is its eigenvector."
   ]
  },
  {
   "cell_type": "markdown",
   "metadata": {
    "slideshow": {
     "slide_type": "subslide"
    }
   },
   "source": [
    "Consider this as a function: $$r: \\mathbb{R}^m \\to \\mathbb{R}.$$"
   ]
  },
  {
   "cell_type": "markdown",
   "metadata": {
    "slideshow": {
     "slide_type": "fragment"
    }
   },
   "source": [
    "We are interested in the local behavior of $r$ when $\\mathbf{x}$ is close to an eigenvector.   We compute the partial derivatives."
   ]
  },
  {
   "cell_type": "markdown",
   "metadata": {
    "slideshow": {
     "slide_type": "subslide"
    }
   },
   "source": [
    "\\begin{align}\n",
    "\\frac{\\partial r}{\\partial x_j} &= \\frac{\\frac{\\partial}{\\partial x_j} \\left(\\mathbf{x}^\\top A \\mathbf{x}\\right)}{\\mathbf{x}^\\top\\mathbf{x}} -\\frac{\\left(\\mathbf{x}^\\top A \\mathbf{x}\\right) \\frac{\\partial}{\\partial x_j} \\left(\\mathbf{x}^\\top \\mathbf{x}\\right)}{\\left(\\mathbf{x}^\\top \\mathbf{x}\\right)^2}\\\\ &= \\frac{2\\left(A\\mathbf{x}\\right)_j}{\\mathbf{x}^\\top\\mathbf{x}} - \\frac{\\left(\\mathbf{x}^\\top A \\mathbf{x}\\right) 2 x_j}{\\left(\\mathbf{x}^\\top\\mathbf{x}\\right)^2}\\\\\n",
    "&= \\frac{2}{\\mathbf{x}^\\top\\mathbf{x}} \\left(A\\mathbf{x} - r(\\mathbf{x})\\mathbf{x}\\right)_j.\n",
    "\\end{align}"
   ]
  },
  {
   "cell_type": "markdown",
   "metadata": {
    "slideshow": {
     "slide_type": "fragment"
    }
   },
   "source": [
    "Compiling these parital into an $m$-vector, i.e. $\\nabla r$, we see: \n",
    "\n",
    "$$\\nabla r = \\frac{2}{\\mathbf{x}^\\top \\mathbf{x}} \\left(A\\mathbf{x} - r(\\mathbf{x})\\mathbf{x}\\right).$$"
   ]
  },
  {
   "cell_type": "markdown",
   "metadata": {
    "slideshow": {
     "slide_type": "subslide"
    }
   },
   "source": [
    "> ** THEOREM. ** $\\nabla r (\\mathbf{x}) = \\mathbf{0}$ with $\\mathbf{x}\\ne \\mathbf{0}$ if and only if $\\mathbf{x}$ is an eigenvector with eigenvalue $r(\\mathbf{x})$."
   ]
  },
  {
   "cell_type": "markdown",
   "metadata": {
    "slideshow": {
     "slide_type": "fragment"
    }
   },
   "source": [
    "Thus the eigenvectors are precisely the critical points of the Rayleigh quotient.  In fact, since $r$ is scale independent, we may restrict the domain of $r$ to the unit $n$-sphere."
   ]
  },
  {
   "cell_type": "code",
   "execution_count": 1,
   "metadata": {
    "collapsed": false,
    "scrolled": true,
    "slideshow": {
     "slide_type": "subslide"
    }
   },
   "outputs": [
    {
     "name": "stderr",
     "output_type": "stream",
     "text": [
      "INFO: Recompiling stale cache file /home/juser/.julia/lib/v0.5/PyPlot.ji for module PyPlot.\n"
     ]
    },
    {
     "data": {
      "image/png": "[encoded data removed]",
      "text/plain": [
       "PyPlot.Figure(PyObject <matplotlib.figure.Figure object at 0x7f41708d8690>)"
      ]
     },
     "metadata": {},
     "output_type": "display_data"
    },
    {
     "data": {
      "text/plain": [
       "PyObject <mpl_toolkits.mplot3d.art3d.Poly3DCollection object at 0x7f4170692450>"
      ]
     },
     "execution_count": 1,
     "metadata": {},
     "output_type": "execute_result"
    },
    {
     "name": "stderr",
     "output_type": "stream",
     "text": [
      "WARNING: Base.writemime is deprecated.\n",
      "  likely near /opt/julia_packages/.julia/v0.5/IJulia/src/kernel.jl:31\n",
      "WARNING: Base.writemime is deprecated.\n",
      "  likely near /opt/julia_packages/.julia/v0.5/IJulia/src/kernel.jl:31\n",
      "WARNING: Base.writemime is deprecated.\n",
      "  likely near /opt/julia_packages/.julia/v0.5/IJulia/src/kernel.jl:31\n",
      "WARNING: Base.writemime is deprecated.\n",
      "  likely near /opt/julia_packages/.julia/v0.5/IJulia/src/kernel.jl:31\n",
      "WARNING: Base.writemime is deprecated.\n",
      "  likely near /opt/julia_packages/.julia/v0.5/IJulia/src/kernel.jl:31\n",
      "WARNING: Base.writemime is deprecated.\n",
      "  likely near /opt/julia_packages/.julia/v0.5/IJulia/src/kernel.jl:31\n",
      "WARNING: Base.writemime is deprecated.\n",
      "  likely near /opt/julia_packages/.julia/v0.5/IJulia/src/kernel.jl:31\n",
      "WARNING: Base.writemime is deprecated.\n",
      "  likely near /opt/julia_packages/.julia/v0.5/IJulia/src/kernel.jl:31\n",
      "WARNING: Base.writemime is deprecated.\n",
      "  likely near /opt/julia_packages/.julia/v0.5/IJulia/src/kernel.jl:31\n",
      "WARNING: Base.writemime is deprecated.\n",
      "  likely near /opt/julia_packages/.julia/v0.5/IJulia/src/kernel.jl:31\n",
      "WARNING: Base.writemime is deprecated.\n",
      "  likely near /opt/julia_packages/.julia/v0.5/IJulia/src/kernel.jl:31\n",
      "WARNING: Base.writemime is deprecated.\n",
      "  likely near /opt/julia_packages/.julia/v0.5/IJulia/src/kernel.jl:31\n",
      "WARNING: Base.writemime is deprecated.\n",
      "  likely near /opt/julia_packages/.julia/v0.5/IJulia/src/kernel.jl:31\n",
      "in show at /opt/julia_packages/.julia/v0.5/PyCall/src/PyCall.jl\n",
      "WARNING: Base.writemime is deprecated.\n",
      "  likely near /opt/julia_packages/.julia/v0.5/IJulia/src/kernel.jl:31\n",
      "in show at /opt/julia_packages/.julia/v0.5/PyCall/src/PyCall.jl\n",
      "WARNING: Base.writemime is deprecated.\n",
      "  likely near /opt/julia_packages/.julia/v0.5/IJulia/src/kernel.jl:31\n",
      "in show at /opt/julia_packages/.julia/v0.5/PyCall/src/PyCall.jl\n",
      "WARNING: Base.writemime is deprecated.\n",
      "  likely near /opt/julia_packages/.julia/v0.5/IJulia/src/kernel.jl:31\n",
      "in show at /opt/julia_packages/.julia/v0.5/PyCall/src/PyCall.jl\n",
      "WARNING: Base.writemime is deprecated.\n",
      "  likely near /opt/julia_packages/.julia/v0.5/IJulia/src/kernel.jl:31\n",
      "in show at /opt/julia_packages/.julia/v0.5/PyCall/src/PyCall.jl\n",
      "WARNING: Base.writemime is deprecated.\n",
      "  likely near /opt/julia_packages/.julia/v0.5/IJulia/src/kernel.jl:31\n",
      "in show at /opt/julia_packages/.julia/v0.5/PyCall/src/PyCall.jl\n",
      "WARNING: Base.writemime is deprecated.\n",
      "  likely near /opt/julia_packages/.julia/v0.5/IJulia/src/kernel.jl:31\n",
      "in show at /opt/julia_packages/.julia/v0.5/PyCall/src/PyCall.jl\n",
      "WARNING: Base.writemime is deprecated.\n",
      "  likely near /opt/julia_packages/.julia/v0.5/IJulia/src/kernel.jl:31\n",
      "in show at /opt/julia_packages/.julia/v0.5/PyCall/src/PyCall.jl\n",
      "WARNING: Base.writemime is deprecated.\n",
      "  likely near /opt/julia_packages/.julia/v0.5/IJulia/src/kernel.jl:31\n",
      "in show at /opt/julia_packages/.julia/v0.5/PyCall/src/PyCall.jl\n",
      "WARNING: Base.writemime is deprecated.\n",
      "  likely near /opt/julia_packages/.julia/v0.5/IJulia/src/kernel.jl:31\n",
      "in show at /opt/julia_packages/.julia/v0.5/PyCall/src/PyCall.jl\n",
      "WARNING: Base.writemime is deprecated.\n",
      "  likely near /opt/julia_packages/.julia/v0.5/IJulia/src/kernel.jl:31\n",
      "in show at /opt/julia_packages/.julia/v0.5/PyCall/src/PyCall.jl\n",
      "WARNING: Base.writemime is deprecated.\n",
      "  likely near /opt/julia_packages/.julia/v0.5/IJulia/src/kernel.jl:31\n",
      "in show at /opt/julia_packages/.julia/v0.5/PyCall/src/PyCall.jl\n"
     ]
    }
   ],
   "source": [
    "using PyPlot\n",
    "n = 100\n",
    "u = linspace(0,2*π,n);\n",
    "v = linspace(0,π,n);\n",
    "\n",
    "x = cos(u) * sin(v)';\n",
    "y = sin(u) * sin(v)';\n",
    "z = ones(n) * cos(v)';\n",
    "\n",
    "# The rstride and cstride arguments default to 10\n",
    "surf(x,y,z, rstride=4, cstride=4)"
   ]
  },
  {
   "cell_type": "markdown",
   "metadata": {
    "slideshow": {
     "slide_type": "subslide"
    }
   },
   "source": [
    "Because of this we see that if $\\mathbf{q}$ is an eigenvector of $A$, then since $\\nabla r(\\mathbf{q})=\\mathbf{0}$, and $r$ is smooth, we see that:\n",
    "\n",
    "$$\n",
    "r(\\mathbf{x})-r(\\mathbf{q}) = O\\left(\\|\\mathbf{x}-\\mathbf{q}\\|^2\\right),\\quad \\text{as } \\mathbf{x}\\to \\mathbf{q}.\n",
    "$$"
   ]
  },
  {
   "cell_type": "markdown",
   "metadata": {
    "slideshow": {
     "slide_type": "fragment"
    }
   },
   "source": [
    "Thus the Rayleigh quotient is a _quadratically accurate_ estimate of an eigenvalue!"
   ]
  },
  {
   "cell_type": "code",
   "execution_count": 2,
   "metadata": {
    "collapsed": false,
    "slideshow": {
     "slide_type": "subslide"
    }
   },
   "outputs": [
    {
     "name": "stdout",
     "output_type": "stream",
     "text": [
      "λ = [1.32487,2.46081,5.21432]\n"
     ]
    }
   ],
   "source": [
    "A = [2 1 1; \n",
    "     1 3 1; \n",
    "     1 1 4]\n",
    "(λ,X) = eig(A);\n",
    "@show λ;"
   ]
  },
  {
   "cell_type": "code",
   "execution_count": 3,
   "metadata": {
    "collapsed": false,
    "slideshow": {
     "slide_type": "fragment"
    }
   },
   "outputs": [
    {
     "data": {
      "text/plain": [
       "3×3 Array{Float64,2}:\n",
       "  0.88765   -0.233192  -0.397113\n",
       " -0.427132  -0.739239  -0.520657\n",
       " -0.172148   0.631781  -0.755789"
      ]
     },
     "execution_count": 3,
     "metadata": {},
     "output_type": "execute_result"
    }
   ],
   "source": [
    "X"
   ]
  },
  {
   "cell_type": "markdown",
   "metadata": {
    "slideshow": {
     "slide_type": "fragment"
    }
   },
   "source": [
    "The max of  $r(\\mathbf{v})$ is the third eigenvector of $A$ as computed above, and close to $(0.4,0.5,0.75)$."
   ]
  },
  {
   "cell_type": "code",
   "execution_count": 4,
   "metadata": {
    "collapsed": false,
    "slideshow": {
     "slide_type": "fragment"
    }
   },
   "outputs": [
    {
     "data": {
      "text/plain": [
       "0.02164672504409101"
      ]
     },
     "execution_count": 4,
     "metadata": {},
     "output_type": "execute_result"
    }
   ],
   "source": [
    "x = X[:,3];  \n",
    "v = [0.4;0.5;0.75];\n",
    "evec_err = norm(-x-v)"
   ]
  },
  {
   "cell_type": "code",
   "execution_count": 5,
   "metadata": {
    "collapsed": false,
    "slideshow": {
     "slide_type": "fragment"
    }
   },
   "outputs": [
    {
     "data": {
      "text/plain": [
       "0.0009521341230360747"
      ]
     },
     "execution_count": 5,
     "metadata": {},
     "output_type": "execute_result"
    }
   ],
   "source": [
    "eval_est = v'*A*v/(v'*v)\n",
    "eval_err = norm(eval_est-λ[3])"
   ]
  },
  {
   "cell_type": "markdown",
   "metadata": {
    "slideshow": {
     "slide_type": "slide"
    }
   },
   "source": [
    "### Power Iteration"
   ]
  },
  {
   "cell_type": "markdown",
   "metadata": {
    "slideshow": {
     "slide_type": "fragment"
    }
   },
   "source": [
    "Now that we can turn an eigenvector estimate into an (even better, in the hermitian case) eigenvalue estimate, we turn to finding such eigenvectors. Clearly, if $A=XDX^{-1}$ and $k$ is a positive integer, then  $A^k=XD^kX^{-1}$. That is,  $A$ and $A^k$ share the same eigenvectors, but the eigenvalues of  $A^k$ are raised to the  $k$-th power. \n",
    "\n",
    "Note that if there is an eigenvalue  $\\lambda_1$  such that  $|\\lambda_1|>|\\lambda_j|$ for all  $j>1$, the ratio  \n",
    "\n",
    "$$\\left|\\frac{\\lambda_j}{\\lambda_1}\\right|^k \\to 0, \\quad \\text{as } k\\to \\infty,$$ \n",
    "\n",
    "and in that case $A^k \\mathbf{v}$ is dominated by the eigenvector $\\mathbf{q}_1$ that belongs with $\\lambda_1$, for practically any vector $\\mathbf{v}$. This leads us to the **power iteration**."
   ]
  },
  {
   "cell_type": "code",
   "execution_count": 6,
   "metadata": {
    "collapsed": false,
    "slideshow": {
     "slide_type": "fragment"
    }
   },
   "outputs": [
    {
     "data": {
      "image/png": "[encoded data removed]",
      "text/plain": [
       "PyPlot.Figure(PyObject <matplotlib.figure.Figure object at 0x7f159e48c6d0>)"
      ]
     },
     "metadata": {},
     "output_type": "display_data"
    }
   ],
   "source": [
    "v = rand(3);\n",
    "evec_err = [];\n",
    "for k = 1:200\n",
    "    v = v/norm(v);\n",
    "    evec_err = [evec_err;min(norm(v-x),norm(v+x))];\n",
    "    v = A*v;\n",
    "end\n",
    "using PyPlot\n",
    "semilogy(evec_err,\".-\");"
   ]
  },
  {
   "cell_type": "markdown",
   "metadata": {
    "slideshow": {
     "slide_type": "subslide"
    }
   },
   "source": [
    "Since $A$ is symmetric, we should expect around 12 accurate digits in an eigenvalue estimate derived from a Rayleigh quotient with our final $\\mathbf{v}$."
   ]
  },
  {
   "cell_type": "code",
   "execution_count": 16,
   "metadata": {
    "collapsed": false,
    "slideshow": {
     "slide_type": "fragment"
    }
   },
   "outputs": [
    {
     "data": {
      "text/plain": [
       "1×1 Array{Float64,2}:\n",
       " 3.90799e-14"
      ]
     },
     "execution_count": 16,
     "metadata": {},
     "output_type": "execute_result"
    }
   ],
   "source": [
    "abs( v'*A*v/(v'*v) - λ[3] )"
   ]
  },
  {
   "cell_type": "markdown",
   "metadata": {
    "slideshow": {
     "slide_type": "slide"
    }
   },
   "source": [
    "### Inverse Iteration"
   ]
  },
  {
   "cell_type": "markdown",
   "metadata": {
    "slideshow": {
     "slide_type": "fragment"
    }
   },
   "source": [
    "If $\\lambda_J$ is an eigenvalue of $A$, then  $(\\lambda_J-\\mu)^{-1}$ is an eigenvalue of $(A-\\mu I)^{-1}$, with the _same_ eigenvector. \n",
    "\n",
    "If $\\mu$ is closer to $\\lambda_J$ than to any other $\\lambda_j$, a power iteration on $(A-\\mu I)^{-1}$ should converge very quickly — because $(\\lambda_J-\\mu)^{-1}$ will be much larger than any other eigenvalue. \n",
    "\n",
    "This amounts to repeatedly solving a linear system with the matrix $(A-\\mu I)$."
   ]
  },
  {
   "cell_type": "code",
   "execution_count": 8,
   "metadata": {
    "collapsed": false,
    "slideshow": {
     "slide_type": "fragment"
    }
   },
   "outputs": [
    {
     "data": {
      "image/png": "[encoded data removed]",
      "text/plain": [
       "PyPlot.Figure(PyObject <matplotlib.figure.Figure object at 0x7f159ddfb490>)"
      ]
     },
     "metadata": {},
     "output_type": "display_data"
    }
   ],
   "source": [
    "for μ = [4 4.5 5.1]\n",
    "    LU = lufact(A-μ*eye(3));\n",
    "    v = rand(3,1);\n",
    "    for k = 1:20\n",
    "        v = v/norm(v);\n",
    "        evec_err[k] = min(norm(v-x),norm(v+x));\n",
    "        v = LU\\v;\n",
    "    end\n",
    "    semilogy(evec_err,\".-\")\n",
    "end"
   ]
  },
  {
   "cell_type": "markdown",
   "metadata": {
    "slideshow": {
     "slide_type": "subslide"
    }
   },
   "source": [
    "> ** THEOREM. ** Suppose $\\lambda_J$ is the closest eigenvalue to $\\mu$ and $\\lambda_K$ is the second closest, that is $|\\mu - \\lambda_J|<|\\mu-\\lambda_K|\\leq |\\mu-\\lambda_j|$ for each $j\\ne J$.  Furthermore, suppose $\\mathbf{q}_J^\\top \\mathbf{v}^{(0)} \\ne 0$.  Then the iterates of the above algorithm satisfy:\n",
    "$$\\|\\mathbf{v}^{(k)} - (\\pm \\mathbf{q}_J)\\| = O \\left(\\left|\\frac{\\mu-\\lambda_J}{\\mu-\\lambda_K}\\right|^k\\right), \\quad \\|\\lambda^{(k)} - \\lambda_J | = O\\left(\\left|\\frac{\\mu-\\lambda_J}{\\mu-\\lambda_K}\\right|^{2k}\\right)$$ as $k\\to \\infty$, where the $\\pm$ sign has the same meaning as before."
   ]
  },
  {
   "cell_type": "markdown",
   "metadata": {
    "slideshow": {
     "slide_type": "slide"
    }
   },
   "source": [
    "### Rayleigh Quotient Iteration"
   ]
  },
  {
   "cell_type": "markdown",
   "metadata": {
    "slideshow": {
     "slide_type": "fragment"
    }
   },
   "source": [
    "The coup de grâce: a better shift means a better eigenvector estimate, which means a better eigenvalue estimate, which is an even better shift, etc. This feedback loop causes cubic convergence in the hermitian case, which is rare — and fast! It's so fast that we pretty well need extended precision to see it."
   ]
  },
  {
   "cell_type": "code",
   "execution_count": 9,
   "metadata": {
    "collapsed": false,
    "slideshow": {
     "slide_type": "fragment"
    }
   },
   "outputs": [
    {
     "name": "stdout",
     "output_type": "stream",
     "text": [
      "error in eigenvalue estimates: \n",
      "-0.214319743377535187415497700848580488907919637219499434331382\n",
      "-0.001204989279174531677792782815793603662017997875237139249415\n",
      "-0.000000000193503356367044172259691163055391791912161044219824\n",
      "-0.000000000000000000000000000000862716756381603567636210700617\n",
      "0.000000000000000000000000000000000000000000000000000000000000\n"
     ]
    }
   ],
   "source": [
    "A = map(x->convert(BigFloat,x),A);\n",
    "v = map(x->convert(BigFloat,x),ones(3));\n",
    "μ = [];\n",
    "for k = 1:5\n",
    "    v = v/norm(v);\n",
    "    μ = [μ; dot(v,A*v)]; \n",
    "    v = (A-μ[k]*eye(3))\\v;    \n",
    "end\n",
    "println(\"error in eigenvalue estimates: \");\n",
    "[@printf(\"%.60f\\n\",μ[i]-μ[end]) for i=1:5];"
   ]
  },
  {
   "cell_type": "code",
   "execution_count": null,
   "metadata": {
    "collapsed": true
   },
   "outputs": [],
   "source": []
  }
 ],
 "metadata": {
  "celltoolbar": "Slideshow",
  "kernelspec": {
   "display_name": "Julia 0.5.0",
   "language": "julia",
   "name": "julia-0.5"
  },
  "language_info": {
   "file_extension": ".jl",
   "mimetype": "application/julia",
   "name": "julia",
   "version": "0.5.0"
  }
 },
 "nbformat": 4,
 "nbformat_minor": 0
}
