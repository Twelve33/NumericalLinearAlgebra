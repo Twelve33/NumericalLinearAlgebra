{
 "cells": [
  {
   "cell_type": "markdown",
   "metadata": {
    "slideshow": {
     "slide_type": "slide"
    }
   },
   "source": [
    "# Singular Value Decomposition"
   ]
  },
  {
   "cell_type": "markdown",
   "metadata": {
    "slideshow": {
     "slide_type": "slide"
    }
   },
   "source": [
    "### Singular Value Decomposition"
   ]
  },
  {
   "cell_type": "markdown",
   "metadata": {
    "slideshow": {
     "slide_type": "fragment"
    }
   },
   "source": [
    "Recall from last time that a _singular value decomposition_ (SVD) of a matrix $M$ is a matrix factorization of the form:\n",
    "\n",
    "$$M = U \\Sigma V^*,$$\n",
    "\n",
    "where both $U$ and $V$ are unitary, and $\\Sigma$ is diagonal."
   ]
  },
  {
   "cell_type": "markdown",
   "metadata": {
    "slideshow": {
     "slide_type": "subslide"
    }
   },
   "source": [
    "![SVD](https://upload.wikimedia.org/wikipedia/commons/thumb/b/bb/Singular-Value-Decomposition.svg/512px-Singular-Value-Decomposition.svg.png)"
   ]
  },
  {
   "cell_type": "markdown",
   "metadata": {
    "slideshow": {
     "slide_type": "fragment"
    }
   },
   "source": [
    "In this lecture we want to investigate what the SVD tells us about linear transformations."
   ]
  },
  {
   "cell_type": "markdown",
   "metadata": {
    "slideshow": {
     "slide_type": "slide"
    }
   },
   "source": [
    "### The anatomy of the SVD"
   ]
  },
  {
   "cell_type": "markdown",
   "metadata": {
    "slideshow": {
     "slide_type": "fragment"
    }
   },
   "source": [
    "> **THEOREM.**  \n",
    "- The columns of $U$ form an orthonormal basis of $N(M^*)\\oplus C(M)$.\n",
    "- The columns of $V$ form an orthonormal basis of $N(M)\\oplus C(M^*)$."
   ]
  },
  {
   "cell_type": "markdown",
   "metadata": {
    "slideshow": {
     "slide_type": "subslide"
    }
   },
   "source": [
    "**Proof.**\n",
    "\n",
    "For any $\\mathbf{b}\\in \\mathbb{C}^m$ and any $\\mathbf{x}\\in \\mathbb{C}^m$, we write these in terms of the singular vector basis: \n",
    "\n",
    "$$\\mathbf{b}^\\prime = U^* \\mathbf{b},\\quad \\mathbf{x}^\\prime =V^* \\mathbf{x}.$$"
   ]
  },
  {
   "cell_type": "markdown",
   "metadata": {
    "slideshow": {
     "slide_type": "fragment"
    }
   },
   "source": [
    "Observe:\n",
    "$$\\mathbf{b} = M \\mathbf{x},\\ \\Longleftrightarrow\\ U^*\\mathbf{b}=U^*M\\mathbf{x} = U^*U\\Sigma V^* \\mathbf{x} \\ \\Longleftrightarrow \\ \\mathbf{b}^\\prime = \\Sigma\\mathbf{x}^\\prime$$"
   ]
  },
  {
   "cell_type": "markdown",
   "metadata": {
    "slideshow": {
     "slide_type": "fragment"
    }
   },
   "source": [
    "This shows that $A$ reduces to a diagonal matrix when the range is expressed as the columns of $U$ and the domain is expressed as the columns of $V$."
   ]
  },
  {
   "cell_type": "markdown",
   "metadata": {
    "slideshow": {
     "slide_type": "slide"
    }
   },
   "source": [
    "### Rank-Nullity Theorem"
   ]
  },
  {
   "cell_type": "markdown",
   "metadata": {
    "slideshow": {
     "slide_type": "fragment"
    }
   },
   "source": [
    "> **COROLLARY.** \n",
    "- The rank of $M$ is the number of nonzero singular values (counted with multiplicity).\n",
    "- The nullity of $M$ is the number of columns of $V$ minus $r_T$."
   ]
  },
  {
   "cell_type": "markdown",
   "metadata": {
    "slideshow": {
     "slide_type": "subslide"
    }
   },
   "source": [
    "> **COROLLARY. [_Rank-Nullity_]** \n",
    "For $T: V\\to W$, we have: $$r_T+n_T=\\dim W.$$"
   ]
  },
  {
   "cell_type": "markdown",
   "metadata": {
    "slideshow": {
     "slide_type": "fragment"
    }
   },
   "source": [
    "**Proof.**\n",
    "\n",
    "We can choose bases such that $T$ is representend by the diagonal matrix $\\Sigma$.  By the previous Corollary:\n",
    "\n",
    "$$r_T+n_T =  \\text{# columns in $\\Sigma$} = \\dim W$$ "
   ]
  },
  {
   "cell_type": "markdown",
   "metadata": {
    "slideshow": {
     "slide_type": "subslide"
    }
   },
   "source": [
    "![RankNullity](https://upload.wikimedia.org/wikipedia/commons/thumb/f/fa/The_four_subspaces.svg/600px-The_four_subspaces.svg.png)"
   ]
  },
  {
   "cell_type": "code",
   "execution_count": 1,
   "metadata": {
    "collapsed": false,
    "slideshow": {
     "slide_type": "subslide"
    }
   },
   "outputs": [
    {
     "data": {
      "text/plain": [
       "((\n",
       "3x3 Array{Float64,2}:\n",
       " -0.206736  -0.889153   0.408248\n",
       " -0.518289  -0.254382  -0.816497\n",
       " -0.829842   0.38039    0.408248,\n",
       "\n",
       "[25.436835633480243,1.7226122475210637,5.140375154629761e-16],\n",
       "4x3 Array{Float64,2}:\n",
       " -0.403618   0.732866   0.445272 \n",
       " -0.464744   0.28985   -0.831432 \n",
       " -0.525871  -0.153167   0.327048 \n",
       " -0.586997  -0.596183   0.0591117),2,\n",
       "4x2 Array{Float64,2}:\n",
       "  0.445272    0.318956 \n",
       " -0.831432   -0.0933893\n",
       "  0.327048   -0.770091 \n",
       "  0.0591117   0.544523 )"
      ]
     },
     "execution_count": 1,
     "metadata": {},
     "output_type": "execute_result"
    }
   ],
   "source": [
    "M = [1 2 3 4; 5 6 7 8; 9 10 11 12]\n",
    "svd(M), rank(M), nullspace(M)"
   ]
  },
  {
   "cell_type": "markdown",
   "metadata": {
    "slideshow": {
     "slide_type": "slide"
    }
   },
   "source": [
    "### Norms and singular values"
   ]
  },
  {
   "cell_type": "markdown",
   "metadata": {
    "slideshow": {
     "slide_type": "fragment"
    }
   },
   "source": [
    "> **THEOREM.** $\\|M\\|_2=\\sigma_1$ and $\\|M\\|_F = \\sqrt{\\sigma_1^2+\\cdots+ \\sigma_r^2}$."
   ]
  },
  {
   "cell_type": "markdown",
   "metadata": {
    "slideshow": {
     "slide_type": "fragment"
    }
   },
   "source": [
    "> **Proof.** Since $M=U\\Sigma V^*$, with $U, V$ unitary, we see:\n",
    "\n",
    "\\begin{align}\n",
    "\\|M\\|_2 &= \\|U\\Sigma V^*\\|_2  = \\max_{1\\leq i\\leq r}\\{|\\sigma_i|\\}=\\sigma_1.\\\\\n",
    "\\|M\\|_F &= \\|U\\Sigma V^*\\|_F =  \\|\\Sigma\\|_F = \\sqrt{\\sigma_1^2+\\cdots +\\sigma_r^2}.\n",
    "\\end{align}"
   ]
  },
  {
   "cell_type": "code",
   "execution_count": 2,
   "metadata": {
    "collapsed": false,
    "slideshow": {
     "slide_type": "subslide"
    }
   },
   "outputs": [
    {
     "data": {
      "text/plain": [
       "(14.22740741263374,14.2828568570857)"
      ]
     },
     "execution_count": 2,
     "metadata": {},
     "output_type": "execute_result"
    }
   ],
   "source": [
    "M = [1 2 3 4; 5 6 7 8]\n",
    "norm(M), vecnorm(M)"
   ]
  },
  {
   "cell_type": "code",
   "execution_count": 3,
   "metadata": {
    "collapsed": false,
    "slideshow": {
     "slide_type": "fragment"
    }
   },
   "outputs": [
    {
     "data": {
      "text/plain": [
       "14.2828568570857"
      ]
     },
     "execution_count": 3,
     "metadata": {},
     "output_type": "execute_result"
    }
   ],
   "source": [
    "U,S,V=svd(M)\n",
    "sqrt(S[1]^2+S[2]^2)"
   ]
  },
  {
   "cell_type": "markdown",
   "metadata": {
    "slideshow": {
     "slide_type": "slide"
    }
   },
   "source": [
    "### Relationship between eigenvalues and singular values"
   ]
  },
  {
   "cell_type": "markdown",
   "metadata": {
    "slideshow": {
     "slide_type": "fragment"
    }
   },
   "source": [
    "> **THEOREM.** The nonzero singular values of $M$ are the square roots of the nonzero eigenvalues of $M^*M$ or $MM^*$."
   ]
  },
  {
   "cell_type": "markdown",
   "metadata": {
    "slideshow": {
     "slide_type": "fragment"
    }
   },
   "source": [
    "**Proof.**\n",
    "\n",
    "$$M^*M= (U\\Sigma V^*)^* (U\\Sigma V^*) = V\\Sigma^* U^* U \\Sigma V^* = V(\\Sigma^* \\Sigma)V^*.$$\n",
    "\n",
    "Thus $M^*M$ is similar to a matrix with eigenvalues $\\{\\sigma_i^2\\}$."
   ]
  },
  {
   "cell_type": "code",
   "execution_count": 4,
   "metadata": {
    "collapsed": false,
    "slideshow": {
     "slide_type": "subslide"
    }
   },
   "outputs": [
    {
     "data": {
      "text/plain": [
       "([1.5808783149344627,202.41912168506553],[-3.579818844880902e-15,9.908090085244154e-15,1.5808783149344634,202.41912168506553])"
      ]
     },
     "execution_count": 4,
     "metadata": {},
     "output_type": "execute_result"
    }
   ],
   "source": [
    "eigvals(M*M'), eigvals(M'*M)"
   ]
  },
  {
   "cell_type": "code",
   "execution_count": 5,
   "metadata": {
    "collapsed": false,
    "slideshow": {
     "slide_type": "fragment"
    }
   },
   "outputs": [
    {
     "data": {
      "text/plain": [
       "2x2 Array{Float64,2}:\n",
       " 202.419   17.8885 \n",
       "  17.8885   1.58088"
      ]
     },
     "execution_count": 5,
     "metadata": {},
     "output_type": "execute_result"
    }
   ],
   "source": [
    "svdvals(M)*svdvals(M)'"
   ]
  },
  {
   "cell_type": "markdown",
   "metadata": {
    "slideshow": {
     "slide_type": "subslide"
    }
   },
   "source": [
    "> **THEOREM.** If $M=M^*$ is Hermitian, the the singular values of $M$ are the absolute values of the eigenvalues of $M$."
   ]
  },
  {
   "cell_type": "markdown",
   "metadata": {
    "slideshow": {
     "slide_type": "fragment"
    }
   },
   "source": [
    "**Proof.**\n",
    "\n",
    "Since $M$ is Hermitian, the Spectral Theorem applies:\n",
    "\n",
    "$$M=Q\\cdot \\Lambda \\cdot Q^* = Q\\cdot |\\Lambda|\\cdot \\left(\\text{sign}(\\Lambda)\\cdot Q^*\\right)$$\n",
    "\n",
    "where $|\\Lambda|$ denotes the diagonal matrix with $|\\lambda_i|$ as its $i$-th entry, and $\\text{sign}(\\Lambda)$ is the diagonal matrix with $\\text{sign}(\\lambda_i)$ as its $i$-th entry.  Notice that if $Q$ is unitary so is $\\text{sign}(\\Lambda)\\cdot Q^*$."
   ]
  },
  {
   "cell_type": "code",
   "execution_count": 6,
   "metadata": {
    "collapsed": false,
    "slideshow": {
     "slide_type": "subslide"
    }
   },
   "outputs": [
    {
     "data": {
      "text/plain": [
       "([-0.879385241571817,1.347296355333861,2.532088886237955],[2.5320888862379562,1.3472963553338608,0.8793852415718167])"
      ]
     },
     "execution_count": 6,
     "metadata": {},
     "output_type": "execute_result"
    }
   ],
   "source": [
    "M = [1 0 1; 0 2 1; 1 1 0]\n",
    "e, s = eigvals(M), svdvals(M)"
   ]
  },
  {
   "cell_type": "markdown",
   "metadata": {
    "slideshow": {
     "slide_type": "subslide"
    }
   },
   "source": [
    "> **THEOREM.** For a square matrix $M$, $|\\det(M)|=\\prod_{i=1}^m \\sigma_i$."
   ]
  },
  {
   "cell_type": "markdown",
   "metadata": {
    "slideshow": {
     "slide_type": "fragment"
    }
   },
   "source": [
    "**Proof.**\n",
    "\n",
    "$$|\\det(M)| = |\\det(U)|\\cdot|\\det(\\Sigma)|\\cdot |\\det(V^*)| =|\\det(\\Sigma)|=\\prod_{i=1}^m \\sigma_i.$$"
   ]
  },
  {
   "cell_type": "code",
   "execution_count": 7,
   "metadata": {
    "collapsed": false,
    "slideshow": {
     "slide_type": "fragment"
    }
   },
   "outputs": [
    {
     "data": {
      "text/plain": [
       "(-3.0,3.0000000000000004)"
      ]
     },
     "execution_count": 7,
     "metadata": {},
     "output_type": "execute_result"
    }
   ],
   "source": [
    "S = reshape(s, (3,1))\n",
    "det(M), cumprod(S)[3]"
   ]
  },
  {
   "cell_type": "markdown",
   "metadata": {
    "slideshow": {
     "slide_type": "slide"
    }
   },
   "source": [
    "### Low-Rank Approximations"
   ]
  },
  {
   "cell_type": "markdown",
   "metadata": {
    "slideshow": {
     "slide_type": "fragment"
    }
   },
   "source": [
    "> **THEOREM.**  $M$ is a sum of $r$ rank-one matrices: $$M=\\sum_{j=1}^r \\sigma_j \\mathbf{u_j} \\mathbf{v}_j^*.$$"
   ]
  },
  {
   "cell_type": "markdown",
   "metadata": {
    "slideshow": {
     "slide_type": "subslide"
    }
   },
   "source": [
    "> **THEOREM.** For any $v$ with $0\\leq v \\leq r$, define: \n",
    "$$M_v=  \\sum_{j=1}^v \\sigma_j \\mathbf{u}_j\\mathbf{v}_j^*;$$ \n",
    "if $v=p=\\min{m,n}$, define $\\sigma_{v+1}=0$.  Then: \n",
    "- $$\\|M-M_v\\|_2 = \\inf_{\\begin{array}{c}N\\in \\mathbb{C}^{m\\times n} \\\\\\mathrm{rank}(N)\\leq v\\end{array}} \\|M-N\\|_2 =\\sigma_{v+1}.$$\n",
    "- $$\\|M-M_v\\|_F = \\inf_{\\begin{array}{c}N\\in \\mathbb{C}^{m\\times n} \\\\\\mathrm{rank}(N)\\leq v\\end{array}} \\|M-N\\|_F =\\sqrt{\\sigma_{v+1}^2+\\cdots + \\sigma_r^2}.$$"
   ]
  },
  {
   "cell_type": "markdown",
   "metadata": {
    "slideshow": {
     "slide_type": "subslide"
    }
   },
   "source": [
    "### Low-Rank Approximations"
   ]
  },
  {
   "cell_type": "markdown",
   "metadata": {
    "slideshow": {
     "slide_type": "fragment"
    }
   },
   "source": [
    "> *Question:* What is the best approximation of a hyperellipsoid by a line segment?"
   ]
  },
  {
   "cell_type": "markdown",
   "metadata": {
    "slideshow": {
     "slide_type": "fragment"
    }
   },
   "source": [
    "> *Answer:* Take the line segment to be the longest axis."
   ]
  },
  {
   "cell_type": "markdown",
   "metadata": {
    "slideshow": {
     "slide_type": "fragment"
    }
   },
   "source": [
    "> *Question:* What is the best approximation by a two-dimensional ellipsoid?"
   ]
  },
  {
   "cell_type": "markdown",
   "metadata": {
    "slideshow": {
     "slide_type": "fragment"
    }
   },
   "source": [
    "> *Answer:* Take the ellipsoid spanned by the longest and second-longest axes."
   ]
  },
  {
   "cell_type": "markdown",
   "metadata": {
    "slideshow": {
     "slide_type": "slide"
    }
   },
   "source": [
    "### Applications: Topic Modelling"
   ]
  },
  {
   "cell_type": "markdown",
   "metadata": {
    "slideshow": {
     "slide_type": "fragment"
    }
   },
   "source": [
    "Topic modeling aims to learn the thematic structure of a text corpus automatically. "
   ]
  },
  {
   "cell_type": "markdown",
   "metadata": {
    "slideshow": {
     "slide_type": "fragment"
    }
   },
   "source": [
    "$$\\begin{array}{ccccccccc|l}\\text{singer} & \\text{GDP} & \\text{Trump} & \\text{election} & \\text{moron} &\\text{stock}& \\text{bass} & \\text{market} & \\text{band} & \\text{Articles}\\\\\\hline\n",
    "6 & 1 & 1 & 0 & 0 & 1 & 9 & 0 & 9 & a\\\\ 1 & 0 & 9 & 5 & 8 & 1 &0&1&0 & b\\\\ 8&1&0&1&0&0&9&1&7& c\\\\0&7&1&0&0&9&1&7&0& d\\\\ 0&5&6&7&5&6&0&7&2 & e\\\\1&0&8&5&9&2&0&0&1& f\\end{array}$$"
   ]
  },
  {
   "cell_type": "code",
   "execution_count": 8,
   "metadata": {
    "collapsed": false,
    "slideshow": {
     "slide_type": "slide"
    }
   },
   "outputs": [
    {
     "data": {
      "text/plain": [
       "6x9 Array{Int64,2}:\n",
       " 6  1  1  0  0  1  9  0  8\n",
       " 1  0  9  5  8  1  0  1  0\n",
       " 8  1  0  1  0  0  9  1  7\n",
       " 0  7  1  0  0  9  1  7  0\n",
       " 0  5  6  7  5  6  0  7  2\n",
       " 1  0  8  5  9  2  0  0  1"
      ]
     },
     "execution_count": 8,
     "metadata": {},
     "output_type": "execute_result"
    }
   ],
   "source": [
    "M = [6 1 1 0 0 1 9 0 8; 1 0 9 5 8 1 0 1 0; 8 1 0 1 0 0 9 1 7; 0 7 1 0 0 9 1 7 0; 0 5 6 7 5 6 0 7 2; 1 0 8 5 9 2 0 0 1]"
   ]
  },
  {
   "cell_type": "code",
   "execution_count": 9,
   "metadata": {
    "collapsed": false,
    "slideshow": {
     "slide_type": "subslide"
    }
   },
   "outputs": [
    {
     "data": {
      "text/plain": [
       "6x9 Array{Float64,2}:\n",
       "  2.90741  -2.09259  -2.09259  -3.09259  …   5.90741  -3.09259   4.90741\n",
       " -2.09259  -3.09259   5.90741   1.90741     -3.09259  -2.09259  -3.09259\n",
       "  4.90741  -2.09259  -3.09259  -2.09259      5.90741  -2.09259   3.90741\n",
       " -3.09259   3.90741  -2.09259  -3.09259     -2.09259   3.90741  -3.09259\n",
       " -3.09259   1.90741   2.90741   3.90741     -3.09259   3.90741  -1.09259\n",
       " -2.09259  -3.09259   4.90741   1.90741  …  -3.09259  -3.09259  -2.09259"
      ]
     },
     "execution_count": 9,
     "metadata": {},
     "output_type": "execute_result"
    }
   ],
   "source": [
    "N = reshape(M, 1, 54)\n",
    "m = mean(N)\n",
    "R = m*ones(6,9)\n",
    "T = M-R "
   ]
  },
  {
   "cell_type": "code",
   "execution_count": 10,
   "metadata": {
    "collapsed": false,
    "slideshow": {
     "slide_type": "subslide"
    }
   },
   "outputs": [
    {
     "data": {
      "text/plain": [
       "(\n",
       "6x6 Array{Float64,2}:\n",
       " -0.508265   0.191223   0.142117   0.777555   -0.0338885   0.281359\n",
       "  0.395648   0.451622   0.271247   0.0639653   0.727227    0.181591\n",
       " -0.535702   0.193766  -0.088862  -0.107872    0.390873   -0.70934 \n",
       "  0.114155  -0.686015   0.584552   0.245328    0.193597   -0.277464\n",
       "  0.377549  -0.195262  -0.686929   0.511127    0.184207   -0.228637\n",
       "  0.377597   0.461717   0.291134   0.241337   -0.495782   -0.505408,\n",
       "\n",
       "[19.315869814492267,14.464044158410662,4.985585627382442,2.7743977246887277,1.674875102363549,0.931173205656085],\n",
       "9x6 Array{Float64,2}:\n",
       " -0.375099   0.160469  -0.177133   -0.44946     0.0996694  -0.451276\n",
       "  0.049672  -0.462056  -0.175873   -0.148511   -0.211938    0.404602\n",
       "  0.402228   0.332009  -0.0425048   0.447445    0.510826    0.121673\n",
       "  0.273866   0.145454  -0.736676   -0.129077   -0.0899298  -0.041578\n",
       "  0.402151   0.380416  -0.0464869  -0.0415399  -0.42472    -0.374751\n",
       "  0.168352  -0.488743   0.109861    0.448482   -0.261977   -0.565623\n",
       " -0.515894   0.102953  -0.104993    0.330824    0.249746   -0.256801\n",
       "  0.13556   -0.471052  -0.425538   -0.0372561   0.462457   -0.193614\n",
       " -0.381383   0.115291  -0.43227     0.495347   -0.388405    0.228719)"
      ]
     },
     "execution_count": 10,
     "metadata": {},
     "output_type": "execute_result"
    }
   ],
   "source": [
    "U,S,V = svd(T)"
   ]
  },
  {
   "cell_type": "code",
   "execution_count": 11,
   "metadata": {
    "collapsed": false,
    "slideshow": {
     "slide_type": "subslide"
    }
   },
   "outputs": [
    {
     "data": {
      "text/plain": [
       "(\n",
       "6x3 Array{Float64,2}:\n",
       " -0.508265   0.191223   0.142117\n",
       "  0.395648   0.451622   0.271247\n",
       " -0.535702   0.193766  -0.088862\n",
       "  0.114155  -0.686015   0.584552\n",
       "  0.377549  -0.195262  -0.686929\n",
       "  0.377597   0.461717   0.291134,\n",
       "\n",
       "9x3 Array{Float64,2}:\n",
       " -0.375099   0.160469  -0.177133 \n",
       "  0.049672  -0.462056  -0.175873 \n",
       "  0.402228   0.332009  -0.0425048\n",
       "  0.273866   0.145454  -0.736676 \n",
       "  0.402151   0.380416  -0.0464869\n",
       "  0.168352  -0.488743   0.109861 \n",
       " -0.515894   0.102953  -0.104993 \n",
       "  0.13556   -0.471052  -0.425538 \n",
       " -0.381383   0.115291  -0.43227  )"
      ]
     },
     "execution_count": 11,
     "metadata": {},
     "output_type": "execute_result"
    }
   ],
   "source": [
    "U[:,1:3], V[:,1:3]"
   ]
  },
  {
   "cell_type": "markdown",
   "metadata": {
    "slideshow": {
     "slide_type": "fragment"
    }
   },
   "source": [
    "Interpreting this is difficult because of the negative signs.   We need a _nonnegative matrix factorization_ to approximate these by matrices with nonnegative entries."
   ]
  },
  {
   "cell_type": "markdown",
   "metadata": {
    "slideshow": {
     "slide_type": "slide"
    }
   },
   "source": [
    "### K-means Clustering via SVD"
   ]
  },
  {
   "cell_type": "code",
   "execution_count": 12,
   "metadata": {
    "collapsed": false,
    "slideshow": {
     "slide_type": "fragment"
    }
   },
   "outputs": [
    {
     "name": "stderr",
     "output_type": "stream",
     "text": [
      "INFO: Precompiling module Clustering.\n"
     ]
    },
    {
     "ename": "LoadError",
     "evalue": "LoadError: ArgumentError: module RDatasets not found in current path.\nRun `Pkg.add(\"RDatasets\")` to install the RDatasets package.\nwhile loading In[12], in expression starting on line 1",
     "output_type": "error",
     "traceback": [
      "LoadError: ArgumentError: module RDatasets not found in current path.\nRun `Pkg.add(\"RDatasets\")` to install the RDatasets package.\nwhile loading In[12], in expression starting on line 1",
      "",
      " in require at ./loading.jl:246"
     ]
    }
   ],
   "source": [
    "using Clustering, RDatasets\n",
    "\n",
    "xclara = dataset(\"cluster\", \"xclara\")\n",
    "names!(xclara, [symbol(i) for i in [\"x\", \"y\"]])"
   ]
  },
  {
   "cell_type": "code",
   "execution_count": null,
   "metadata": {
    "collapsed": false,
    "slideshow": {
     "slide_type": "subslide"
    }
   },
   "outputs": [
    {
     "name": "stderr",
     "output_type": "stream",
     "text": [
      "INFO: Precompiling module Gadfly.\n",
      "WARNING: New definition \n",
      "    color_discrete_manual(ColorTypes.Color...) at /home/juser/.julia/v0.4/Gadfly/src/scale.jl:542\n",
      "is ambiguous with: \n",
      "    color_discrete_manual(AbstractString...) at /home/juser/.julia/v0.4/Gadfly/src/scale.jl:539.\n",
      "To fix, define \n",
      "    color_discrete_manual()\n",
      "before the new definition.\n",
      "WARNING: New definition \n",
      "    color_discrete_manual(Array, ColorTypes.Color...)\n",
      "is ambiguous with: \n",
      "    color_discrete_manual(Array, AbstractString...).\n",
      "To fix, define \n",
      "    color_discrete_manual(Array)\n",
      "before the new definition.\n"
     ]
    }
   ],
   "source": [
    "using Gadfly\n",
    "plot(xclara, x=\"x\", y=\"y\", Geom.point)"
   ]
  },
  {
   "cell_type": "code",
   "execution_count": null,
   "metadata": {
    "collapsed": false,
    "slideshow": {
     "slide_type": "subslide"
    }
   },
   "outputs": [],
   "source": [
    "xclara2 = convert(Array, xclara);\n",
    "xclara2 = xclara2'"
   ]
  },
  {
   "cell_type": "code",
   "execution_count": null,
   "metadata": {
    "collapsed": false,
    "slideshow": {
     "slide_type": "fragment"
    }
   },
   "outputs": [],
   "source": [
    "initseeds(:rand, xclara2, 3)"
   ]
  },
  {
   "cell_type": "code",
   "execution_count": null,
   "metadata": {
    "collapsed": false,
    "slideshow": {
     "slide_type": "subslide"
    }
   },
   "outputs": [],
   "source": [
    "xclara_kmeans = kmeans(xclara2, 3)"
   ]
  },
  {
   "cell_type": "code",
   "execution_count": null,
   "metadata": {
    "collapsed": false,
    "slideshow": {
     "slide_type": "fragment"
    }
   },
   "outputs": [],
   "source": [
    "plot(xclara, x = \"x\", y = \"y\", color = xclara_kmeans.assignments, Geom.point)"
   ]
  },
  {
   "cell_type": "markdown",
   "metadata": {
    "slideshow": {
     "slide_type": "slide"
    }
   },
   "source": [
    "### Another Clustering Example"
   ]
  },
  {
   "cell_type": "code",
   "execution_count": null,
   "metadata": {
    "collapsed": false,
    "slideshow": {
     "slide_type": "fragment"
    }
   },
   "outputs": [],
   "source": [
    "iris = dataset(\"datasets\", \"iris\")\n",
    "head(iris)\n",
    "\n",
    "features = convert(Array,iris[:, 1:4])'\n",
    "result = kmeans( features, 3 ) \n",
    "\n",
    "plot(iris, x = \"PetalLength\", y = \"PetalWidth\", color = result.assignments, Geom.point)"
   ]
  },
  {
   "cell_type": "markdown",
   "metadata": {
    "slideshow": {
     "slide_type": "slide"
    }
   },
   "source": [
    "### Image Compression with SVD"
   ]
  },
  {
   "cell_type": "code",
   "execution_count": null,
   "metadata": {
    "collapsed": false,
    "slideshow": {
     "slide_type": "fragment"
    }
   },
   "outputs": [],
   "source": [
    "using TestImages, Images, ImageView\n",
    "img = testimage(\"cameraman\")"
   ]
  },
  {
   "cell_type": "code",
   "execution_count": null,
   "metadata": {
    "collapsed": false,
    "slideshow": {
     "slide_type": "subslide"
    }
   },
   "outputs": [],
   "source": [
    "A = convert(Array, img)\n",
    "U,s,V = svd(A)\n",
    "S=diagm(s)\n",
    "n = 100\n",
    "IMG = V[:,1:n]*S[1:n,1:n]*U[:,1:n]'\n",
    "image = shareproperties(img,IMG)"
   ]
  },
  {
   "cell_type": "code",
   "execution_count": null,
   "metadata": {
    "collapsed": false,
    "slideshow": {
     "slide_type": "subslide"
    }
   },
   "outputs": [],
   "source": [
    "using Gadfly\n",
    "plot(x=collect(1:512),y=s, Geom.line)"
   ]
  },
  {
   "cell_type": "code",
   "execution_count": null,
   "metadata": {
    "collapsed": true
   },
   "outputs": [],
   "source": []
  }
 ],
 "metadata": {
  "celltoolbar": "Slideshow",
  "kernelspec": {
   "display_name": "Julia 0.4.7",
   "language": "julia",
   "name": "julia-0.4"
  },
  "language_info": {
   "file_extension": ".jl",
   "mimetype": "application/julia",
   "name": "julia",
   "version": "0.4.7"
  }
 },
 "nbformat": 4,
 "nbformat_minor": 0
}
