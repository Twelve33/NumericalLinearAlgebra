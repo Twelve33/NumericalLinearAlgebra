{
 "cells": [
  {
   "cell_type": "markdown",
   "metadata": {
    "slideshow": {
     "slide_type": "slide"
    }
   },
   "source": [
    "# Arnoldi iteration"
   ]
  },
  {
   "cell_type": "markdown",
   "metadata": {
    "slideshow": {
     "slide_type": "slide"
    }
   },
   "source": [
    "## Arnoldi iteration"
   ]
  },
  {
   "cell_type": "markdown",
   "metadata": {
    "slideshow": {
     "slide_type": "fragment"
    }
   },
   "source": [
    "Suppose  $A\\in\\mathbb{C}^{m\\times m}$ and $\\mathbf{b}\\in\\mathbb{C}^{m}$ are given. The  $n$-th **Krylov subspace** $\\mathcal{K}_n$  is the range of a certain $m\\times n$ matrix, the **Krylov matrix** $K_n$:"
   ]
  },
  {
   "cell_type": "markdown",
   "metadata": {
    "slideshow": {
     "slide_type": "fragment"
    }
   },
   "source": [
    "$$\n",
    "\\mathcal{K}_n = \\langle \\mathbf{b}, A \\mathbf{b}, \\dots, A^{n-1}\\mathbf{b}\\rangle = \\langle \\mathbf{q}_1, \\mathbf{q}_2,\\dots, \\mathbf{q}_n\\rangle\\subseteq \\mathbb{C}^m.$$\n",
    "\n",
    "$$\n",
    "K_n = \\left[\\mathbf{b}\\mid A \\mathbf{b}\\mid  \\cdots \\mid A^{n-1}\\mathbf{b}\\right] = Q_n R_n.\n",
    "$$"
   ]
  },
  {
   "cell_type": "code",
   "execution_count": 17,
   "metadata": {
    "collapsed": false,
    "slideshow": {
     "slide_type": "fragment"
    }
   },
   "outputs": [],
   "source": [
    "A = randn(500,500);\n",
    "b = ones(500,1);\n",
    "K = b;\n",
    "n = 10;\n",
    "for j = 1:n-1\n",
    "    K = [K A*K[:,j]]   \n",
    "end     "
   ]
  },
  {
   "cell_type": "markdown",
   "metadata": {
    "slideshow": {
     "slide_type": "subslide"
    }
   },
   "source": [
    "One way to think of $K$ is as keeping a history of all the vectors found in the power iteration. For that reason, we suspect that it may be rich in content with the leading eigenvectors of $A$, much as with simultaneous iteration. \n",
    "\n",
    "However, it is a poorly conditioned basis as $n$ grows, since the columns all become parallel to the leading eigenvector."
   ]
  },
  {
   "cell_type": "code",
   "execution_count": 18,
   "metadata": {
    "collapsed": false,
    "slideshow": {
     "slide_type": "fragment"
    }
   },
   "outputs": [
    {
     "data": {
      "text/plain": [
       "1.515948762405363e12"
      ]
     },
     "execution_count": 18,
     "metadata": {},
     "output_type": "execute_result"
    }
   ],
   "source": [
    "cond(K)"
   ]
  },
  {
   "cell_type": "markdown",
   "metadata": {
    "slideshow": {
     "slide_type": "subslide"
    }
   },
   "source": [
    "We would like a (thin) QR factorization of $K$, of course, but once $K$ has been put into floating point, the information about successive dimensions could be drawn out only through subtractive cancellation. Instead, there is a clever way to arrange the Gram-Schmidt process for this particular matrix."
   ]
  },
  {
   "cell_type": "markdown",
   "metadata": {
    "slideshow": {
     "slide_type": "fragment"
    }
   },
   "source": [
    "Say $\\mathbf{q}_1,\\dots, \\mathbf{q}_j$ is an ONB for $\\mathcal{K}_j$. By construction, $A\\mathbf{q}_j\\in \\mathcal{K}_{j+1}$. Thus if $\\mathbf{q}_{j+1}$ extends the ONB to $\\mathcal{K}_{j+1}$, it must be that:\n",
    "$$\n",
    "A\\mathbf{q}_j=h_{1j}\\mathbf{q}_1+\\cdots +h_{nj}\\mathbf{q}_{n}+ h_{n+1,j} \\mathbf{q}_{n+1}.\n",
    "$$"
   ]
  },
  {
   "cell_type": "markdown",
   "metadata": {
    "slideshow": {
     "slide_type": "fragment"
    }
   },
   "source": [
    "Furthermore,  $h_{ij}=\\mathbf{q}_i^*A\\mathbf{q}_j$. Written out for all  $j=1,\\dots,n$, this implies:\n",
    "$$\n",
    "AQ_n=Q_{n+1}\\tilde{H}_n,\n",
    "$$\n",
    "\n",
    "where $Q_j$ collects  $\\mathbf{q}_1,\\dots,\\mathbf{q}_j$ and  $\\tilde{H}_n$ is an $(n+1)\\times n$ upper Hessenberg matrix."
   ]
  },
  {
   "cell_type": "markdown",
   "metadata": {
    "slideshow": {
     "slide_type": "subslide"
    }
   },
   "source": [
    "Adapting the modified Gram-Schmidt algorithm, where the \"new column\" of a matrix comes from $A$ times the most recent column, we get the Arnoldi iteration."
   ]
  },
  {
   "cell_type": "code",
   "execution_count": 19,
   "metadata": {
    "collapsed": false,
    "slideshow": {
     "slide_type": "fragment"
    }
   },
   "outputs": [],
   "source": [
    "m = size(A,1);  n = 50;\n",
    "Q = zeros(m,n+1);\n",
    "H = zeros(n+1,n);\n",
    "Q[:,1] = b/norm(b);\n",
    "for j = 1:n\n",
    "    v = A*Q[:,j];\n",
    "    for i = 1:j\n",
    "        H[i,j] = dot(Q[:,i],v);\n",
    "        v = v - H[i,j]*Q[:,i];\n",
    "    end\n",
    "    H[j+1,j] = norm(v);\n",
    "    Q[:,j+1] = v/H[j+1,j];\n",
    "end"
   ]
  },
  {
   "cell_type": "code",
   "execution_count": 20,
   "metadata": {
    "collapsed": false,
    "slideshow": {
     "slide_type": "subslide"
    }
   },
   "outputs": [
    {
     "data": {
      "image/png": "[encoded data removed]",
      "text/plain": [
       "PyPlot.Figure(PyObject <matplotlib.figure.Figure object at 0x7f4a86e15a90>)"
      ]
     },
     "metadata": {},
     "output_type": "display_data"
    }
   ],
   "source": [
    "using PyPlot\n",
    "spy(H);"
   ]
  },
  {
   "cell_type": "markdown",
   "metadata": {
    "slideshow": {
     "slide_type": "subslide"
    }
   },
   "source": [
    "It is not hard to show that we can project $A$ into $\\mathcal{K}_n$ (in the $Q_n$-basis) by\n",
    "\n",
    "$$\n",
    "Q_n^*AQ_n=Q_n^*Q_{n+1}\\tilde{H} = H_n,\n",
    "$$\n",
    " \n",
    "where $H_n$ is $\\tilde{H}_n$ with the last row deleted. Eigenvalues of $H_n$ are eigenvalues of the action of $A$ as projected to $\\mathcal{K}_n$. As $n\\to \\infty$, this begins to reveal some of the eigenvalues of $A$ itself."
   ]
  },
  {
   "cell_type": "code",
   "execution_count": 22,
   "metadata": {
    "collapsed": true,
    "slideshow": {
     "slide_type": "subslide"
    }
   },
   "outputs": [
    {
     "ename": "LoadError",
     "evalue": "LoadError: PyError (:PyObject_Call) <type 'exceptions.ValueError'>\nValueError('Unrecognized string square to axis; try on or off',)\n  File \"/usr/lib/pymodules/python2.7/matplotlib/pyplot.py\", line 1379, in axis\n    v = ax.axis(*v, **kwargs)\n  File \"/usr/lib/pymodules/python2.7/matplotlib/axes.py\", line 1335, in axis\n    'try on or off' % s)\n\nwhile loading In[22], in expression starting on line 3",
     "output_type": "error",
     "traceback": [
      "LoadError: PyError (:PyObject_Call) <type 'exceptions.ValueError'>\nValueError('Unrecognized string square to axis; try on or off',)\n  File \"/usr/lib/pymodules/python2.7/matplotlib/pyplot.py\", line 1379, in axis\n    v = ax.axis(*v, **kwargs)\n  File \"/usr/lib/pymodules/python2.7/matplotlib/axes.py\", line 1335, in axis\n    'try on or off' % s)\n\nwhile loading In[22], in expression starting on line 3",
      "",
      " in pyerr_check at /opt/julia_packages/.julia/v0.5/PyCall/src/exception.jl:56 [inlined]",
      " in pyerr_check at /opt/julia_packages/.julia/v0.5/PyCall/src/exception.jl:61 [inlined]",
      " in macro expansion at /opt/julia_packages/.julia/v0.5/PyCall/src/exception.jl:81 [inlined]",
      " in #_pycall#62(::Array{Any,1}, ::Function, ::PyCall.PyObject, ::String, ::Vararg{String,N}) at /opt/julia_packages/.julia/v0.5/PyCall/src/PyCall.jl:546",
      " in _pycall(::PyCall.PyObject, ::String, ::Vararg{String,N}) at /opt/julia_packages/.julia/v0.5/PyCall/src/PyCall.jl:534",
      " in #pycall#66(::Array{Any,1}, ::Function, ::PyCall.PyObject, ::Type{PyCall.PyAny}, ::String, ::Vararg{String,N}) at /opt/julia_packages/.julia/v0.5/PyCall/src/PyCall.jl:568",
      " in pycall(::PyCall.PyObject, ::Type{PyCall.PyAny}, ::String, ::Vararg{String,N}) at /opt/julia_packages/.julia/v0.5/PyCall/src/PyCall.jl:568",
      " in #axis#16(::Array{Any,1}, ::Function, ::String, ::Vararg{String,N}) at /opt/julia_packages/.julia/v0.5/PyPlot/src/PyPlot.jl:399",
      " in axis(::String, ::Vararg{String,N}) at /opt/julia_packages/.julia/v0.5/PyPlot/src/PyPlot.jl:396"
     ]
    }
   ],
   "source": [
    "lam = eigvals(A);\n",
    "plot(real(lam),imag(lam),\".\")\n",
    "axis(\"square\")\n",
    "axis(\"equal\")\n",
    "for j = 5:n\n",
    "    lam = eig(H[1:j,1:j]);\n",
    "    plot(real(lam),imag(lam),'rx')\n",
    "end"
   ]
  },
  {
   "cell_type": "markdown",
   "metadata": {
    "slideshow": {
     "slide_type": "subslide"
    }
   },
   "source": [
    "Since $H_n$ is a projection of $A$, its eigenvalues are related to those of $A$"
   ]
  },
  {
   "cell_type": "markdown",
   "metadata": {
    "slideshow": {
     "slide_type": "fragment"
    }
   },
   "source": [
    "$$\\{\\theta_j\\} = \\{\\text{eigenvalues of } H_n\\}$$"
   ]
  },
  {
   "cell_type": "markdown",
   "metadata": {
    "slideshow": {
     "slide_type": "fragment"
    }
   },
   "source": [
    "These are called **Arnoldi eigenvalue estimates** or **Ritz values** of $A$."
   ]
  },
  {
   "cell_type": "markdown",
   "metadata": {
    "slideshow": {
     "slide_type": "subslide"
    }
   },
   "source": [
    "We will look more closely at the convergence in the next lecture. For now, the big idea is to replace a problem on a very high-dimensional space,  $\\mathbb{C}^m$, with an analog on a low-dimensional space, $\\mathcal{K}_n$, using an ON basis as provided by the Arnoldi iteration."
   ]
  },
  {
   "cell_type": "markdown",
   "metadata": {
    "slideshow": {
     "slide_type": "subslide"
    }
   },
   "source": [
    "> ** THEOREM. ** \n",
    "- The matrices $Q_n$ generated by the Arnoldi iteration are reduced QR factors of the Krylov matrix: $$K_n = Q_nR_n.$$\n",
    "- The Hessenberg matrices $H_n$ are the corresponding projections: $$H_n = Q_n^* A Q_n.$$\n",
    "- and the successive iterates are related by the formula: $$AQ_n = Q_{n+1} \\tilde{H}_n.$$"
   ]
  }
 ],
 "metadata": {
  "celltoolbar": "Slideshow",
  "kernelspec": {
   "display_name": "Julia 0.5.0",
   "language": "julia",
   "name": "julia-0.5"
  },
  "language_info": {
   "file_extension": ".jl",
   "mimetype": "application/julia",
   "name": "julia",
   "version": "0.5.0"
  }
 },
 "nbformat": 4,
 "nbformat_minor": 1
}
