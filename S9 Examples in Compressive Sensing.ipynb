{
 "cells": [
  {
   "cell_type": "markdown",
   "metadata": {},
   "source": [
    "# Solutions 9 - Examples in Compressive Sensing\n",
    "\n",
    "---\n"
   ]
  },
  {
   "cell_type": "markdown",
   "metadata": {},
   "source": [
    "## Assignment 1"
   ]
  },
  {
   "cell_type": "markdown",
   "metadata": {
    "collapsed": true
   },
   "source": [
    "We shall solve Sudoku puzzles using approach similar to the one in file \n",
    "[sudoku.jl](https://github.com/JuliaOpt/JuMP.jl/blob/master/examples/sudoku.jl) from the package\n",
    "[JuMP.jl](https://github.com/JuliaOpt/JuMP.jl).\n",
    "\n",
    "The file solves Sudoku puzzles using Mixed Integer Programming from the package [Cbc.jl](https://github.com/JuliaOpt/Cbc.jl) which needs to be installed beforehand."
   ]
  },
  {
   "cell_type": "code",
   "execution_count": 1,
   "metadata": {
    "collapsed": false
   },
   "outputs": [
    {
     "ename": "LoadError",
     "evalue": "LoadError: LoadError: ArgumentError: invalid base 10 digit '{' in \"{\\r\\n\"\nwhile loading C:\\Users\\Ivan\\Documents\\Julia\\GIAN-Applied-NLA-Course\\src\\Module C - Applications\\files\\sudoku.jl, in expression starting on line 85\nwhile loading In[1], in expression starting on line 2",
     "output_type": "error",
     "traceback": [
      "LoadError: LoadError: ArgumentError: invalid base 10 digit '{' in \"{\\r\\n\"\nwhile loading C:\\Users\\Ivan\\Documents\\Julia\\GIAN-Applied-NLA-Course\\src\\Module C - Applications\\files\\sudoku.jl, in expression starting on line 85\nwhile loading In[1], in expression starting on line 2",
      "",
      " in tryparse_internal at parse.jl:92",
      " in tryparse_internal at parse.jl:136",
      " in parse at parse.jl:146",
      " in LoadData at C:\\Users\\Ivan\\Documents\\Julia\\GIAN-Applied-NLA-Course\\src\\Module C - Applications\\files\\sudoku.jl:31",
      " in include at boot.jl:261",
      " in include_from_node1 at loading.jl:320"
     ]
    }
   ],
   "source": [
    "# Ignore the error\n",
    "include(\"files/sudoku.jl\")"
   ]
  },
  {
   "cell_type": "code",
   "execution_count": 2,
   "metadata": {
    "collapsed": false,
    "scrolled": true
   },
   "outputs": [
    {
     "data": {
      "text/plain": [
       "9x9 Array{Int64,2}:\n",
       " 3  1  0  0  5  8  0  0  4\n",
       " 0  0  9  3  2  0  0  0  0\n",
       " 0  2  5  1  0  4  0  9  0\n",
       " 0  0  0  0  0  0  3  8  9\n",
       " 0  0  8  0  0  0  5  0  0\n",
       " 5  4  6  0  0  0  0  0  0\n",
       " 0  8  0  2  0  3  6  5  0\n",
       " 0  0  0  0  7  1  4  0  0\n",
       " 7  0  0  4  8  0  0  2  1"
      ]
     },
     "execution_count": 2,
     "metadata": {},
     "output_type": "execute_result"
    }
   ],
   "source": [
    "s=readcsv(\"files/sudoku.csv\")\n",
    "s=map(Int,s)"
   ]
  },
  {
   "cell_type": "code",
   "execution_count": 3,
   "metadata": {
    "collapsed": false
   },
   "outputs": [
    {
     "data": {
      "text/plain": [
       "displaySudoku (generic function with 1 method)"
      ]
     },
     "execution_count": 3,
     "metadata": {},
     "output_type": "execute_result"
    }
   ],
   "source": [
    "# Define function for nicer display\n",
    "function displaySudoku(sol::Array)\n",
    "    # Display solution\n",
    "    println(\"Sudoku:\")\n",
    "    println(\"[-----------------------]\")\n",
    "    for row in 1:9\n",
    "        print(\"[ \")\n",
    "        for col in 1:9\n",
    "            print(\"$(sol[row,col]) \")\n",
    "            if col % 3 == 0 && col < 9\n",
    "                print(\"| \")\n",
    "            end\n",
    "        end\n",
    "        println(\"]\")\n",
    "        if row % 3 == 0\n",
    "            println(\"[-----------------------]\")\n",
    "        end\n",
    "    end\n",
    "end"
   ]
  },
  {
   "cell_type": "code",
   "execution_count": 4,
   "metadata": {
    "collapsed": false
   },
   "outputs": [
    {
     "name": "stdout",
     "output_type": "stream",
     "text": [
      "Sudoku:\n",
      "[-----------------------]\n",
      "[ 3 1 0 | 0 5 8 | 0 0 4 ]\n",
      "[ 0 0 9 | 3 2 0 | 0 0 0 ]\n",
      "[ 0 2 5 | 1 0 4 | 0 9 0 ]\n",
      "[-----------------------]\n",
      "[ 0 0 0 | 0 0 0 | 3 8 9 ]\n",
      "[ 0 0 8 | 0 0 0 | 5 0 0 ]\n",
      "[ 5 4 6 | 0 0 0 | 0 0 0 ]\n",
      "[-----------------------]\n",
      "[ 0 8 0 | 2 0 3 | 6 5 0 ]\n",
      "[ 0 0 0 | 0 7 1 | 4 0 0 ]\n",
      "[ 7 0 0 | 4 8 0 | 0 2 1 ]\n",
      "[-----------------------]\n"
     ]
    }
   ],
   "source": [
    "displaySudoku(s)"
   ]
  },
  {
   "cell_type": "code",
   "execution_count": 5,
   "metadata": {
    "collapsed": false
   },
   "outputs": [
    {
     "name": "stdout",
     "output_type": "stream",
     "text": [
      "  4.153025 seconds (4.37 M allocations: 196.244 MB, 1.45% gc time)\n",
      "Sudoku:\n",
      "[-----------------------]\n",
      "[ 3 1 7 | 9 5 8 | 2 6 4 ]\n",
      "[ 4 6 9 | 3 2 7 | 8 1 5 ]\n",
      "[ 8 2 5 | 1 6 4 | 7 9 3 ]\n",
      "[-----------------------]\n",
      "[ 2 7 1 | 6 4 5 | 3 8 9 ]\n",
      "[ 9 3 8 | 7 1 2 | 5 4 6 ]\n",
      "[ 5 4 6 | 8 3 9 | 1 7 2 ]\n",
      "[-----------------------]\n",
      "[ 1 8 4 | 2 9 3 | 6 5 7 ]\n",
      "[ 6 9 2 | 5 7 1 | 4 3 8 ]\n",
      "[ 7 5 3 | 4 8 6 | 9 2 1 ]\n",
      "[-----------------------]\n"
     ]
    }
   ],
   "source": [
    "# Solution method from the file (MIP)\n",
    "@time sol=SolveModel(s)\n",
    "displaySudoku(sol)"
   ]
  },
  {
   "cell_type": "markdown",
   "metadata": {},
   "source": [
    "We modify the function `SolveModel()` so that the puzzle is fomulated as a compressive sensing problem and solved using $l_1$ minimization. "
   ]
  },
  {
   "cell_type": "code",
   "execution_count": 6,
   "metadata": {
    "collapsed": false
   },
   "outputs": [],
   "source": [
    "using Clp"
   ]
  },
  {
   "cell_type": "code",
   "execution_count": 7,
   "metadata": {
    "collapsed": false
   },
   "outputs": [
    {
     "data": {
      "text/plain": [
       "mySudoku (generic function with 1 method)"
      ]
     },
     "execution_count": 7,
     "metadata": {},
     "output_type": "execute_result"
    }
   ],
   "source": [
    "function mySudoku(sudoku::Array)\n",
    "    # From the original file\n",
    "    m = Model(solver = ClpSolver())\n",
    "    # We need Float variable and constraints\n",
    "    @variable(m, x[1:9, 1:9, 1:9]>=0)\n",
    "    @constraints m begin\n",
    "        # Constraint 1 - Only one value appears in each cell\n",
    "        # Constraint 2 - Each value appears in each row once only\n",
    "        # Constraint 3 - Each value appears in each column once only\n",
    "        cell[i=1:9, j=1:9], sum(x[i,j,:]) == 1\n",
    "        row[i=1:9, k=1:9], sum(x[i,:,k]) == 1\n",
    "        col[j=1:9, k=1:9], sum(x[:,j,k]) == 1\n",
    "        # Constraint 4 - Each value appears in each 3x3 subgrid once only\n",
    "        subgrid[i=1:3:7,j=1:3:7,val=1:9], sum(x[i:i+2,j:j+2,val]) == 1\n",
    "    end\n",
    "    # Initial solution\n",
    "    for row in 1:9, col in 1:9\n",
    "        if sudoku[row,col] != 0\n",
    "            @constraint(m, x[row, col, sudoku[row, col]] == 1)\n",
    "        end\n",
    "    end\n",
    "    # Preparing for l1 minimization - define objective\n",
    "    # @objective(m, Min, sum(abs(x)))\n",
    "    @objective(m, Min, sum(x))\n",
    "    \n",
    "    # Solve it\n",
    "    status=solve(m)\n",
    "    # Check solution\n",
    "    if status == :Infeasible\n",
    "        error(\"No solution found!\")\n",
    "    else\n",
    "        mipSol = getvalue(x)\n",
    "        sol = zeros(Int,9,9)\n",
    "        for row in 1:9, col in 1:9, val in 1:9\n",
    "            if mipSol[row, col, val] >= 0.8\n",
    "                sol[row, col] = val\n",
    "            end\n",
    "        end\n",
    "        return sol, status\n",
    "    end\n",
    "end"
   ]
  },
  {
   "cell_type": "code",
   "execution_count": 8,
   "metadata": {
    "collapsed": false
   },
   "outputs": [
    {
     "name": "stdout",
     "output_type": "stream",
     "text": [
      "  0.363958 seconds (346.91 k allocations: 15.143 MB, 2.52% gc time)\n",
      "Sudoku:\n",
      "[-----------------------]\n",
      "[ 3 1 7 | 9 5 8 | 2 6 4 ]\n",
      "[ 4 6 9 | 3 2 7 | 8 1 5 ]\n",
      "[ 8 2 5 | 1 6 4 | 7 9 3 ]\n",
      "[-----------------------]\n",
      "[ 2 7 1 | 6 4 5 | 3 8 9 ]\n",
      "[ 9 3 8 | 7 1 2 | 5 4 6 ]\n",
      "[ 5 4 6 | 8 3 9 | 1 7 2 ]\n",
      "[-----------------------]\n",
      "[ 1 8 4 | 2 9 3 | 6 5 7 ]\n",
      "[ 6 9 2 | 5 7 1 | 4 3 8 ]\n",
      "[ 7 5 3 | 4 8 6 | 9 2 1 ]\n",
      "[-----------------------]\n"
     ]
    },
    {
     "data": {
      "text/plain": [
       "(nothing,:Optimal)"
      ]
     },
     "execution_count": 8,
     "metadata": {},
     "output_type": "execute_result"
    }
   ],
   "source": [
    "@time sol,status=mySudoku(s)\n",
    "displaySudoku(sol), status"
   ]
  },
  {
   "cell_type": "markdown",
   "metadata": {},
   "source": [
    "The formulation from [P. Babu, K. Pelckmans, P. Stoica and J. Li, Linear Systems, Sparse Solutions, and Sudoku][BPSL10] is essentially the same.\n",
    "We first ceate the constraints matrix for rows, columns, boxes and cells (all except clues).\n",
    "\n",
    "[BPSL10]: http://people.math.yorku.ca/~chensy/sudoku.pdf \"Prabhu Babu, Kristiaan Pelckmans, Petre Stoica and Jian Li, 'Sparse Solutions, and Sudoku',  IEEE Signal Processing Letters, 17(1) (2010) 40-42.\""
   ]
  },
  {
   "cell_type": "code",
   "execution_count": 9,
   "metadata": {
    "collapsed": false
   },
   "outputs": [],
   "source": [
    "# Convenience function\n",
    "unblock(A) = mapreduce(identity, hcat, [mapreduce(identity, vcat, A[:,i]) for i = 1:size(A,2)])\n",
    "using PyPlot"
   ]
  },
  {
   "cell_type": "code",
   "execution_count": 10,
   "metadata": {
    "collapsed": false
   },
   "outputs": [
    {
     "data": {
      "image/png": "[encoded data removed]",
      "text/plain": [
       "PyPlot.Figure(PyObject <matplotlib.figure.Figure object at 0x000000001F436FD0>)"
      ]
     },
     "metadata": {},
     "output_type": "display_data"
    },
    {
     "data": {
      "text/plain": [
       "PyObject <matplotlib.image.AxesImage object at 0x000000001F4646A0>"
      ]
     },
     "execution_count": 10,
     "metadata": {},
     "output_type": "execute_result"
    }
   ],
   "source": [
    "n=9\n",
    "n2=81\n",
    "n3=729\n",
    "# Row constraints\n",
    "I9=eye(Int,9)\n",
    "Rows=[repmat(I9,1,9) zeros(Int,n,n3-n2)]\n",
    "for i=1:8\n",
    "    Rows=vcat(Rows,[zeros(Int,n,i*n2) repmat(I9,1,9) zeros(Int,n,(n-i-1)*n2)])\n",
    "end\n",
    "# Column constraints\n",
    "Cols=repmat([I9 zeros(Int,9,72)],1,9)\n",
    "for i=1:8\n",
    "    Cols=vcat(Cols,[zeros(Int,9,9*i) repmat([I9 zeros(Int,9,72)],1,8) I9 zeros(Int,9,72-9*i)])\n",
    "end\n",
    "# Box constraints\n",
    "z9=zeros(Int,9,9)\n",
    "Box=[z9 for i=1:n, j=1:n2]\n",
    "for i=1:3, j=0:2\n",
    "    Box[i,9*j+1+3*(i-1):9*j+3+3*(i-1)]=[I9 for k=1:3]\n",
    "end\n",
    "for i=1:3, j=0:2\n",
    "    Box[i+3,27+9*j+1+3*(i-1):27+9*j+3+3*(i-1)]=[I9 for k=1:3]\n",
    "end\n",
    "for i=1:3, j=0:2\n",
    "    Box[i+6,54+9*j+1+3*(i-1):54+9*j+3+3*(i-1)]=[I9 for k=1:3]\n",
    "end\n",
    "Box=unblock(Box)\n",
    "# Cell constraints\n",
    "Cell=zeros(Int,n2,n3)\n",
    "for i=1:n2\n",
    "    Cell[i,9*(i-1)+1:9*i]=ones(Int,1,9)\n",
    "end\n",
    "C=vcat(Rows,Cols,Box,Cell)\n",
    "matshow(C,cmap=\"hot\")"
   ]
  },
  {
   "cell_type": "code",
   "execution_count": 11,
   "metadata": {
    "collapsed": true
   },
   "outputs": [],
   "source": [
    "using MathProgBase"
   ]
  },
  {
   "cell_type": "code",
   "execution_count": 13,
   "metadata": {
    "collapsed": false
   },
   "outputs": [
    {
     "data": {
      "text/plain": [
       "mySudoku (generic function with 2 methods)"
      ]
     },
     "execution_count": 13,
     "metadata": {},
     "output_type": "execute_result"
    }
   ],
   "source": [
    "function mySudoku(sudoku::Array, C::Array)\n",
    "    # Clue constraints\n",
    "    clue=countnz(sudoku)\n",
    "    Clue=zeros(Int,clue,n3)\n",
    "    ind=find(sudoku'.!=0)\n",
    "    for i=1:clue\n",
    "        Clue[i,9*(ind[i]-1)+sudoku'[ind[i]]]=1\n",
    "    end\n",
    "    C=vcat(C,Clue)\n",
    "    # Solve it\n",
    "    l1=linprog(ones(n3),C,'=',ones(size(C,1)),0,Inf,ClpSolver())\n",
    "    # Reconstruct the solution\n",
    "    if l1.status == :Infeasible\n",
    "        error(\"No solution found!\")\n",
    "    else\n",
    "        return reshape(map(Int,round(collect(1:9)'*reshape(l1.sol,9,81))),9,9)', l1.status\n",
    "    end\n",
    "end"
   ]
  },
  {
   "cell_type": "code",
   "execution_count": 14,
   "metadata": {
    "collapsed": false
   },
   "outputs": [
    {
     "name": "stdout",
     "output_type": "stream",
     "text": [
      "  1.890002 seconds (3.45 M allocations: 139.565 MB, 2.30% gc time)\n",
      "Sudoku:\n",
      "[-----------------------]\n",
      "[ 3 1 7 | 9 5 8 | 2 6 4 ]\n",
      "[ 4 6 9 | 3 2 7 | 8 1 5 ]\n",
      "[ 8 2 5 | 1 6 4 | 7 9 3 ]\n",
      "[-----------------------]\n",
      "[ 2 7 1 | 6 4 5 | 3 8 9 ]\n",
      "[ 9 3 8 | 7 1 2 | 5 4 6 ]\n",
      "[ 5 4 6 | 8 3 9 | 1 7 2 ]\n",
      "[-----------------------]\n",
      "[ 1 8 4 | 2 9 3 | 6 5 7 ]\n",
      "[ 6 9 2 | 5 7 1 | 4 3 8 ]\n",
      "[ 7 5 3 | 4 8 6 | 9 2 1 ]\n",
      "[-----------------------]\n"
     ]
    },
    {
     "data": {
      "text/plain": [
       "(nothing,:Optimal)"
      ]
     },
     "execution_count": 14,
     "metadata": {},
     "output_type": "execute_result"
    }
   ],
   "source": [
    "@time sol, status=mySudoku(s,C)\n",
    "displaySudoku(sol), status"
   ]
  },
  {
   "cell_type": "markdown",
   "metadata": {},
   "source": [
    "Let us try two harder puzzles."
   ]
  },
  {
   "cell_type": "code",
   "execution_count": 16,
   "metadata": {
    "collapsed": false
   },
   "outputs": [
    {
     "name": "stdout",
     "output_type": "stream",
     "text": [
      "Sudoku:\n",
      "[-----------------------]\n",
      "[ 5 4 0 | 0 0 3 | 1 0 0 ]\n",
      "[ 0 8 0 | 4 0 1 | 0 0 6 ]\n",
      "[ 0 0 0 | 5 0 0 | 0 2 0 ]\n",
      "[-----------------------]\n",
      "[ 0 7 0 | 0 0 0 | 6 0 0 ]\n",
      "[ 0 0 4 | 0 0 0 | 9 0 0 ]\n",
      "[ 0 0 6 | 0 0 0 | 0 3 0 ]\n",
      "[-----------------------]\n",
      "[ 0 5 0 | 0 0 4 | 0 0 0 ]\n",
      "[ 1 0 0 | 2 0 8 | 0 7 0 ]\n",
      "[ 0 0 2 | 7 0 0 | 0 1 9 ]\n",
      "[-----------------------]\n"
     ]
    }
   ],
   "source": [
    "s=readcsv(\"files/sudokuhard.csv\")\n",
    "s=map(Int,s)\n",
    "displaySudoku(s)"
   ]
  },
  {
   "cell_type": "code",
   "execution_count": 17,
   "metadata": {
    "collapsed": false
   },
   "outputs": [
    {
     "name": "stdout",
     "output_type": "stream",
     "text": [
      "  0.009911 seconds (6.14 k allocations: 733.215 KB)\n",
      "Sudoku:\n",
      "[-----------------------]\n",
      "[ 5 4 7 | 6 2 3 | 1 9 8 ]\n",
      "[ 2 8 9 | 4 7 1 | 3 5 6 ]\n",
      "[ 6 3 1 | 5 8 9 | 7 2 4 ]\n",
      "[-----------------------]\n",
      "[ 8 7 5 | 3 9 2 | 6 4 1 ]\n",
      "[ 3 2 4 | 1 5 6 | 9 8 7 ]\n",
      "[ 9 1 6 | 8 4 7 | 5 3 2 ]\n",
      "[-----------------------]\n",
      "[ 7 5 8 | 9 1 4 | 2 6 3 ]\n",
      "[ 1 9 3 | 2 6 8 | 4 7 5 ]\n",
      "[ 4 6 2 | 7 3 5 | 8 1 9 ]\n",
      "[-----------------------]\n"
     ]
    }
   ],
   "source": [
    "@time sol=SolveModel(s)\n",
    "displaySudoku(sol)"
   ]
  },
  {
   "cell_type": "code",
   "execution_count": 18,
   "metadata": {
    "collapsed": false
   },
   "outputs": [
    {
     "name": "stdout",
     "output_type": "stream",
     "text": [
      "  0.004091 seconds (869 allocations: 2.311 MB)\n",
      "Sudoku:\n",
      "[-----------------------]\n",
      "[ 5 4 7 | 6 2 3 | 1 9 8 ]\n",
      "[ 2 8 9 | 4 7 1 | 3 5 6 ]\n",
      "[ 6 3 1 | 5 8 9 | 7 2 4 ]\n",
      "[-----------------------]\n",
      "[ 8 7 5 | 3 9 2 | 6 4 1 ]\n",
      "[ 3 2 4 | 1 5 6 | 9 8 7 ]\n",
      "[ 9 1 6 | 8 4 7 | 5 3 2 ]\n",
      "[-----------------------]\n",
      "[ 7 5 8 | 9 1 4 | 2 6 3 ]\n",
      "[ 1 9 3 | 2 6 8 | 4 7 5 ]\n",
      "[ 4 6 2 | 7 3 5 | 8 1 9 ]\n",
      "[-----------------------]\n"
     ]
    },
    {
     "data": {
      "text/plain": [
       "(nothing,:Optimal)"
      ]
     },
     "execution_count": 18,
     "metadata": {},
     "output_type": "execute_result"
    }
   ],
   "source": [
    "@time sol,status=mySudoku(s,C)\n",
    "displaySudoku(sol), status"
   ]
  },
  {
   "cell_type": "code",
   "execution_count": 19,
   "metadata": {
    "collapsed": false
   },
   "outputs": [
    {
     "name": "stdout",
     "output_type": "stream",
     "text": [
      "Sudoku:\n",
      "[-----------------------]\n",
      "[ 0 0 0 | 6 0 1 | 4 0 0 ]\n",
      "[ 9 0 0 | 2 4 0 | 7 0 0 ]\n",
      "[ 0 0 3 | 0 0 0 | 0 0 9 ]\n",
      "[-----------------------]\n",
      "[ 0 6 0 | 0 0 5 | 0 0 0 ]\n",
      "[ 3 1 0 | 0 0 0 | 0 0 4 ]\n",
      "[ 0 0 0 | 7 0 0 | 0 6 0 ]\n",
      "[-----------------------]\n",
      "[ 2 0 0 | 0 0 0 | 9 0 0 ]\n",
      "[ 4 0 0 | 0 6 2 | 0 0 1 ]\n",
      "[ 0 0 1 | 9 0 8 | 0 0 0 ]\n",
      "[-----------------------]\n"
     ]
    }
   ],
   "source": [
    "# New puzzle\n",
    "s=[ 0 0 0 6 0 1 4 0 0;\n",
    "    9 0 0 2 4 0 7 0 0;\n",
    "    0 0 3 0 0 0 0 0 9;\n",
    "    0 6 0 0 0 5 0 0 0;\n",
    "    3 1 0 0 0 0 0 0 4;\n",
    "    0 0 0 7 0 0 0 6 0;\n",
    "    2 0 0 0 0 0 9 0 0;\n",
    "    4 0 0 0 6 2 0 0 1;\n",
    "    0 0 1 9 0 8 0 0 0]\n",
    "displaySudoku(s)"
   ]
  },
  {
   "cell_type": "code",
   "execution_count": 20,
   "metadata": {
    "collapsed": false
   },
   "outputs": [
    {
     "name": "stdout",
     "output_type": "stream",
     "text": [
      "  0.008606 seconds (5.56 k allocations: 710.406 KB)\n",
      "Sudoku:\n",
      "[-----------------------]\n",
      "[ 7 5 2 | 6 9 1 | 4 8 3 ]\n",
      "[ 9 8 6 | 2 4 3 | 7 1 5 ]\n",
      "[ 1 4 3 | 5 8 7 | 6 2 9 ]\n",
      "[-----------------------]\n",
      "[ 8 6 9 | 4 1 5 | 2 3 7 ]\n",
      "[ 3 1 7 | 8 2 6 | 5 9 4 ]\n",
      "[ 5 2 4 | 7 3 9 | 1 6 8 ]\n",
      "[-----------------------]\n",
      "[ 2 3 8 | 1 7 4 | 9 5 6 ]\n",
      "[ 4 9 5 | 3 6 2 | 8 7 1 ]\n",
      "[ 6 7 1 | 9 5 8 | 3 4 2 ]\n",
      "[-----------------------]\n"
     ]
    }
   ],
   "source": [
    "# Mixed integer programming is fine,\n",
    "@time sol=SolveModel(s)\n",
    "displaySudoku(sol)"
   ]
  },
  {
   "cell_type": "code",
   "execution_count": 22,
   "metadata": {
    "collapsed": false
   },
   "outputs": [
    {
     "name": "stdout",
     "output_type": "stream",
     "text": [
      "  0.002357 seconds (5.57 k allocations: 716.813 KB)\n",
      "Sudoku:\n",
      "[-----------------------]\n",
      "[ 0 0 0 | 6 9 1 | 4 0 3 ]\n",
      "[ 9 0 6 | 2 4 3 | 7 1 0 ]\n",
      "[ 1 4 3 | 5 8 7 | 6 2 9 ]\n",
      "[-----------------------]\n",
      "[ 0 6 0 | 4 1 5 | 3 0 0 ]\n",
      "[ 3 1 0 | 8 2 6 | 5 0 4 ]\n",
      "[ 5 0 4 | 7 3 9 | 1 6 0 ]\n",
      "[-----------------------]\n",
      "[ 2 0 8 | 1 0 4 | 9 3 6 ]\n",
      "[ 4 9 0 | 3 6 2 | 8 0 1 ]\n",
      "[ 6 3 1 | 9 0 8 | 2 4 0 ]\n",
      "[-----------------------]\n"
     ]
    },
    {
     "data": {
      "text/plain": [
       "(nothing,:Optimal)"
      ]
     },
     "execution_count": 22,
     "metadata": {},
     "output_type": "execute_result"
    }
   ],
   "source": [
    "# but\n",
    "@time sol,status=mySudoku(s)\n",
    "displaySudoku(sol), status"
   ]
  },
  {
   "cell_type": "code",
   "execution_count": 23,
   "metadata": {
    "collapsed": false
   },
   "outputs": [
    {
     "name": "stdout",
     "output_type": "stream",
     "text": [
      "  0.003548 seconds (864 allocations: 2.299 MB)\n",
      "Sudoku:\n",
      "[-----------------------]\n",
      "[ 7 5 3 | 6 9 1 | 4 6 4 ]\n",
      "[ 9 7 6 | 2 4 3 | 7 1 6 ]\n",
      "[ 1 4 3 | 5 8 7 | 6 2 9 ]\n",
      "[-----------------------]\n",
      "[ 7 6 6 | 4 1 5 | 3 9 4 ]\n",
      "[ 3 1 8 | 8 2 6 | 5 8 4 ]\n",
      "[ 6 3 4 | 7 3 9 | 1 6 6 ]\n",
      "[-----------------------]\n",
      "[ 2 5 7 | 1 7 4 | 9 4 6 ]\n",
      "[ 4 9 6 | 3 6 2 | 8 6 1 ]\n",
      "[ 6 4 1 | 9 5 8 | 2 4 5 ]\n",
      "[-----------------------]\n"
     ]
    },
    {
     "data": {
      "text/plain": [
       "(nothing,:Optimal)"
      ]
     },
     "execution_count": 23,
     "metadata": {},
     "output_type": "execute_result"
    }
   ],
   "source": [
    "@time sol,status=mySudoku(s,C)\n",
    "displaySudoku(sol), status"
   ]
  },
  {
   "cell_type": "markdown",
   "metadata": {},
   "source": [
    "We see that the $l_1$ sudoku solution is not always possible."
   ]
  },
  {
   "cell_type": "code",
   "execution_count": null,
   "metadata": {
    "collapsed": true
   },
   "outputs": [],
   "source": []
  }
 ],
 "metadata": {
  "kernelspec": {
   "display_name": "Julia 0.4.5",
   "language": "julia",
   "name": "julia-0.4"
  },
  "language_info": {
   "file_extension": ".jl",
   "mimetype": "application/julia",
   "name": "julia",
   "version": "0.4.5"
  }
 },
 "nbformat": 4,
 "nbformat_minor": 0
}
