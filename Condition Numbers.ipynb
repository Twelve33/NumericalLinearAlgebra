{
 "cells": [
  {
   "cell_type": "markdown",
   "metadata": {
    "slideshow": {
     "slide_type": "slide"
    }
   },
   "source": [
    "# Conditioning"
   ]
  },
  {
   "cell_type": "markdown",
   "metadata": {
    "slideshow": {
     "slide_type": "slide"
    }
   },
   "source": [
    "## Condition of a Problem"
   ]
  },
  {
   "cell_type": "markdown",
   "metadata": {
    "slideshow": {
     "slide_type": "fragment"
    }
   },
   "source": [
    "In numerical computing, as we will soon see, we constantly make small errors in representing real numbers and the operations on them. Consequently we need to know whether the problems we want to solve are very sensitive to perturbations. The condition number measures this senstivity."
   ]
  },
  {
   "cell_type": "markdown",
   "metadata": {
    "slideshow": {
     "slide_type": "fragment"
    }
   },
   "source": [
    "We view a _problem_ as a function $f:X\\to Y$ between the _data_ $X$ and the _solutions_ $Y$, where $X$ and $Y$ are both normed vector spaces."
   ]
  },
  {
   "cell_type": "markdown",
   "metadata": {
    "slideshow": {
     "slide_type": "fragment"
    }
   },
   "source": [
    "A problem is _well-conditioned_ if small perturbations of $x$ lead to only small changes in $f(x)$.  Otherwise a problem is called _ill-conditioned_."
   ]
  },
  {
   "cell_type": "markdown",
   "metadata": {
    "slideshow": {
     "slide_type": "slide"
    }
   },
   "source": [
    "## Absolute Condition Number"
   ]
  },
  {
   "cell_type": "markdown",
   "metadata": {
    "slideshow": {
     "slide_type": "fragment"
    }
   },
   "source": [
    "Let $\\delta x$ denote a small perturbation of $x$, and write: $\\delta f = f(x+\\delta x) - f(x)$.  We define the _absolute condition number_:\n",
    "\n",
    "$$\n",
    "\\hat{\\kappa} = \\lim_{\\delta \\to 0} \\sup_{\\|\\delta x\\| \\leq \\delta} \\frac{\\|\\delta f\\|}{\\|\\delta x\\|} \\quad \\left(=\\sup_{\\delta x} \\frac{\\|\\delta f\\|}{\\|\\delta x\\|}.\\right)\n",
    "$$"
   ]
  },
  {
   "cell_type": "markdown",
   "metadata": {
    "slideshow": {
     "slide_type": "subslide"
    }
   },
   "source": [
    "If $\\mathbf{f}$ is differentiable, let $\\mathbf{Df}(\\mathbf{x}) = \\left(\\frac{\\partial f_i}{\\partial x_j}\\right)$ be the _Jacobian_ or _total derivative_ of $\\mathbf{f}$ at $\\mathbf{x}$.  Since $\\delta \\mathbf{f} \\approx \\mathbf{Df}(\\mathbf{x}) \\delta \\mathbf{x}$, we see:\n",
    "\n",
    "$$\n",
    "\\hat{\\kappa} = \\|\\mathbf{Df}(\\mathbf{x})\\|\n",
    "$$\n",
    "\n",
    "where $\\|\\cdot \\|$ is the norm of $\\mathbf{Df}$ induced by the norms of $X$ and $Y$."
   ]
  },
  {
   "cell_type": "markdown",
   "metadata": {
    "slideshow": {
     "slide_type": "slide"
    }
   },
   "source": [
    "## Relative Condition Number"
   ]
  },
  {
   "cell_type": "markdown",
   "metadata": {
    "slideshow": {
     "slide_type": "fragment"
    }
   },
   "source": [
    "The _relative condition number_ is defined to be:\n",
    "$$\n",
    "\\kappa = \\lim_{\\delta \\to 0} \\sup_{\\|\\delta x\\|\\leq \\delta} \\left(\\frac{\\|\\delta f\\|}{\\|f(x)\\|}\\left/\\frac{\\|\\delta x\\|}{\\|x\\|}\\right.\\right)\n",
    "$$"
   ]
  },
  {
   "cell_type": "markdown",
   "metadata": {
    "slideshow": {
     "slide_type": "fragment"
    }
   },
   "source": [
    "In the case where $f$ is differentiable:\n",
    "$$\\kappa = \\frac{\\|\\mathbf{Df}(\\mathbf{x})\\|}{\\|\\mathbf{f}(\\mathbf{x})\\|/\\|\\mathbf{x}\\|}.$$"
   ]
  },
  {
   "cell_type": "markdown",
   "metadata": {
    "slideshow": {
     "slide_type": "slide"
    }
   },
   "source": [
    "## Examples"
   ]
  },
  {
   "cell_type": "markdown",
   "metadata": {
    "slideshow": {
     "slide_type": "fragment"
    }
   },
   "source": [
    "- Consider the problem of obtaining the scalar $x/2$ from $x\\in\\mathbb{C}$.   The Jacobian of $f(x) = x/2$, is $1/2$.  Therefore: $$\\kappa = \\frac{\\|\\mathbf{D}f\\|}{\\|f(x)\\|/\\|x\\|} = \\frac{1/2}{(x/2)/x} = 1.$$"
   ]
  },
  {
   "cell_type": "markdown",
   "metadata": {
    "slideshow": {
     "slide_type": "fragment"
    }
   },
   "source": [
    "- Consider the problem of obtaining the square-root $\\sqrt{x}$ from $x>0$.   The Jacobian of $f(x) = \\sqrt{x}$, is $1/2\\sqrt{x}$.  Therefore: $$\\kappa = \\frac{\\|\\mathbf{D}f\\|}{\\|f(x)\\|/\\|x\\|} = \\frac{1/(2\\sqrt{x})}{\\sqrt{x}/x} = \\frac{1}{2}.$$"
   ]
  },
  {
   "cell_type": "markdown",
   "metadata": {
    "slideshow": {
     "slide_type": "subslide"
    }
   },
   "source": [
    "- Consider the problem of obtaining the scalar $f(\\mathbf{x}) = x_1-x_2$ from $\\mathbf{x} = (x_1,x_2)* \\in \\mathbb{C}^2$.  The Jacobian is:\n",
    "$$\n",
    "\\mathbf{D}f = \\begin{bmatrix} f_{x_1} & f_{x_2}\\end{bmatrix} = \\begin{bmatrix} 1 & -1 \\end{bmatrix}.\n",
    "$$\n",
    "\n",
    "Therefore $\\|\\mathbf{D}f\\|_\\infty=2$:\n",
    "$$\n",
    "\\kappa = \\frac{\\|\\mathbf{D}f\\|}{\\|f(\\mathbf{x})\\|/\\|\\mathbf{x}\\|} = \\frac{2}{|x_1-x_2|/\\max\\{|x_1|,|x_2|\\}}.\n",
    "$$\n",
    "\n",
    "This is large if $x_1\\approx x_2$."
   ]
  },
  {
   "cell_type": "markdown",
   "metadata": {
    "slideshow": {
     "slide_type": "slide"
    }
   },
   "source": [
    "## Polynomial roots"
   ]
  },
  {
   "cell_type": "markdown",
   "metadata": {
    "slideshow": {
     "slide_type": "fragment"
    }
   },
   "source": [
    "The roots of a polynomial become sensitive to the values of the coefficients in the monomial basis when roots are relatively close to one another. Consider, for example,"
   ]
  },
  {
   "cell_type": "code",
   "execution_count": 9,
   "metadata": {
    "collapsed": false,
    "slideshow": {
     "slide_type": "fragment"
    }
   },
   "outputs": [
    {
     "ename": "LoadError",
     "evalue": "LoadError: ArgumentError: Module Polynomials not found in current path.\nRun `Pkg.add(\"Polynomials\")` to install the Polynomials package.\nwhile loading In[9], in expression starting on line 1",
     "output_type": "error",
     "traceback": [
      "LoadError: ArgumentError: Module Polynomials not found in current path.\nRun `Pkg.add(\"Polynomials\")` to install the Polynomials package.\nwhile loading In[9], in expression starting on line 1",
      "",
      " in require(::Symbol) at ./loading.jl:365"
     ]
    }
   ],
   "source": [
    "using Polynomials \n",
    "p = poly([1,1,1,0.4,2.2]);          # polynomial with these as roots\n",
    "q = Poly( p.a + 1e-9*randn(6) );    # small changes to its coefficients\n",
    "println(roots(q))"
   ]
  },
  {
   "cell_type": "markdown",
   "metadata": {
    "slideshow": {
     "slide_type": "fragment"
    }
   },
   "source": [
    "Observe that the triple root at 1 changed a lot more than the size of the perturbation would suggest; the other two roots changed by an amount less than $10^{-9}$. The effect can be more dramatically shown using the Wilkinson polynomial. "
   ]
  },
  {
   "cell_type": "code",
   "execution_count": 10,
   "metadata": {
    "collapsed": false,
    "slideshow": {
     "slide_type": "subslide"
    }
   },
   "outputs": [
    {
     "ename": "LoadError",
     "evalue": "LoadError: UndefVarError: poly not defined\nwhile loading In[10], in expression starting on line 1",
     "output_type": "error",
     "traceback": [
      "LoadError: UndefVarError: poly not defined\nwhile loading In[10], in expression starting on line 1",
      ""
     ]
    }
   ],
   "source": [
    "p = poly(1.0:20);\n",
    "using PyPlot\n",
    "plot(collect(1:20),zeros(20),\"ko\")\n",
    "for k = 1:500\n",
    "    q = Poly(p.a.*(1+1e-9*randn(21)));  # relative perturbations\n",
    "    r = roots(q);\n",
    "    plot(real(r),imag(r),\".\")\n",
    "end"
   ]
  },
  {
   "cell_type": "markdown",
   "metadata": {
    "slideshow": {
     "slide_type": "subslide"
    }
   },
   "source": [
    "Clearly, having roots close together is not the only way to get sensitivity in the roots. In fact we can't accurately compute the roots even without perturbation to the data:"
   ]
  },
  {
   "cell_type": "code",
   "execution_count": 11,
   "metadata": {
    "collapsed": false,
    "slideshow": {
     "slide_type": "fragment"
    }
   },
   "outputs": [
    {
     "ename": "LoadError",
     "evalue": "LoadError: UndefVarError: roots not defined\nwhile loading In[11], in expression starting on line 1",
     "output_type": "error",
     "traceback": [
      "LoadError: UndefVarError: roots not defined\nwhile loading In[11], in expression starting on line 1",
      ""
     ]
    }
   ],
   "source": [
    "roots(p)"
   ]
  },
  {
   "cell_type": "markdown",
   "metadata": {
    "slideshow": {
     "slide_type": "slide"
    }
   },
   "source": [
    "## Condition of Matrix-Vector Multiplication"
   ]
  },
  {
   "cell_type": "markdown",
   "metadata": {
    "slideshow": {
     "slide_type": "fragment"
    }
   },
   "source": [
    "Fix $A\\in \\mathbb{C}^{m\\times n}$:\n",
    "$$\n",
    "\\kappa = \\sup_{\\delta x} \\left(\\frac{\\|A(x + \\delta x) - Ax\\|}{\\|Ax\\|}\\left/\\frac{\\|\\delta x\\|}{\\|x\\|}\\right.\\right) = \\sup_{\\delta x} \\frac{\\|A\\delta x\\|}{\\|\\delta x\\|}\\left/\\frac{\\|Ax\\|}{\\|x\\|}\\right. = \\|A\\| \\frac{\\|x\\|}{\\|Ax\\|}\n",
    "$$"
   ]
  },
  {
   "cell_type": "markdown",
   "metadata": {
    "slideshow": {
     "slide_type": "subslide"
    }
   },
   "source": [
    "When $A$ is square and nonsingular, then $\\|x\\|/\\|Ax\\|\\leq \\|A^{-1}\\|$:"
   ]
  },
  {
   "cell_type": "markdown",
   "metadata": {
    "slideshow": {
     "slide_type": "fragment"
    }
   },
   "source": [
    "> ** THEOREM. ** Let $A\\in\\mathbb{C}^{m\\times m}$ be nonsingular and consider the equation $A\\mathbf{x} = \\mathbf{b}$  \n",
    "- The problem of computing $\\mathbf{b}$, given $\\mathbf{x}$, has condition number (wrt $\\mathbf{x}$): $$\\kappa = \\|A\\|\\frac{\\|\\mathbf{x}\\|}{\\|\\mathbf{b}\\|} \\leq \\|A\\|\\cdot \\|A^{-1}\\|.$$\n",
    "- The problem of computing $\\mathbf{x}$, given $\\mathbf{b}$, has condition number (wrt $\\mathbf{b}$): $$\\kappa = \\|A\\|\\frac{\\|\\mathbf{b}\\|}{\\|\\mathbf{x}\\|} \\leq \\|A\\|\\cdot \\|A^{-1}\\|.$$"
   ]
  },
  {
   "cell_type": "markdown",
   "metadata": {
    "slideshow": {
     "slide_type": "slide"
    }
   },
   "source": [
    "## Matrix condition number"
   ]
  },
  {
   "cell_type": "markdown",
   "metadata": {
    "slideshow": {
     "slide_type": "fragment"
    }
   },
   "source": [
    "We have particular interest in the condition number of the problem \"given square matrix $A$ and vector $b$, find vector $x$ such that $Ax=b$.\" More simply: \"map $b$ to $A^{-1}b$.\" The relative condition number of this problem is bounded above by the *matrix condition number* \n",
    "\n",
    "$$\\kappa(A)=\\|A\\|\\,\\|A^{-1}\\|.$$\n",
    "\n",
    "Furthermore, in any particular case there exist perturbations to the data such that the upper bound is achieved. "
   ]
  },
  {
   "cell_type": "markdown",
   "metadata": {
    "slideshow": {
     "slide_type": "fragment"
    }
   },
   "source": [
    "$A$ is said to be _well-conditioned_ if $\\kappa(A)$ is small, and _ill-conditioned_ otherwise."
   ]
  },
  {
   "cell_type": "code",
   "execution_count": 12,
   "metadata": {
    "collapsed": false,
    "slideshow": {
     "slide_type": "subslide"
    }
   },
   "outputs": [
    {
     "name": "stderr",
     "output_type": "stream",
     "text": [
      "WARNING: Method definition hilb(Any) in module Main at In[1]:1 overwritten at In[12]:1.\n"
     ]
    },
    {
     "data": {
      "text/plain": [
       "(1.5350438953289741e6,\n",
       "[0.5 0.333333 … 0.2 0.166667; 0.333333 0.25 … 0.166667 0.142857; … ; 0.2 0.166667 … 0.125 0.111111; 0.166667 0.142857 … 0.111111 0.1])"
      ]
     },
     "execution_count": 12,
     "metadata": {},
     "output_type": "execute_result"
    }
   ],
   "source": [
    "hilb(n) = [ 1.0/(i+j) for i=1:n, j=1:n];\n",
    "A = hilb(5);  kappa = cond(A), A"
   ]
  },
  {
   "cell_type": "markdown",
   "metadata": {
    "slideshow": {
     "slide_type": "subslide"
    }
   },
   "source": [
    "Notice that if $\\|\\cdot \\| = \\|\\cdot \\|_2$, then $\\|A\\|= \\sigma_1$, and $\\|A^{-1}\\| = \\frac{1}{\\sigma_m}$, thus:\n",
    "$$\\kappa(A) = \\frac{\\sigma_1}{\\sigma_m}.$$"
   ]
  },
  {
   "cell_type": "code",
   "execution_count": 13,
   "metadata": {
    "collapsed": false,
    "slideshow": {
     "slide_type": "fragment"
    }
   },
   "outputs": [
    {
     "data": {
      "text/plain": [
       "1.5350438953289741e6"
      ]
     },
     "execution_count": 13,
     "metadata": {},
     "output_type": "execute_result"
    }
   ],
   "source": [
    "s = svdvals(A); s[1]/s[5]"
   ]
  },
  {
   "cell_type": "markdown",
   "metadata": {
    "slideshow": {
     "slide_type": "fragment"
    }
   },
   "source": [
    "One can view this as the _eccentricity_ of the image of the unit sphere under $A$."
   ]
  },
  {
   "cell_type": "markdown",
   "metadata": {
    "slideshow": {
     "slide_type": "subslide"
    }
   },
   "source": [
    "We can extend this to full rank matrices $A\\in \\mathbb{C}^{m\\times n}$, $m\\geq n$, by setting $\\kappa(A) = \\|A\\|\\|A^+\\|$.  Then:\n",
    "$$\n",
    "\\kappa (A) = \\frac{\\sigma_1}{\\sigma_n},\n",
    "$$\n",
    "where $n$ is the rank of $A$."
   ]
  },
  {
   "cell_type": "markdown",
   "metadata": {
    "slideshow": {
     "slide_type": "subslide"
    }
   },
   "source": [
    "The importance of _relative_ condition numbers is that they explain accuracy in dimensionless terms, i.e. significant digits. This condition number says we could \"lose\" up to 5 or so digits in the passage from data to result. So we make relative perturbations to $b$ and see the relative effect on the result."
   ]
  },
  {
   "cell_type": "code",
   "execution_count": 16,
   "metadata": {
    "collapsed": false,
    "slideshow": {
     "slide_type": "subslide"
    }
   },
   "outputs": [
    {
     "name": "stdout",
     "output_type": "stream",
     "text": [
      " relative error = 1.36e-05\n",
      " relative error = 6.24e-06\n",
      " relative error = 1.04e-05\n",
      " relative error = 2.10e-07\n",
      " relative error = 4.76e-06\n",
      " relative error = 5.36e-06\n",
      " relative error = 4.34e-05\n",
      " relative error = 1.30e-05\n"
     ]
    },
    {
     "name": "stderr",
     "output_type": "stream",
     "text": [
      "WARNING: Method definition perturb(Any, Any) in module Main at In[14]:1 overwritten at In[16]:1.\n"
     ]
    },
    {
     "ename": "LoadError",
     "evalue": "LoadError: MethodError: no method matching *(::Float64, ::Tuple{Float64,Array{Float64,2}})\nClosest candidates are:\n  *(::Any, ::Any, !Matched::Any, !Matched::Any...) at operators.jl:138\n  *(::Float64, !Matched::Float64) at float.jl:244\n  *(::Real, !Matched::Complex{Bool}) at complex.jl:158\n  ...\nwhile loading In[16], in expression starting on line 218",
     "output_type": "error",
     "traceback": [
      "LoadError: MethodError: no method matching *(::Float64, ::Tuple{Float64,Array{Float64,2}})\nClosest candidates are:\n  *(::Any, ::Any, !Matched::Any, !Matched::Any...) at operators.jl:138\n  *(::Float64, !Matched::Float64) at float.jl:244\n  *(::Real, !Matched::Complex{Bool}) at complex.jl:158\n  ...\nwhile loading In[16], in expression starting on line 218",
      ""
     ]
    }
   ],
   "source": [
    "perturb(z,ep) = z.*(1 + ep*(2*rand(size(z))-1));\n",
    "x = 0.3+(1:5);  b = A*x;\n",
    "for k = 1:8\n",
    "    bb = perturb(b,1e-10);\n",
    "    @printf(\" relative error = %.2e\\n\", norm( A\\bb - x ) / norm( x ) )\n",
    "end\n",
    "@show bound = 1e-10*kappa;"
   ]
  },
  {
   "cell_type": "markdown",
   "metadata": {
    "slideshow": {
     "slide_type": "subslide"
    }
   },
   "source": [
    "The same holds for perturbations to $A$, though the error has higher-order terms that vanish only in the limit of infinitesimal perturbations."
   ]
  },
  {
   "cell_type": "code",
   "execution_count": 15,
   "metadata": {
    "collapsed": false,
    "slideshow": {
     "slide_type": "fragment"
    }
   },
   "outputs": [
    {
     "name": "stdout",
     "output_type": "stream",
     "text": [
      " relative error = 8.03e-06\n",
      " relative error = 2.49e-05\n",
      " relative error = 1.81e-06\n",
      " relative error = 1.08e-06\n",
      " relative error = 1.08e-05\n",
      " relative error = 1.26e-05\n",
      " relative error = 1.51e-06\n",
      " relative error = 2.43e-06\n"
     ]
    },
    {
     "ename": "LoadError",
     "evalue": "LoadError: MethodError: no method matching *(::Float64, ::Tuple{Float64,Array{Float64,2}})\nClosest candidates are:\n  *(::Any, ::Any, !Matched::Any, !Matched::Any...) at operators.jl:138\n  *(::Float64, !Matched::Float64) at float.jl:244\n  *(::Real, !Matched::Complex{Bool}) at complex.jl:158\n  ...\nwhile loading In[15], in expression starting on line 218",
     "output_type": "error",
     "traceback": [
      "LoadError: MethodError: no method matching *(::Float64, ::Tuple{Float64,Array{Float64,2}})\nClosest candidates are:\n  *(::Any, ::Any, !Matched::Any, !Matched::Any...) at operators.jl:138\n  *(::Float64, !Matched::Float64) at float.jl:244\n  *(::Real, !Matched::Complex{Bool}) at complex.jl:158\n  ...\nwhile loading In[15], in expression starting on line 218",
      ""
     ]
    }
   ],
   "source": [
    "x = 0.3+(1:5);  b = A*x;\n",
    "for k = 1:8\n",
    "    AA = perturb(A,1e-10);\n",
    "    @printf(\" relative error = %.2e\\n\", norm( AA\\b - x ) / norm( x ) )\n",
    "end\n",
    "@show bound = 1e-10*kappa;"
   ]
  },
  {
   "cell_type": "markdown",
   "metadata": {
    "slideshow": {
     "slide_type": "slide"
    }
   },
   "source": [
    "## Condition of a System of Equations"
   ]
  },
  {
   "cell_type": "markdown",
   "metadata": {
    "slideshow": {
     "slide_type": "fragment"
    }
   },
   "source": [
    "What happens when we perturb the matrix $A$ itself?"
   ]
  },
  {
   "cell_type": "markdown",
   "metadata": {
    "slideshow": {
     "slide_type": "fragment"
    }
   },
   "source": [
    "$$\n",
    "(A + \\delta A)(\\mathbf{x} + \\delta \\mathbf{x}) = \\mathbf{b}\n",
    "$$"
   ]
  },
  {
   "cell_type": "markdown",
   "metadata": {
    "slideshow": {
     "slide_type": "fragment"
    }
   },
   "source": [
    "Expanding, and reducing to first order terms gives:\n",
    "$$\n",
    "(\\delta A) \\mathbf{x} + A(\\delta\\mathbf{x}) = \\mathbf{0}, \\quad \\Longrightarrow \\quad \\delta \\mathbf{x} = -A^{-1} (\\delta A) \\mathbf{x}.\n",
    "$$"
   ]
  },
  {
   "cell_type": "markdown",
   "metadata": {
    "slideshow": {
     "slide_type": "fragment"
    }
   },
   "source": [
    "Thus $\\|\\delta \\mathbf{x} \\| \\leq \\|A^{-1}\\| \\|\\delta A\\| \\|\\mathbf{x} \\|$, i.e.\n",
    "$$\n",
    "\\frac{\\|\\delta \\mathbf{x}\\|}{\\|\\mathbf{x}\\|}\\left/\\frac{\\|\\delta A\\|}{\\|A\\|}\\right.\\leq \\|A^{-1}\\|\\|A\\| = \\kappa(A).\n",
    "$$"
   ]
  },
  {
   "cell_type": "markdown",
   "metadata": {
    "slideshow": {
     "slide_type": "subslide"
    }
   },
   "source": [
    "Equality will hold whenever $\\delta A$ is such that:\n",
    "$$\\|A^{-1}(\\delta A)\\mathbf{x} \\| = \\|A^{-1} \\|\\|\\delta A\\| \\|\\mathbf{x}\\|,$$ This can be attained."
   ]
  },
  {
   "cell_type": "markdown",
   "metadata": {
    "slideshow": {
     "slide_type": "fragment"
    }
   },
   "source": [
    "> ** THEOREM. ** Let $\\mathbf{b}$ be fixed and consider the problem of computing $\\mathbf{x} = A^{-1}\\mathbf{b}$, where $A$ is square and nonsingular.  The condition number of this problem with respect to perturbations in $A$ is:\n",
    "$$\\kappa = \\|A\\|\\|A^{-1}\\| = \\kappa(A).$$"
   ]
  },
  {
   "cell_type": "markdown",
   "metadata": {
    "slideshow": {
     "slide_type": "fragment"
    }
   },
   "source": [
    "If a problem $A\\mathbf{x} =\\mathbf{b}$ contains an ill-conditioned $A$, one must expect to \"lose $\\log_{10} \\kappa(A)$ digits\"."
   ]
  },
  {
   "cell_type": "code",
   "execution_count": null,
   "metadata": {
    "collapsed": true
   },
   "outputs": [],
   "source": []
  }
 ],
 "metadata": {
  "celltoolbar": "Slideshow",
  "kernelspec": {
   "display_name": "Julia 0.5.0",
   "language": "julia",
   "name": "julia-0.5"
  },
  "language_info": {
   "file_extension": ".jl",
   "mimetype": "application/julia",
   "name": "julia",
   "version": "0.5.0"
  }
 },
 "nbformat": 4,
 "nbformat_minor": 1
}
