{
 "cells": [
  {
   "cell_type": "code",
   "execution_count": 2,
   "metadata": {
    "collapsed": true,
    "slideshow": {
     "slide_type": "skip"
    }
   },
   "outputs": [],
   "source": [
    "using PyPlot"
   ]
  },
  {
   "cell_type": "markdown",
   "metadata": {
    "slideshow": {
     "slide_type": "slide"
    }
   },
   "source": [
    "# Sparse matrices and iterative methods"
   ]
  },
  {
   "cell_type": "markdown",
   "metadata": {
    "slideshow": {
     "slide_type": "slide"
    }
   },
   "source": [
    "## Sparse format"
   ]
  },
  {
   "cell_type": "markdown",
   "metadata": {
    "slideshow": {
     "slide_type": "fragment"
    }
   },
   "source": [
    "Large matrices whose entries are mostly zeros are typically called _sparse_. They can be stored more efficiently than \"dense\" or full matrices, but must explicitly be constructed as a sparse type."
   ]
  },
  {
   "cell_type": "code",
   "execution_count": 4,
   "metadata": {
    "collapsed": true,
    "slideshow": {
     "slide_type": "fragment"
    }
   },
   "outputs": [
    {
     "name": "stdout",
     "output_type": "stream",
     "text": [
      "                             A    704 KB     10000×10000 SparseMatrixCSC{Float…\n",
      "                          Base  36315 KB     Module\n",
      "                       BinDeps    218 KB     Module\n",
      "                    ColorTypes   5845 KB     Module\n",
      "                        Colors    403 KB     Module\n",
      "                        Compat   5594 KB     Module\n",
      "                         Conda   5591 KB     Module\n",
      "                          Core  13918 KB     Module\n",
      "             FixedPointNumbers     30 KB     Module\n",
      "                        IJulia   6688 KB     Module\n",
      "                          JSON   5652 KB     Module\n",
      "                 JuliaBoxUtils   5502 KB     Module\n",
      "                  LaTeXStrings   4622 bytes  Module\n",
      "                    MacroTools   5728 KB     Module\n",
      "                          Main  47358 KB     Module\n",
      "                        Nettle   5579 KB     Module\n",
      "                        PyCall   6446 KB     Module\n",
      "                        PyPlot   6941 KB     Module\n",
      "                      Reexport   5300 bytes  Module\n",
      "                           SHA     71 KB     Module\n",
      "                     URIParser   5582 KB     Module\n",
      "                           ZMQ   5593 KB     Module\n"
     ]
    }
   ],
   "source": [
    "A = sprandn(10000,10000,0.0004);\n",
    "whos()"
   ]
  },
  {
   "cell_type": "markdown",
   "metadata": {
    "slideshow": {
     "slide_type": "fragment"
    }
   },
   "source": [
    "The equivalent full (or \"dense\") matrix would require 800 MB of storage."
   ]
  },
  {
   "cell_type": "markdown",
   "metadata": {
    "slideshow": {
     "slide_type": "subslide"
    }
   },
   "source": [
    "Two common ways to inspect a sparse matrix are nnz, the number of nonzeros, and spy, which shows the locations of the nonzeros."
   ]
  },
  {
   "cell_type": "code",
   "execution_count": 5,
   "metadata": {
    "collapsed": false,
    "slideshow": {
     "slide_type": "fragment"
    }
   },
   "outputs": [
    {
     "data": {
      "text/plain": [
       "40103"
      ]
     },
     "execution_count": 5,
     "metadata": {},
     "output_type": "execute_result"
    }
   ],
   "source": [
    "nnz(A)"
   ]
  },
  {
   "cell_type": "code",
   "execution_count": 1,
   "metadata": {
    "collapsed": true,
    "slideshow": {
     "slide_type": "fragment"
    }
   },
   "outputs": [
    {
     "ename": "LoadError",
     "evalue": "LoadError: UndefVarError: spy not defined\nwhile loading In[1], in expression starting on line 1",
     "output_type": "error",
     "traceback": [
      "LoadError: UndefVarError: spy not defined\nwhile loading In[1], in expression starting on line 1",
      ""
     ]
    }
   ],
   "source": [
    "spy(A)"
   ]
  },
  {
   "cell_type": "markdown",
   "metadata": {
    "slideshow": {
     "slide_type": "subslide"
    }
   },
   "source": [
    "Sparse matrices are not just more memory-efficient; they are able to ignore zeros when taking sums and products."
   ]
  },
  {
   "cell_type": "code",
   "execution_count": 6,
   "metadata": {
    "collapsed": false,
    "slideshow": {
     "slide_type": "fragment"
    }
   },
   "outputs": [
    {
     "name": "stdout",
     "output_type": "stream",
     "text": [
      "elapsed time: 0.169964934 seconds\n"
     ]
    },
    {
     "data": {
      "text/plain": [
       "0.169964934"
      ]
     },
     "execution_count": 6,
     "metadata": {},
     "output_type": "execute_result"
    }
   ],
   "source": [
    "v = rand(10000,1);\n",
    "tic() \n",
    "for k = 1:100 \n",
    "    A*v; \n",
    "end\n",
    "toc()"
   ]
  },
  {
   "cell_type": "code",
   "execution_count": 7,
   "metadata": {
    "collapsed": false,
    "slideshow": {
     "slide_type": "fragment"
    }
   },
   "outputs": [
    {
     "name": "stdout",
     "output_type": "stream",
     "text": [
      "elapsed time: 28.75442597 seconds\n"
     ]
    },
    {
     "data": {
      "text/plain": [
       "28.75442597"
      ]
     },
     "execution_count": 7,
     "metadata": {},
     "output_type": "execute_result"
    }
   ],
   "source": [
    "F = full(A);\n",
    "tic()\n",
    "for k = 1:100\n",
    "    F*v; \n",
    "end\n",
    "toc()"
   ]
  },
  {
   "cell_type": "markdown",
   "metadata": {
    "slideshow": {
     "slide_type": "subslide"
    }
   },
   "source": [
    "_Nota Bene_: the way a sparse matrix is stored can make column operations a lot faster than row operations."
   ]
  },
  {
   "cell_type": "code",
   "execution_count": 8,
   "metadata": {
    "collapsed": false,
    "slideshow": {
     "slide_type": "fragment"
    }
   },
   "outputs": [
    {
     "name": "stdout",
     "output_type": "stream",
     "text": [
      "elapsed time: 1.271731222 seconds\n"
     ]
    },
    {
     "data": {
      "text/plain": [
       "1.271731222"
      ]
     },
     "execution_count": 8,
     "metadata": {},
     "output_type": "execute_result"
    }
   ],
   "source": [
    "B = A;\n",
    "tic()\n",
    "B[:,1000] = sum(B[:,1:10000],2); \n",
    "toc()"
   ]
  },
  {
   "cell_type": "code",
   "execution_count": 9,
   "metadata": {
    "collapsed": false,
    "slideshow": {
     "slide_type": "fragment"
    }
   },
   "outputs": [
    {
     "name": "stdout",
     "output_type": "stream",
     "text": [
      "elapsed time: 0.823173121 seconds\n"
     ]
    },
    {
     "data": {
      "text/plain": [
       "0.823173121"
      ]
     },
     "execution_count": 9,
     "metadata": {},
     "output_type": "execute_result"
    }
   ],
   "source": [
    "B = A;\n",
    "tic()\n",
    "B[1000,:] = sum(B[1:10000,:],1); \n",
    "toc()"
   ]
  },
  {
   "cell_type": "markdown",
   "metadata": {
    "slideshow": {
     "slide_type": "slide"
    }
   },
   "source": [
    "## Sparse backslash"
   ]
  },
  {
   "cell_type": "markdown",
   "metadata": {
    "slideshow": {
     "slide_type": "fragment"
    }
   },
   "source": [
    "There are algorithms that attempt to exploit sparsity when solving linear systems of equations. They will be called automatically when backslash is used on a sparse matrix. The time required varies wildly, but these methods can be surprisingly effective, especially for well-known common problems such as the 5-point Laplacian approximation."
   ]
  },
  {
   "cell_type": "code",
   "execution_count": 10,
   "metadata": {
    "collapsed": false,
    "slideshow": {
     "slide_type": "fragment"
    }
   },
   "outputs": [
    {
     "name": "stdout",
     "output_type": "stream",
     "text": [
      "m = n ^ 2 = 249001\n",
      "elapsed time: 4.584500911 seconds\n"
     ]
    },
    {
     "data": {
      "text/plain": [
       "4.584500911"
      ]
     },
     "execution_count": 10,
     "metadata": {},
     "output_type": "execute_result"
    }
   ],
   "source": [
    "n = 499;  \n",
    "@show m = n^2\n",
    "o = ones(m);\n",
    "A = spdiagm((-o[1:m-n],-o[1:m-1],4o,-o[1:m-1],-o[1:m-n]),[-n -1 0 1 n],m,m);\n",
    "b = ones(m);\n",
    "tic() \n",
    "x = A\\b; \n",
    "toc()"
   ]
  },
  {
   "cell_type": "markdown",
   "metadata": {
    "slideshow": {
     "slide_type": "fragment"
    }
   },
   "source": [
    "Thus a $250000\\times 250000$ matrix is not necessarily 'large'!"
   ]
  },
  {
   "cell_type": "markdown",
   "metadata": {
    "slideshow": {
     "slide_type": "slide"
    }
   },
   "source": [
    "## Jacobi and Gauss-Seidel"
   ]
  },
  {
   "cell_type": "markdown",
   "metadata": {
    "slideshow": {
     "slide_type": "fragment"
    }
   },
   "source": [
    "Sooner or later, though, one encounters  $A\\mathbf{x}=\\mathbf{b}$ problems of a type and size where the sparse direct algorithms take too long. At this point one turns to iterative methods, which can be halted before complete convergence."
   ]
  },
  {
   "cell_type": "markdown",
   "metadata": {
    "slideshow": {
     "slide_type": "fragment"
    }
   },
   "source": [
    "A classical iterative idea is to split the matrix additively: $A=M−N$, so that:\n",
    "\n",
    "$$M\\mathbf{x}=N\\mathbf{x}+\\mathbf{b}.$$"
   ]
  },
  {
   "cell_type": "markdown",
   "metadata": {
    "slideshow": {
     "slide_type": "fragment"
    }
   },
   "source": [
    "This is turns into a fixed-point iteration:\n",
    "\n",
    "$$M\\mathbf{x}^{(k+1)}=N\\mathbf{x}^{(k)}+\\mathbf{b}.$$\n",
    "\n",
    "If $M$ is the \"diagonal part\" of $A$, this is the **Jacobi** iteration, and if $M$ is the lower triangle of $A$, it is the **Gauss-Seidel** iteration."
   ]
  },
  {
   "cell_type": "code",
   "execution_count": 13,
   "metadata": {
    "collapsed": false,
    "slideshow": {
     "slide_type": "subslide"
    }
   },
   "outputs": [
    {
     "data": {
      "image/png": "[encoded data removed]",
      "text/plain": [
       "PyPlot.Figure(PyObject <matplotlib.figure.Figure object at 0x7f5646fa92d0>)"
      ]
     },
     "metadata": {},
     "output_type": "display_data"
    },
    {
     "data": {
      "text/plain": [
       "PyObject <matplotlib.text.Text object at 0x7f5647170d90>"
      ]
     },
     "execution_count": 13,
     "metadata": {},
     "output_type": "execute_result"
    }
   ],
   "source": [
    "m = 20000; A = sprandn(m,m,0.001) + m/100*speye(m); b = ones(m);\n",
    "dA = diag(A); N = - triu(A,1) - tril(A,-1); x = 0*b; \n",
    "normres = [];\n",
    "for k = 1:50\n",
    "    x = (N*x + b)./dA;\n",
    "    normres = [normres;norm(b-A*x)];\n",
    "end\n",
    "semilogy(normres,\".-\"); title(\"Convergence of Jacobi iteration\")"
   ]
  },
  {
   "cell_type": "markdown",
   "metadata": {
    "slideshow": {
     "slide_type": "subslide"
    }
   },
   "source": [
    "Iterative methods come at a price: the convergence of the method depends very strongly on the matrix $A$, as well as the method chosen. Unlike $LU$ factorization and the related direct methods, these methods are far from \"plug-n-play.\""
   ]
  },
  {
   "cell_type": "code",
   "execution_count": 12,
   "metadata": {
    "collapsed": false,
    "slideshow": {
     "slide_type": "subslide"
    }
   },
   "outputs": [
    {
     "data": {
      "image/png": "[encoded data removed]",
      "text/plain": [
       "PyPlot.Figure(PyObject <matplotlib.figure.Figure object at 0x7f56791a3350>)"
      ]
     },
     "metadata": {},
     "output_type": "display_data"
    },
    {
     "data": {
      "text/plain": [
       "PyObject <matplotlib.text.Text object at 0x7f56470c8410>"
      ]
     },
     "execution_count": 12,
     "metadata": {},
     "output_type": "execute_result"
    }
   ],
   "source": [
    "mu = sqrt(m);\n",
    "for i = 1:4\n",
    "    A = sprandn(m,m,0.001) + mu*speye(m); \n",
    "    dA = diag(A); \n",
    "    N = - triu(A,1) - tril(A,-1); \n",
    "    x = 0*b;\n",
    "    normres = [];\n",
    "    for k = 1:50\n",
    "        x = (N*x + b)./dA;\n",
    "        normres = [normres;norm(b-A*x)];\n",
    "    end\n",
    "    semilogy(normres,\".-\")\n",
    "    mu = mu/4;\n",
    "end\n",
    "title(\"Convergence of Jacobi iteration\")"
   ]
  },
  {
   "cell_type": "markdown",
   "metadata": {
    "slideshow": {
     "slide_type": "subslide"
    }
   },
   "source": [
    "Although Jacobi, Gauss-Seidel, and friends are helpful in some circumstances, they have been largely overtaken by **Krylov subspace methods**. \n",
    "\n",
    "They are more robust over a wider range of problems, they allow the incorporation of partial knowledge of the matrix or crude approximate solutions, and they can be used without even needing to know the matrix $A$!"
   ]
  },
  {
   "cell_type": "markdown",
   "metadata": {
    "slideshow": {
     "slide_type": "slide"
    }
   },
   "source": [
    "## Matrix-free iterations"
   ]
  },
  {
   "cell_type": "markdown",
   "metadata": {
    "slideshow": {
     "slide_type": "fragment"
    }
   },
   "source": [
    "A matrix is the expression of a linear transformation on vectors. Krylov subspace methods require the matrix $A$ only in the form, \"find  $A\\mathbf{v}$ given any vector $\\mathbf{v}$.\" That is, any representation of the linear transformation is just as good as having the matrix."
   ]
  },
  {
   "cell_type": "markdown",
   "metadata": {
    "slideshow": {
     "slide_type": "fragment"
    }
   },
   "source": [
    "For instance, consider the _PageRank_ algorithm that made Google the king of the internet search. PageRank represents the web as an undirected graph, or equivalently as a weighted adjacency matrix, where adjacency means a link in one page to another. "
   ]
  },
  {
   "cell_type": "markdown",
   "metadata": {
    "slideshow": {
     "slide_type": "fragment"
    }
   },
   "source": [
    "This is an enormous graph that is incredibly sparse. You don't need to worry about representing the adjacency matrix  $A$. Instead, you just need the capability to perform the mapping \"given the probability of being on every page, follow links randomly to calculate the probabilities of visiting every page next.\""
   ]
  },
  {
   "cell_type": "markdown",
   "metadata": {
    "slideshow": {
     "slide_type": "subslide"
    }
   },
   "source": [
    "In differential equations, we don't need a matrix representation of a discretized differentiation operator, which could be a headache on 2D or 3D regions. You just need the operation (for example), \"find the values of the derivative of an interpolant to these values.\" This matrix-free viewpoint is often easier to code and faster to compute."
   ]
  }
 ],
 "metadata": {
  "celltoolbar": "Slideshow",
  "kernelspec": {
   "display_name": "Julia 0.5.0",
   "language": "julia",
   "name": "julia-0.5"
  },
  "language_info": {
   "file_extension": ".jl",
   "mimetype": "application/julia",
   "name": "julia",
   "version": "0.5.0"
  }
 },
 "nbformat": 4,
 "nbformat_minor": 1
}
