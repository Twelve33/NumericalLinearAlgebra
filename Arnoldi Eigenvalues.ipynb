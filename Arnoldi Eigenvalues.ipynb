{
 "cells": [
  {
   "cell_type": "markdown",
   "metadata": {},
   "source": [
    "# Arnoldi for eigenvalues"
   ]
  },
  {
   "cell_type": "markdown",
   "metadata": {},
   "source": [
    "## Convergence on Arnoldi eigenvalues"
   ]
  },
  {
   "cell_type": "markdown",
   "metadata": {},
   "source": [
    "The convergence of the Ritz values (eigenvalues of $H_n$) to the eigenvalues of  $A$  is very complicated in general. As a rule, though, the iteration tends to find outlying or extreme eigenvalues first, only gradually resolving the interior ones.\n",
    "\n",
    "Here is a matrix with random eigenvalues of magnitude about 15 or less, plus two prescribed eigenvalues lying a little outside that disk."
   ]
  },
  {
   "cell_type": "code",
   "execution_count": 14,
   "metadata": {
    "collapsed": false
   },
   "outputs": [
    {
     "data": {
      "image/png": "[encoded data removed]",
      "text/plain": [
       "PyPlot.Figure(PyObject <matplotlib.figure.Figure object at 0x7f5557c2e390>)"
      ]
     },
     "metadata": {},
     "output_type": "display_data"
    }
   ],
   "source": [
    "using PyPlot\n",
    "m = 200;\n",
    "srand(231)\n",
    "A = [ randn(m-2,m-2) zeros(m-2,2); zeros(2,m-2) diagm([23,20im]) ];\n",
    "b = randn(m,1);  b = b/norm(b);\n",
    "λ = eigvals(A);\n",
    "plot(real(λ),imag(λ),\".\");\n",
    "axis(\"equal\");\n",
    "axis([-22,22,-22,22]);"
   ]
  },
  {
   "cell_type": "markdown",
   "metadata": {},
   "source": [
    "Here we compute the Arnolid iteration. Every so often we plot the eigenvalues of $H_n$, plus the \"Arnoldi lemniscate\" defined as\n",
    "\n",
    "$$\n",
    "\\left\\{z\\in\\mathbb{C}:\\mid p^n(z)\\mid =\\|p^n(A)\\mathbf{b}\\|\\|\\mathbf{b}\\|\\right\\},\n",
    "$$\n",
    " \n",
    "where $p^n(A)$ is the characteristic polynomial of $H_n$ (and the solution to a minimization problem for $A$ as described in the text). The interior of this curve is more or less what the iteration perceives as the spectrum of $A$."
   ]
  },
  {
   "cell_type": "code",
   "execution_count": 22,
   "metadata": {
    "collapsed": false
   },
   "outputs": [
    {
     "name": "stderr",
     "output_type": "stream",
     "text": [
      "WARNING: Method definition arnoldi(Any, Any, Any) in module Main at In[15]:2 overwritten at In[22]:2.\n"
     ]
    },
    {
     "data": {
      "text/plain": [
       "arnoldi (generic function with 1 method)"
      ]
     },
     "execution_count": 22,
     "metadata": {},
     "output_type": "execute_result"
    }
   ],
   "source": [
    "function arnoldi(A,b,n)\n",
    "    m = size(A,1);\n",
    "    Q = zeros(m,n+1);\n",
    "    H = zeros(n+1,n);\n",
    "    for j = 1:n\n",
    "        v = A*Q[:,j];\n",
    "        for i = 1:j\n",
    "            H[i,j] = dot(Q[:,i],v);\n",
    "            v = v - H[i,j]*Q[:,i];\n",
    "        end\n",
    "        if j<n\n",
    "            H[j+1,j] = norm(v);\n",
    "            if H[j+1,j] == 0\n",
    "                return Q, H\n",
    "            end\n",
    "            Q[:,j+1] = v/H[j+1,j];\n",
    "        end\n",
    "    end\n",
    "end"
   ]
  },
  {
   "cell_type": "code",
   "execution_count": 19,
   "metadata": {
    "collapsed": false
   },
   "outputs": [
    {
     "ename": "LoadError",
     "evalue": "LoadError: InexactError()\nwhile loading In[19], in expression starting on line 5",
     "output_type": "error",
     "traceback": [
      "LoadError: InexactError()\nwhile loading In[19], in expression starting on line 5",
      "",
      " in convert at ./complex.jl:23 [inlined]",
      " in setindex!(::Array{Float64,2}, ::Complex{Float64}, ::Int64, ::Int64) at ./array.jl:416",
      " in macro expansion; at ./In[19]:8 [inlined]",
      " in anonymous at ./<missing>:?"
     ]
    }
   ],
   "source": [
    "m = size(A,1);  n = 50;\n",
    "Q = zeros(m,n+1);\n",
    "H = zeros(n+1,n);\n",
    "Q[:,1] = b/norm(b);\n",
    "for j = 1:n\n",
    "    v = A*Q[:,j];\n",
    "    for i = 1:j\n",
    "        H[i,j] = dot(Q[:,i],v);\n",
    "        v = v - H[i,j]*Q[:,i];\n",
    "    end\n",
    "    H[j+1,j] = norm(v);\n",
    "    Q[:,j+1] = v/H[j+1,j];\n",
    "end"
   ]
  },
  {
   "cell_type": "code",
   "execution_count": 23,
   "metadata": {
    "collapsed": false
   },
   "outputs": [
    {
     "ename": "LoadError",
     "evalue": "LoadError: syntax: invalid assignment location \"[X,Y]\"\nwhile loading In[23], in expression starting on line 3",
     "output_type": "error",
     "traceback": [
      "LoadError: syntax: invalid assignment location \"[X,Y]\"\nwhile loading In[23], in expression starting on line 3",
      ""
     ]
    }
   ],
   "source": [
    "Q,H = arnoldi(A,b,24);\n",
    "\n",
    "[X,Y] = meshgrid(linspace(-25,25,100));\n",
    "Z = X + 1i*Y;\n",
    "\n",
    "plt = 1;\n",
    "for n = 5:8\n",
    "    subplot(2,2,plt)\n",
    "    plot(eig(A),'.')\n",
    "    axis([-25 25 -25 25]), axis equal\n",
    "    hold on\n",
    "\n",
    "    Hn = H(1:n,1:n);\n",
    "    plot(eig(Hn),'r.')\n",
    "    pn = poly(Hn);\n",
    "    c = norm(polyvalm(pn,A)*b);\n",
    "    W = polyval(pn,Z);\n",
    "    contour(X,Y,abs(W),c*[1 1])\n",
    "    title(sprintf('n = %i',n))\n",
    "    axis off\n",
    "    plt = plt+1;\n",
    "end"
   ]
  },
  {
   "cell_type": "code",
   "execution_count": null,
   "metadata": {
    "collapsed": true
   },
   "outputs": [],
   "source": []
  }
 ],
 "metadata": {
  "kernelspec": {
   "display_name": "Julia 0.5.0",
   "language": "julia",
   "name": "julia-0.5"
  },
  "language_info": {
   "file_extension": ".jl",
   "mimetype": "application/julia",
   "name": "julia",
   "version": "0.5.0"
  }
 },
 "nbformat": 4,
 "nbformat_minor": 1
}
