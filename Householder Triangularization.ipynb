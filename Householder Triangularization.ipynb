{
 "cells": [
  {
   "cell_type": "markdown",
   "metadata": {
    "slideshow": {
     "slide_type": "slide"
    }
   },
   "source": [
    "# Householder triangularization"
   ]
  },
  {
   "cell_type": "markdown",
   "metadata": {
    "slideshow": {
     "slide_type": "subslide"
    }
   },
   "source": [
    "## Householder Reflections"
   ]
  },
  {
   "cell_type": "markdown",
   "metadata": {
    "slideshow": {
     "slide_type": "fragment"
    }
   },
   "source": [
    "The stable way to get a $QR$ factorization is to operate orthogonally (unitarily) in order to produce a triangular $R$. Similar to Gaussian elimination, we proceed one column at a time, zeroing entries below the sub-diagonal. Instead of elementary triangular row operations, though, we can choose from reflections or rotations."
   ]
  },
  {
   "cell_type": "markdown",
   "metadata": {
    "slideshow": {
     "slide_type": "fragment"
    }
   },
   "source": [
    "$$\n",
    "\\begin{bmatrix} \\times & \\times & \\times \\\\  \\times & \\times & \\times \\\\  \\times & \\times & \\times \\\\  \\times & \\times & \\times \\\\  \\times & \\times & \\times \\\\ \\end{bmatrix} \\stackrel{Q_1}{\\to} \\begin{bmatrix} \\times & \\times & \\times \\\\  0 & \\times & \\times \\\\  0 & \\times & \\times \\\\  0 & \\times & \\times \\\\  0 & \\times & \\times \\\\ \\end{bmatrix} \\stackrel{Q_2}{\\to} \\begin{bmatrix} \\times & \\times & \\times \\\\  0 & \\times & \\times \\\\  0 & 0 & \\times \\\\  0 & 0 & \\times \\\\  0 & 0 & \\times \\\\ \\end{bmatrix} \\stackrel{Q_3}{\\to} \\begin{bmatrix} \\times & \\times & \\times \\\\  0 & \\times & \\times \\\\  0 & 0 & \\times \\\\  0 & 0 & 0 \\\\  0 & 0 & 0 \\\\ \\end{bmatrix}\n",
    "$$"
   ]
  },
  {
   "cell_type": "markdown",
   "metadata": {
    "slideshow": {
     "slide_type": "subslide"
    }
   },
   "source": [
    "The key step is to find, given $\\mathbf{x}$, a unitary $F$ such that $F\\mathbf{x}=\\alpha \\mathbf{e}_1$ for a scalar $\\alpha$. Since $F$ preserves the 2-norm, $\\alpha= \\pm \\|\\mathbf{x}\\|_2$. One can simply exhibit the solution. Define $\\mathbf{v}=\\alpha \\mathbf{e}_1 - \\mathbf{x}$ and set $$ F = I - 2 \\frac{\\mathbf{v}\\mathbf{v}^*}{\\mathbf{v}^*\\mathbf{v}}.$$\n",
    "\n",
    "Notice the similarity to the orthogonal projector."
   ]
  },
  {
   "cell_type": "markdown",
   "metadata": {
    "slideshow": {
     "slide_type": "fragment"
    }
   },
   "source": [
    "![HHR](https://upload.wikimedia.org/wikipedia/commons/thumb/7/7b/Householder.svg/503px-Householder.svg.png)"
   ]
  },
  {
   "cell_type": "code",
   "execution_count": 1,
   "metadata": {
    "collapsed": false,
    "slideshow": {
     "slide_type": "subslide"
    }
   },
   "outputs": [
    {
     "data": {
      "text/plain": [
       "6.274366372228879e-16"
      ]
     },
     "execution_count": 1,
     "metadata": {},
     "output_type": "execute_result"
    }
   ],
   "source": [
    "m = 5;\n",
    "I = eye(m);\n",
    "x = randn(m);  alpha = norm(x);\n",
    "v = alpha*[1;zeros(m-1)] - x;\n",
    "F = I - 2*(v*v')/dot(v,v);\n",
    "norm(F'*F-I)"
   ]
  },
  {
   "cell_type": "code",
   "execution_count": 2,
   "metadata": {
    "collapsed": false,
    "slideshow": {
     "slide_type": "fragment"
    }
   },
   "outputs": [
    {
     "data": {
      "text/plain": [
       "5-element Array{Float64,1}:\n",
       "  2.28349    \n",
       "  0.0        \n",
       " -5.55112e-17\n",
       "  0.0        \n",
       "  0.0        "
      ]
     },
     "execution_count": 2,
     "metadata": {},
     "output_type": "execute_result"
    }
   ],
   "source": [
    "F*x"
   ]
  },
  {
   "cell_type": "markdown",
   "metadata": {
    "slideshow": {
     "slide_type": "subslide"
    }
   },
   "source": [
    "In context, $\\mathbf{x}$ is drawn from rows $j$ to $m$ of column $j$, so that $F$ (applied to the lower rows) puts zeros below the diagonal as desired. For example,"
   ]
  },
  {
   "cell_type": "code",
   "execution_count": 3,
   "metadata": {
    "collapsed": false,
    "slideshow": {
     "slide_type": "fragment"
    }
   },
   "outputs": [
    {
     "data": {
      "text/plain": [
       "5×3 Array{Float64,2}:\n",
       " -2.25396      -1.58784    -0.134974 \n",
       "  1.71196e-16   0.948728   -0.569928 \n",
       "  3.75608e-17  -0.0738045   0.0430322\n",
       " -3.20111e-17  -0.261579    0.961307 \n",
       " -6.93889e-18   0.558271    1.08048  "
      ]
     },
     "execution_count": 3,
     "metadata": {},
     "output_type": "execute_result"
    }
   ],
   "source": [
    "n = 3;\n",
    "A = randn(m,n);  \n",
    "x = A[:,1];  \n",
    "v = [ x[1]+sign(x[1])*norm(x); x[2:end] ]; \n",
    "v = v/norm(v);\n",
    "F = I - 2*(v*v');\n",
    "F*A"
   ]
  },
  {
   "cell_type": "markdown",
   "metadata": {
    "slideshow": {
     "slide_type": "subslide"
    }
   },
   "source": [
    "Once $j$ sweeps from 1 to $n$, the matrix will be transformed into the $R$. If we accumulate the actions of these reflectors, we end up with the $Q$ as well (the full one or the thin one, as we choose).  \n",
    "\n",
    "There is an some important shortcut to know. In applications we rarely want the actual $Q$ or even the thin $\\hat{Q}$; instead we want the capability of applying $Q$ or $Q^*$ to a given vector. It's more efficient to store the $\\mathbf{v}$ vectors of the reflectors and apply them on demand, using \n",
    "\n",
    "$$F\\mathbf{z} = \\mathbf{z} - 2\\frac{\\mathbf{v}^*\\mathbf{z}}{\\mathbf{v}^*\\mathbf{v}}v.$$\n",
    "\n",
    "In Julia, the `qrfact` command returns the $R$ and the Householder vectors in a compact format. "
   ]
  },
  {
   "cell_type": "code",
   "execution_count": 4,
   "metadata": {
    "collapsed": false,
    "slideshow": {
     "slide_type": "subslide"
    }
   },
   "outputs": [
    {
     "data": {
      "text/plain": [
       "Base.LinAlg.QRCompactWY{Float64,Array{Float64,2}}([-2.25396 -1.58784 -0.134974; -0.535659 -1.13385 0.169457; … ; -0.37069 -0.125603 0.555754; 0.0120276 0.268067 0.81829],[1.40147 1.24606 0.206231; 6.94734e-310 1.83673 -0.211877; 6.94734e-310 6.94734e-310 1.01089])"
      ]
     },
     "execution_count": 4,
     "metadata": {},
     "output_type": "execute_result"
    }
   ],
   "source": [
    "QR = qrfact(A)"
   ]
  },
  {
   "cell_type": "markdown",
   "metadata": {
    "slideshow": {
     "slide_type": "subslide"
    }
   },
   "source": [
    "A better-known format is used by LAPACK, which can be called directly (overwriting the input matrix):"
   ]
  },
  {
   "cell_type": "code",
   "execution_count": 5,
   "metadata": {
    "collapsed": false,
    "slideshow": {
     "slide_type": "fragment"
    }
   },
   "outputs": [
    {
     "name": "stdout",
     "output_type": "stream",
     "text": [
      "QR = [-2.25396 -1.58784 -0.134974; -0.535659 -1.13385 0.169457; -0.0508576 -0.035439 -1.5458; -0.37069 -0.125603 0.555754; 0.0120276 0.268067 0.81829]\n"
     ]
    }
   ],
   "source": [
    "QR = copy(A);\n",
    "Base.LinAlg.LAPACK.geqrf!(QR);\n",
    "@show QR;"
   ]
  },
  {
   "cell_type": "markdown",
   "metadata": {
    "slideshow": {
     "slide_type": "subslide"
    }
   },
   "source": [
    "The upper triangle is just $R$, while the lower triangle contains the Householder vectors with first element normalized to 1."
   ]
  },
  {
   "cell_type": "code",
   "execution_count": 6,
   "metadata": {
    "collapsed": false,
    "slideshow": {
     "slide_type": "fragment"
    }
   },
   "outputs": [],
   "source": [
    "R = triu(QR); \n",
    "HH(v) = eye(length(v)) - 2*(v*v')./(v'*v);\n",
    "v1 = [1;QR[2:m,1]];  F1 = HH(v1);\n",
    "v2 = [1;QR[3:m,2]];  F2 = HH(v2);\n",
    "v3 = [1;QR[4:m,3]];  F3 = HH(v3);"
   ]
  },
  {
   "cell_type": "code",
   "execution_count": 7,
   "metadata": {
    "collapsed": false,
    "slideshow": {
     "slide_type": "fragment"
    }
   },
   "outputs": [
    {
     "name": "stdout",
     "output_type": "stream",
     "text": [
      "norm(Q * R - A) = 5.770966355010983e-16\n"
     ]
    }
   ],
   "source": [
    "Q = F1*cat([1,2],eye(1),F2)*cat([1,2],eye(2),F3);  # block diagonal constructions\n",
    "@show norm(Q*R-A);"
   ]
  },
  {
   "cell_type": "markdown",
   "metadata": {
    "slideshow": {
     "slide_type": "slide"
    }
   },
   "source": [
    "# Complexity of Orthogonal Triangularization"
   ]
  },
  {
   "cell_type": "markdown",
   "metadata": {
    "slideshow": {
     "slide_type": "subslide"
    }
   },
   "source": [
    "## Complexity of Householder's Algorithm"
   ]
  },
  {
   "cell_type": "markdown",
   "metadata": {
    "slideshow": {
     "slide_type": "fragment"
    }
   },
   "source": [
    "> ** THEOREM. ** Householder orthogonalization has the following asymptotic operation count is $\\sim 2mn^2-\\frac{2}{3} n^3$, i.e.: $$\\lim_{m,n\\to \\infty} \\frac{\\# \\text{flops}}{2mn^2-\\frac{2}{3}n^3} = 1.$$"
   ]
  },
  {
   "cell_type": "markdown",
   "metadata": {
    "slideshow": {
     "slide_type": "fragment"
    }
   },
   "source": [
    "In particular, Householder's Algorithm requires significantly less flops to run than either the classical Gram-Schmidt or the modified Gram-Schmidt."
   ]
  },
  {
   "cell_type": "markdown",
   "metadata": {
    "slideshow": {
     "slide_type": "slide"
    }
   },
   "source": [
    "## Orthogonal Triangularization vs. Triangular Orthogonalization"
   ]
  },
  {
   "cell_type": "markdown",
   "metadata": {
    "slideshow": {
     "slide_type": "subslide"
    }
   },
   "source": [
    "The `qr` function in Julia (and Matlab and SciPy), in contrast, defaults to using a Householder QR algorithm.  This gives an orthogonal $Q$ matrix and an accurate $R$:"
   ]
  },
  {
   "cell_type": "code",
   "execution_count": 8,
   "metadata": {
    "collapsed": false,
    "slideshow": {
     "slide_type": "skip"
    }
   },
   "outputs": [
    {
     "data": {
      "text/plain": [
       "mgs (generic function with 1 method)"
      ]
     },
     "execution_count": 8,
     "metadata": {},
     "output_type": "execute_result"
    }
   ],
   "source": [
    "# Classical Gram–Schmidt (Trefethen algorithm 7.1), implemented in the simplest way\n",
    "# (We could make it faster by unrolling loops to avoid temporaries arrays etc.)\n",
    "function clgs(A)\n",
    "    m,n = size(A)\n",
    "    Q = similar(A)\n",
    "    R = zeros(eltype(A),n,n)\n",
    "    for j = 1:n\n",
    "        aⱼ = A[:,j]\n",
    "        vⱼ = copy(aⱼ) # use copy so that modifying vⱼ doesn't change aⱼ\n",
    "        for i = 1:j-1\n",
    "            qᵢ = Q[:,i]\n",
    "            R[i,j] = dot(qᵢ, aⱼ)\n",
    "            vⱼ -= R[i,j] * qᵢ\n",
    "        end\n",
    "        R[j,j] = norm(vⱼ)\n",
    "        Q[:,j] = vⱼ / R[j,j]\n",
    "    end\n",
    "    return Q, R\n",
    "end\n",
    "\n",
    "# Modified Gram–Schmidt (Trefethen algorithm 8.1)\n",
    "function mgs(A)\n",
    "    m,n = size(A)\n",
    "    Q = similar(A)\n",
    "    R = zeros(eltype(A),n,n)\n",
    "    for j = 1:n\n",
    "        aⱼ = A[:,j]\n",
    "        vⱼ = copy(aⱼ)\n",
    "        for i = 1:j-1\n",
    "            qᵢ = Q[:,i]\n",
    "            R[i,j] = dot(qᵢ, vⱼ) # ⟵ NOTICE: mgs has vⱼ, clgs has aⱼ\n",
    "            vⱼ -= R[i,j] * qᵢ\n",
    "        end\n",
    "        R[j,j] = norm(vⱼ)\n",
    "        Q[:,j] = vⱼ / R[j,j]\n",
    "    end\n",
    "    return Q, R\n",
    "end"
   ]
  },
  {
   "cell_type": "code",
   "execution_count": 9,
   "metadata": {
    "collapsed": false,
    "slideshow": {
     "slide_type": "fragment"
    }
   },
   "outputs": [
    {
     "data": {
      "text/plain": [
       "(\n",
       "[-0.1891 0.17465 … 0.0313284 -0.0725869; 0.263572 -0.0759909 … -0.101085 -0.0149264; … ; -0.0281206 -0.088226 … -0.0229401 -0.024252; 0.108626 0.0728708 … -0.198116 0.0716586],\n",
       "\n",
       "[-0.0423232 -0.0273643 … -0.017747 -0.0449594; 0.0 -0.0236431 … 0.0041207 -0.0553444; … ; 0.0 0.0 … 5.03546e-18 -3.3892e-18; 0.0 0.0 … 0.0 8.54912e-18])"
      ]
     },
     "execution_count": 9,
     "metadata": {},
     "output_type": "execute_result"
    }
   ],
   "source": [
    "(U,s,V) = svd(randn(80,80));\n",
    "s = 2.0.^(-1:-1:-80);\n",
    "A = U*diagm(s)*V';\n",
    "(Qc,Rc) = clgs(A);  # classical\n",
    "(Qm,Rm) = mgs(A); # modified\n",
    "(Qh,Rh) = qr(A); # Householder"
   ]
  },
  {
   "cell_type": "code",
   "execution_count": 10,
   "metadata": {
    "collapsed": false,
    "slideshow": {
     "slide_type": "skip"
    }
   },
   "outputs": [
    {
     "data": {
      "text/plain": [
       "80"
      ]
     },
     "execution_count": 10,
     "metadata": {},
     "output_type": "execute_result"
    }
   ],
   "source": [
    "using PyPlot\n",
    "n = size(A,2)"
   ]
  },
  {
   "cell_type": "code",
   "execution_count": 11,
   "metadata": {
    "collapsed": false,
    "slideshow": {
     "slide_type": "subslide"
    }
   },
   "outputs": [
    {
     "data": {
      "image/png": "[encoded data removed]",
      "text/plain": [
       "PyPlot.Figure(PyObject <matplotlib.figure.Figure object at 0x7fe36c914e90>)"
      ]
     },
     "metadata": {},
     "output_type": "display_data"
    },
    {
     "data": {
      "text/plain": [
       "PyObject <matplotlib.text.Text object at 0x7fe36c648910>"
      ]
     },
     "execution_count": 11,
     "metadata": {},
     "output_type": "execute_result"
    },
    {
     "name": "stderr",
     "output_type": "stream",
     "text": [
      "WARNING: Base.writemime is deprecated.\n",
      "  likely near /opt/julia_packages/.julia/v0.5/IJulia/src/kernel.jl:31\n",
      "WARNING: Base.writemime is deprecated.\n",
      "  likely near /opt/julia_packages/.julia/v0.5/IJulia/src/kernel.jl:31\n",
      "WARNING: Base.writemime is deprecated.\n",
      "  likely near /opt/julia_packages/.julia/v0.5/IJulia/src/kernel.jl:31\n",
      "WARNING: Base.writemime is deprecated.\n",
      "  likely near /opt/julia_packages/.julia/v0.5/IJulia/src/kernel.jl:31\n",
      "WARNING: Base.writemime is deprecated.\n",
      "  likely near /opt/julia_packages/.julia/v0.5/IJulia/src/kernel.jl:31\n",
      "WARNING: Base.writemime is deprecated.\n",
      "  likely near /opt/julia_packages/.julia/v0.5/IJulia/src/kernel.jl:31\n",
      "WARNING: Base.writemime is deprecated.\n",
      "  likely near /opt/julia_packages/.julia/v0.5/IJulia/src/kernel.jl:31\n",
      "WARNING: Base.writemime is deprecated.\n",
      "  likely near /opt/julia_packages/.julia/v0.5/IJulia/src/kernel.jl:31\n",
      "WARNING: Base.writemime is deprecated.\n",
      "  likely near /opt/julia_packages/.julia/v0.5/IJulia/src/kernel.jl:31\n",
      "WARNING: Base.writemime is deprecated.\n",
      "  likely near /opt/julia_packages/.julia/v0.5/IJulia/src/kernel.jl:31\n",
      "WARNING: Base.writemime is deprecated.\n",
      "  likely near /opt/julia_packages/.julia/v0.5/IJulia/src/kernel.jl:31\n",
      "WARNING: Base.writemime is deprecated.\n",
      "  likely near /opt/julia_packages/.julia/v0.5/IJulia/src/kernel.jl:31\n",
      "WARNING: Base.writemime is deprecated.\n",
      "  likely near /opt/julia_packages/.julia/v0.5/IJulia/src/kernel.jl:31\n",
      "in show at /opt/julia_packages/.julia/v0.5/PyCall/src/PyCall.jl\n",
      "WARNING: Base.writemime is deprecated.\n",
      "  likely near /opt/julia_packages/.julia/v0.5/IJulia/src/kernel.jl:31\n",
      "in show at /opt/julia_packages/.julia/v0.5/PyCall/src/PyCall.jl\n",
      "WARNING: Base.writemime is deprecated.\n",
      "  likely near /opt/julia_packages/.julia/v0.5/IJulia/src/kernel.jl:31\n",
      "in show at /opt/julia_packages/.julia/v0.5/PyCall/src/PyCall.jl\n",
      "WARNING: Base.writemime is deprecated.\n",
      "  likely near /opt/julia_packages/.julia/v0.5/IJulia/src/kernel.jl:31\n",
      "in show at /opt/julia_packages/.julia/v0.5/PyCall/src/PyCall.jl\n",
      "WARNING: Base.writemime is deprecated.\n",
      "  likely near /opt/julia_packages/.julia/v0.5/IJulia/src/kernel.jl:31\n",
      "in show at /opt/julia_packages/.julia/v0.5/PyCall/src/PyCall.jl\n",
      "WARNING: Base.writemime is deprecated.\n",
      "  likely near /opt/julia_packages/.julia/v0.5/IJulia/src/kernel.jl:31\n",
      "in show at /opt/julia_packages/.julia/v0.5/PyCall/src/PyCall.jl\n",
      "WARNING: Base.writemime is deprecated.\n",
      "  likely near /opt/julia_packages/.julia/v0.5/IJulia/src/kernel.jl:31\n",
      "in show at /opt/julia_packages/.julia/v0.5/PyCall/src/PyCall.jl\n",
      "WARNING: Base.writemime is deprecated.\n",
      "  likely near /opt/julia_packages/.julia/v0.5/IJulia/src/kernel.jl:31\n",
      "in show at /opt/julia_packages/.julia/v0.5/PyCall/src/PyCall.jl\n",
      "WARNING: Base.writemime is deprecated.\n",
      "  likely near /opt/julia_packages/.julia/v0.5/IJulia/src/kernel.jl:31\n",
      "in show at /opt/julia_packages/.julia/v0.5/PyCall/src/PyCall.jl\n",
      "WARNING: Base.writemime is deprecated.\n",
      "  likely near /opt/julia_packages/.julia/v0.5/IJulia/src/kernel.jl:31\n",
      "in show at /opt/julia_packages/.julia/v0.5/PyCall/src/PyCall.jl\n",
      "WARNING: Base.writemime is deprecated.\n",
      "  likely near /opt/julia_packages/.julia/v0.5/IJulia/src/kernel.jl:31\n",
      "in show at /opt/julia_packages/.julia/v0.5/PyCall/src/PyCall.jl\n",
      "WARNING: Base.writemime is deprecated.\n",
      "  likely near /opt/julia_packages/.julia/v0.5/IJulia/src/kernel.jl:31\n",
      "in show at /opt/julia_packages/.julia/v0.5/PyCall/src/PyCall.jl\n"
     ]
    }
   ],
   "source": [
    "semilogy(abs(diag(Rh)), \"s\", mfc=\"none\"); semilogy(diag(Rc), \"bo\"); semilogy(diag(Rm), \"rx\")\n",
    "semilogy(2.0 .^ -(1:n), \"k-\"); semilogy(ones(n)*sqrt(eps()), \"b--\"); semilogy(ones(n)*eps(), \"r--\")\n",
    "legend([\"Householder\",\"classical\",\"modified\",L\"2^{-j}\", L\"\\sqrt{\\epsilon_\\mathrm{mach}}\", L\"\\epsilon_\\mathrm{mach}\"], loc=\"lower left\")\n",
    "ylabel(L\"r_{jj}\"); xlabel(L\"j\")"
   ]
  },
  {
   "cell_type": "markdown",
   "metadata": {
    "collapsed": true,
    "slideshow": {
     "slide_type": "slide"
    }
   },
   "source": [
    "## A worked example"
   ]
  },
  {
   "cell_type": "markdown",
   "metadata": {
    "slideshow": {
     "slide_type": "fragment"
    }
   },
   "source": [
    "Consider the following matrix:\n",
    "\n",
    "$$\n",
    "A = \\begin{bmatrix} 12 & -51 & 4\\\\ 6 & 167 & -68\\\\ -4 & 24 & -41 \\end{bmatrix}\n",
    "$$\n",
    "\n",
    "We want to find the QR factorization via Householder reflectors."
   ]
  },
  {
   "cell_type": "markdown",
   "metadata": {
    "slideshow": {
     "slide_type": "subslide"
    }
   },
   "source": [
    "First, we need to find a reflection that transforms the first column of matrix A, vector $\\mathbf{a}_1 = (12, 6, -4)^T$, into $\\|\\mathbf{a}_1\\| \\;\\mathrm{e}_1 = (14, 0, 0)^T.$"
   ]
  },
  {
   "cell_type": "markdown",
   "metadata": {
    "slideshow": {
     "slide_type": "fragment"
    }
   },
   "source": [
    "Now, \n",
    "$$\\mathbf{u} = \\mathbf{x} - \\alpha\\mathbf{e}_1,\\quad \\text{and}\\quad \\mathbf{v} = {\\mathbf{u}\\over\\|\\mathbf{u}\\|}.$$\n",
    "\n",
    "Here, $\\alpha =14$ and $\\mathbf{x} = \\mathbf{a}_1 = (12, 6, -4)^T$"
   ]
  },
  {
   "cell_type": "markdown",
   "metadata": {
    "slideshow": {
     "slide_type": "fragment"
    }
   },
   "source": [
    "Therefore:\n",
    "$$\n",
    "\\mathbf{u} = (-2, 6, -4)^T=({2})(-1, 3, -2)^T\\quad \\text{and}\\quad \\mathbf{v} = {1 \\over \\sqrt{14}}(-1, 3, -2)^T,\n",
    "$$\n"
   ]
  },
  {
   "cell_type": "markdown",
   "metadata": {
    "slideshow": {
     "slide_type": "fragment"
    }
   },
   "source": [
    "\\begin{align}\n",
    "Q_1 &= I - {2 \\over \\sqrt{14} \\sqrt{14}} \\begin{pmatrix} -1 \\\\ 3 \\\\ -2 \\end{pmatrix}\\begin{pmatrix} -1 & 3 & -2 \\end{pmatrix}\\\\\n",
    "&=I - {1 \\over 7}\\begin{pmatrix}\n",
    "1 & -3  & 2 \\\\\n",
    "-3 & 9 & -6 \\\\\n",
    "2  & -6  & 4\n",
    "\\end{pmatrix}\\\\\n",
    "&= \\begin{pmatrix}\n",
    "6/7 & 3/7   &  -2/7 \\\\\n",
    "3/7  &-2/7  &  6/7 \\\\\n",
    "-2/7 & 6/7  &   3/7 \\\\\n",
    "\\end{pmatrix}.\n",
    "\\end{align}"
   ]
  },
  {
   "cell_type": "markdown",
   "metadata": {
    "slideshow": {
     "slide_type": "subslide"
    }
   },
   "source": [
    "Now observe:\n",
    "\n",
    "$$\n",
    "Q_{1}A=\\begin{pmatrix}\n",
    "14 & 21 & -14 \\\\\n",
    "0 & -49 & -14 \\\\\n",
    "0 & 168 & -77 \\end{pmatrix},\n",
    "$$\n",
    "\n",
    "so we already have almost a triangular matrix. We only need to zero the $(3, 2)$ entry."
   ]
  },
  {
   "cell_type": "markdown",
   "metadata": {
    "slideshow": {
     "slide_type": "fragment"
    }
   },
   "source": [
    "Take the $(1, 1)$ minor, and then apply the process again to\n",
    "\n",
    "$$\n",
    "A^\\prime = M_{11} = \\begin{pmatrix}\n",
    "-49 & -14 \\\\\n",
    "168 & -77 \\end{pmatrix}.\n",
    "$$"
   ]
  },
  {
   "cell_type": "markdown",
   "metadata": {
    "slideshow": {
     "slide_type": "subslide"
    }
   },
   "source": [
    "By the same method as above, we obtain the matrix of the Householder transformation\n",
    "\n",
    "$$\n",
    "Q_2 = \\begin{pmatrix}\n",
    "1 & 0 & 0 \\\\\n",
    "0 & -7/25 & 24/25 \\\\\n",
    "0 & 24/25 & 7/25 \\end{pmatrix}\n",
    "$$\n",
    "\n",
    "after performing a direct sum with 1 to make sure the next step in the process works properly."
   ]
  },
  {
   "cell_type": "markdown",
   "metadata": {
    "slideshow": {
     "slide_type": "fragment"
    }
   },
   "source": [
    "Now, we find\n",
    "\n",
    "$$\n",
    "Q=Q_1^T Q_2^T=\\begin{pmatrix}\n",
    "6/7 & -69/175 & 58/175 \\\\\n",
    "3/7 & 158/175 & -6/175 \\\\\n",
    "-2/7 & 6/35 & 33/35 \\end{pmatrix}.\n",
    "$$"
   ]
  },
  {
   "cell_type": "markdown",
   "metadata": {
    "slideshow": {
     "slide_type": "fragment"
    }
   },
   "source": [
    "$$\n",
    "R=Q_2Q_1A=Q^T A=\\begin{pmatrix}\n",
    "14 & 21 & -14 \\\\\n",
    "0 & 175 & -70 \\\\\n",
    "0 & 0 & -35 \\end{pmatrix}.\n",
    "$$\n",
    "\n",
    "The matrix $Q$ is orthogonal and $R$ is upper triangular, so $A = QR$ is the required QR-decomposition. "
   ]
  },
  {
   "cell_type": "code",
   "execution_count": null,
   "metadata": {
    "collapsed": true
   },
   "outputs": [],
   "source": []
  }
 ],
 "metadata": {
  "celltoolbar": "Slideshow",
  "kernelspec": {
   "display_name": "Julia 0.5.0",
   "language": "julia",
   "name": "julia-0.5"
  },
  "language_info": {
   "file_extension": ".jl",
   "mimetype": "application/julia",
   "name": "julia",
   "version": "0.5.0"
  }
 },
 "nbformat": 4,
 "nbformat_minor": 1
}
