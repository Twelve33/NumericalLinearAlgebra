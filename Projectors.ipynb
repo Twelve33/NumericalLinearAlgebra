{
 "cells": [
  {
   "cell_type": "markdown",
   "metadata": {
    "slideshow": {
     "slide_type": "slide"
    }
   },
   "source": [
    "# Projectors"
   ]
  },
  {
   "cell_type": "markdown",
   "metadata": {
    "slideshow": {
     "slide_type": "slide"
    }
   },
   "source": [
    "## Projectors"
   ]
  },
  {
   "cell_type": "markdown",
   "metadata": {
    "slideshow": {
     "slide_type": "fragment"
    }
   },
   "source": [
    "> **Definition.** A _projector_ is a square matrix $P$ satisfying: $$P^2=P.$$"
   ]
  },
  {
   "cell_type": "code",
   "execution_count": 1,
   "metadata": {
    "collapsed": false,
    "slideshow": {
     "slide_type": "fragment"
    }
   },
   "outputs": [
    {
     "data": {
      "text/plain": [
       "2×2 Array{Int64,2}:\n",
       " 1  0\n",
       " 0  0"
      ]
     },
     "execution_count": 1,
     "metadata": {},
     "output_type": "execute_result"
    }
   ],
   "source": [
    "M = [1 0;\n",
    "     0 0]\n",
    "M^2"
   ]
  },
  {
   "cell_type": "code",
   "execution_count": 2,
   "metadata": {
    "collapsed": false,
    "slideshow": {
     "slide_type": "fragment"
    }
   },
   "outputs": [
    {
     "data": {
      "text/plain": [
       "(\n",
       "[0.333333 0.333333 -0.333333; 0.333333 0.333333 -0.333333; -0.333333 -0.333333 0.333333],\n",
       "\n",
       "[0.333333 0.333333 -0.333333; 0.333333 0.333333 -0.333333; -0.333333 -0.333333 0.333333])"
      ]
     },
     "execution_count": 2,
     "metadata": {},
     "output_type": "execute_result"
    }
   ],
   "source": [
    "Q = [1/sqrt(3); 1/sqrt(3); -1/sqrt(3)]\n",
    "P = Q*Q'\n",
    "P^2, P"
   ]
  },
  {
   "cell_type": "markdown",
   "metadata": {
    "slideshow": {
     "slide_type": "subslide"
    }
   },
   "source": [
    "![Proj](https://upload.wikimedia.org/wikipedia/commons/1/14/Linalg_projection_onto_plane.png)"
   ]
  },
  {
   "cell_type": "markdown",
   "metadata": {
    "slideshow": {
     "slide_type": "subslide"
    }
   },
   "source": [
    "If $\\mathbf{v}\\in \\mathrm{range}(P)$, then: $$P\\mathbf{v} = P^2\\mathbf{x} = P\\mathbf{x} = \\mathbf{v}.$$"
   ]
  },
  {
   "cell_type": "code",
   "execution_count": 3,
   "metadata": {
    "collapsed": false,
    "slideshow": {
     "slide_type": "fragment"
    }
   },
   "outputs": [
    {
     "data": {
      "text/plain": [
       "([0.57735,0.57735,-0.57735],[0.57735,0.57735,-0.57735])"
      ]
     },
     "execution_count": 3,
     "metadata": {},
     "output_type": "execute_result"
    }
   ],
   "source": [
    "Q, P*Q"
   ]
  },
  {
   "cell_type": "markdown",
   "metadata": {
    "slideshow": {
     "slide_type": "slide"
    }
   },
   "source": [
    "## Complementary Projectors"
   ]
  },
  {
   "cell_type": "markdown",
   "metadata": {
    "slideshow": {
     "slide_type": "fragment"
    }
   },
   "source": [
    "If $P$ is a projector, so is $I-P$:\n",
    "\n",
    "$$\n",
    "(I-P)^2 = I-2P+P^2 = I-P.\n",
    "$$"
   ]
  },
  {
   "cell_type": "markdown",
   "metadata": {
    "slideshow": {
     "slide_type": "fragment"
    }
   },
   "source": [
    "> **Definition.**  We call $I-P$ the _complementary projector_."
   ]
  },
  {
   "cell_type": "code",
   "execution_count": 4,
   "metadata": {
    "collapsed": false,
    "slideshow": {
     "slide_type": "subslide"
    }
   },
   "outputs": [
    {
     "data": {
      "text/plain": [
       "2×2 Array{Int64,2}:\n",
       " 0  0\n",
       " 0  1"
      ]
     },
     "execution_count": 4,
     "metadata": {},
     "output_type": "execute_result"
    }
   ],
   "source": [
    "(I-M)^2"
   ]
  },
  {
   "cell_type": "code",
   "execution_count": 5,
   "metadata": {
    "collapsed": false,
    "slideshow": {
     "slide_type": "fragment"
    }
   },
   "outputs": [
    {
     "data": {
      "text/plain": [
       "(\n",
       "[0.666667 -0.333333 0.333333; -0.333333 0.666667 0.333333; 0.333333 0.333333 0.666667],\n",
       "\n",
       "[0.666667 -0.333333 0.333333; -0.333333 0.666667 0.333333; 0.333333 0.333333 0.666667])"
      ]
     },
     "execution_count": 5,
     "metadata": {},
     "output_type": "execute_result"
    }
   ],
   "source": [
    "I-P, (I-P)^2"
   ]
  },
  {
   "cell_type": "markdown",
   "metadata": {
    "slideshow": {
     "slide_type": "subslide"
    }
   },
   "source": [
    "> ** Question. ** To where does $I-P$ project?"
   ]
  },
  {
   "cell_type": "code",
   "execution_count": 6,
   "metadata": {
    "collapsed": false,
    "slideshow": {
     "slide_type": "fragment"
    }
   },
   "outputs": [
    {
     "data": {
      "text/plain": [
       "3-element Array{Float64,1}:\n",
       " -2.22045e-16\n",
       " -2.22045e-16\n",
       "  2.22045e-16"
      ]
     },
     "execution_count": 6,
     "metadata": {},
     "output_type": "execute_result"
    }
   ],
   "source": [
    "(I-P)*Q"
   ]
  },
  {
   "cell_type": "markdown",
   "metadata": {
    "slideshow": {
     "slide_type": "subslide"
    }
   },
   "source": [
    "Certainly it is clear that $N(P)\\subseteq C(I-P)$:"
   ]
  },
  {
   "cell_type": "markdown",
   "metadata": {
    "slideshow": {
     "slide_type": "fragment"
    }
   },
   "source": [
    "If $\\mathbf{x}\\in N(P)$, then $$(I-P)\\mathbf{x} = I\\mathbf{x}-P\\mathbf{x} = \\mathbf{x}\\in C(I-P).$$"
   ]
  },
  {
   "cell_type": "markdown",
   "metadata": {
    "slideshow": {
     "slide_type": "fragment"
    }
   },
   "source": [
    "Conversely, if $\\mathbf{x}=(I-P)\\mathbf{v}$, then $$P(\\mathbf{x}) = P(I-P)\\mathbf{v} = P\\mathbf{v} - P^2\\mathbf{v} = P\\mathbf{v} - P\\mathbf{v} = \\mathbf{0}.$$"
   ]
  },
  {
   "cell_type": "markdown",
   "metadata": {
    "slideshow": {
     "slide_type": "fragment"
    }
   },
   "source": [
    "Further, suppose $\\mathbf{v}\\in N(I-P)\\cap N(P)$, then $$\\mathbf{v} = \\mathbf{v} - P\\mathbf{v} = (I-P)\\mathbf{v}=\\mathbf{0}.$$"
   ]
  },
  {
   "cell_type": "markdown",
   "metadata": {
    "slideshow": {
     "slide_type": "subslide"
    }
   },
   "source": [
    "> ** THEOREM. ** \n",
    "- $C(I-P) = N(P)$.\n",
    "- $N(I-P) = C(P)$.\n",
    "- $C(P) \\cap N(P) = \\{\\mathbf{0}\\}.$"
   ]
  },
  {
   "cell_type": "markdown",
   "metadata": {
    "slideshow": {
     "slide_type": "slide"
    }
   },
   "source": [
    "## Orthogonal Projectors"
   ]
  },
  {
   "cell_type": "markdown",
   "metadata": {
    "slideshow": {
     "slide_type": "fragment"
    }
   },
   "source": [
    "> ** Definition. ** An _orthogonal projector_ is a projector which projects onto a subspace $S_1$ along a space $S_2$ where $S_1\\perp S_2$."
   ]
  },
  {
   "cell_type": "markdown",
   "metadata": {
    "slideshow": {
     "slide_type": "fragment"
    }
   },
   "source": [
    "** Nota Bene: ** Orthogonal projectors are _NOT_ orthogonal matrices."
   ]
  },
  {
   "cell_type": "markdown",
   "metadata": {
    "slideshow": {
     "slide_type": "fragment"
    }
   },
   "source": [
    "If $\\mathbb{C}^n = S_1 \\oplus S_2$, i.e. $\\mathbb{C}$ is in the span of linear combinations of vectors from $S_1$ or $S_2$ _and_ $S_1\\perp S_2$ with $S_1\\cap S_2$, then there will be an orthogonal projector onto $S_i$."
   ]
  },
  {
   "cell_type": "markdown",
   "metadata": {
    "slideshow": {
     "slide_type": "subslide"
    }
   },
   "source": [
    "![ortho](https://upload.wikimedia.org/wikipedia/commons/3/36/Linalg_projection_onto_plane_2.png)"
   ]
  },
  {
   "cell_type": "markdown",
   "metadata": {
    "slideshow": {
     "slide_type": "subslide"
    }
   },
   "source": [
    "> ** THEOREM. ** A projector $P$ is orthogonal if and only if it is Hermitian."
   ]
  },
  {
   "cell_type": "markdown",
   "metadata": {
    "slideshow": {
     "slide_type": "subslide"
    }
   },
   "source": [
    "** Proof. ** If $P=P^*$, then: \n",
    "\n",
    "$$\n",
    "\\langle P\\mathbf{x},(I-P)\\mathbf{y}\\rangle=\\mathbf{x}^* P^* (I-P)\\mathbf{y} = \\mathbf{x}^* (P-P^2)\\mathbf{y} = 0.\n",
    "$$"
   ]
  },
  {
   "cell_type": "markdown",
   "metadata": {
    "slideshow": {
     "slide_type": "fragment"
    }
   },
   "source": [
    "Conversely, suppose $P$ is an orthogonal projector onto $S_1\\cong \\mathbb{C}^n$ and $S_1\\perp S_2$."
   ]
  },
  {
   "cell_type": "markdown",
   "metadata": {
    "slideshow": {
     "slide_type": "fragment"
    }
   },
   "source": [
    "Consider an SVD of $P$, where the first $n$ columns of $Q$ are an orthonormal basis of $S_1$, and $\\Sigma$ is a partial identity matrix: \n",
    "\n",
    "$$\n",
    "P = Q \\Sigma Q^*\n",
    "$$"
   ]
  },
  {
   "cell_type": "markdown",
   "metadata": {
    "slideshow": {
     "slide_type": "fragment"
    }
   },
   "source": [
    "Then:\n",
    "$$\n",
    "P^* = (Q\\Sigma Q^*)^* =  Q\\Sigma^* Q^* = Q\\Sigma Q^* = P.\n",
    "$$"
   ]
  },
  {
   "cell_type": "markdown",
   "metadata": {
    "slideshow": {
     "slide_type": "slide"
    }
   },
   "source": [
    "## Projection with an orthonormal basis"
   ]
  },
  {
   "cell_type": "markdown",
   "metadata": {
    "slideshow": {
     "slide_type": "fragment"
    }
   },
   "source": [
    "Since $P^2=P$, we see that the only eigenvalues of a projector are $1$ and $0$, therefore in the eigenvalue decomposition of an orthogonal projector: $$P=Q\\Lambda Q^*$$"
   ]
  },
  {
   "cell_type": "markdown",
   "metadata": {
    "slideshow": {
     "slide_type": "fragment"
    }
   },
   "source": [
    "We could drop the 'silent columns' to arrive at: $$P=\\hat{Q} \\hat{Q}^*.$$ where $Q$ is non-square with orthonormal columns."
   ]
  },
  {
   "cell_type": "markdown",
   "metadata": {
    "slideshow": {
     "slide_type": "subslide"
    }
   },
   "source": [
    "In fact, take any collection of orthonormal vectors $\\{\\mathbf{q}_1,\\dots, \\mathbf{q}_n\\}$, and form $\\hat{Q} = \\left(\\mathbf{q}_1 \\mid \\cdots \\mid \\mathbf{q}_n\\right)$, then $\\hat{Q}\\hat{Q}^*$ will be an orthogonal projector onto the column space of $\\hat{Q}$:"
   ]
  },
  {
   "cell_type": "markdown",
   "metadata": {
    "slideshow": {
     "slide_type": "fragment"
    }
   },
   "source": [
    "$$\n",
    "\\left(\\hat{Q}\\hat{Q}^*\\right)^*= \\left(\\hat{Q}^*\\right)^*\\hat{Q}^* = \\hat{Q}\\hat{Q}^*, \\quad \\left(\\hat{Q}\\hat{Q}^*\\right)^2 = \\hat{Q}\\hat{Q}^*\\cdot \\hat{Q} \\hat{Q}^* = \\hat{Q}\\Sigma\\hat{Q}^* = \\hat{Q}\\hat{Q}^*.\n",
    "$$"
   ]
  },
  {
   "cell_type": "markdown",
   "metadata": {
    "slideshow": {
     "slide_type": "fragment"
    }
   },
   "source": [
    "** THEOREM. ** For $Q$ with orthonormal columns, $QQ^{*}$ will be an orthonormal projector onto the column space of $Q$."
   ]
  },
  {
   "cell_type": "markdown",
   "metadata": {
    "slideshow": {
     "slide_type": "slide"
    }
   },
   "source": [
    "## Projection with an arbitrary basis"
   ]
  },
  {
   "cell_type": "markdown",
   "metadata": {
    "slideshow": {
     "slide_type": "fragment"
    }
   },
   "source": [
    "In general, let $\\{\\mathbf{a}_1,\\dots, \\mathbf{a}_n\\}$ be a collection of linearly independent vectors.  Form the matrix: $$M= \\left(\\mathbf{a}_1 \\mid \\cdots \\mid \\mathbf{a}_n\\right).$$"
   ]
  },
  {
   "cell_type": "markdown",
   "metadata": {
    "slideshow": {
     "slide_type": "fragment"
    }
   },
   "source": [
    "Suppose we want to project $\\mathbf{v}$ onto its orthogonal projection $\\mathbf{y}\\in C(M)$, then $\\mathbf{y}-\\mathbf{v}$ must be orthogonal to $C(M)$.  Hence: $$0=\\mathbf{a}_j \\cdot (\\mathbf{y}-\\mathbf{v}) = \\mathbf{a}_j\\cdot \\left(M\\mathbf{x} - \\mathbf{v}\\right).$$"
   ]
  },
  {
   "cell_type": "markdown",
   "metadata": {
    "slideshow": {
     "slide_type": "fragment"
    }
   },
   "source": [
    "$$M^*\\left(M\\mathbf{x} - \\mathbf{v}\\right)=\\mathbf{0},\\quad \\Longrightarrow \\quad M^*M\\mathbf{x} = M^*\\mathbf{v}\\quad \\Longrightarrow \\quad \\mathbf{x} = (M^*M)^{-1} M^* \\mathbf{v}.$$"
   ]
  },
  {
   "cell_type": "markdown",
   "metadata": {
    "slideshow": {
     "slide_type": "fragment"
    }
   },
   "source": [
    "The invertibility coming from the fact that $M$ has full rank.   Hence: $\\mathbf{y} = M(M^*M)^{-1}M^*\\mathbf{v}$."
   ]
  },
  {
   "cell_type": "markdown",
   "metadata": {
    "slideshow": {
     "slide_type": "subslide"
    }
   },
   "source": [
    "** THEOREM. ** An orthogonal projector onto $\\mathrm{range}(M)$ is given by: $$P=M(M^*M)^{-1}M^*.$$"
   ]
  },
  {
   "cell_type": "code",
   "execution_count": 7,
   "metadata": {
    "collapsed": false,
    "slideshow": {
     "slide_type": "fragment"
    }
   },
   "outputs": [
    {
     "data": {
      "text/plain": [
       "(\n",
       "[0.0941843 0.0837969; 0.379885 0.214412; 0.90625 0.84665],\n",
       "\n",
       "[0.00916301 0.029574 0.0905783; 0.029574 0.999117 -0.00270354; 0.0905783 -0.00270354 0.99172])"
      ]
     },
     "execution_count": 7,
     "metadata": {},
     "output_type": "execute_result"
    }
   ],
   "source": [
    "A = rand(3,2)\n",
    "p = A*inv(A'*A)*A'\n",
    "A, p"
   ]
  },
  {
   "cell_type": "code",
   "execution_count": 8,
   "metadata": {
    "collapsed": false,
    "slideshow": {
     "slide_type": "fragment"
    }
   },
   "outputs": [
    {
     "data": {
      "text/plain": [
       "(\n",
       "[0.00916301 0.029574 0.0905783; 0.029574 0.999117 -0.00270354; 0.0905783 -0.00270354 0.99172],\n",
       "\n",
       "[0.0941843,0.379885,0.90625])"
      ]
     },
     "execution_count": 8,
     "metadata": {},
     "output_type": "execute_result"
    }
   ],
   "source": [
    "p^2, p*A[:,1]"
   ]
  }
 ],
 "metadata": {
  "celltoolbar": "Slideshow",
  "kernelspec": {
   "display_name": "Julia 0.5.0",
   "language": "julia",
   "name": "julia-0.5"
  },
  "language_info": {
   "file_extension": ".jl",
   "mimetype": "application/julia",
   "name": "julia",
   "version": "0.5.0"
  }
 },
 "nbformat": 4,
 "nbformat_minor": 0
}
