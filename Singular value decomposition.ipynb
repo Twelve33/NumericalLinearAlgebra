{
 "cells": [
  {
   "cell_type": "markdown",
   "metadata": {
    "slideshow": {
     "slide_type": "slide"
    }
   },
   "source": [
    "# Singular value decomposition"
   ]
  },
  {
   "cell_type": "markdown",
   "metadata": {
    "slideshow": {
     "slide_type": "slide"
    }
   },
   "source": [
    "### Singular value decomposition\n",
    "\n",
    "The singular value decomposition is based on the following geometric observation:"
   ]
  },
  {
   "cell_type": "markdown",
   "metadata": {
    "slideshow": {
     "slide_type": "fragment"
    }
   },
   "source": [
    "> The image of the unit $n$-sphere under a $m\\times n$ matrix is a hyperellipse in $\\mathbb{R}^m$."
   ]
  },
  {
   "cell_type": "markdown",
   "metadata": {
    "slideshow": {
     "slide_type": "fragment"
    }
   },
   "source": [
    "![svd](https://upload.wikimedia.org/wikipedia/commons/e/e9/Singular_value_decomposition.gif)"
   ]
  },
  {
   "cell_type": "markdown",
   "metadata": {
    "slideshow": {
     "slide_type": "subslide"
    }
   },
   "source": [
    "![svdstatic](https://upload.wikimedia.org/wikipedia/commons/thumb/b/bb/Singular-Value-Decomposition.svg/512px-Singular-Value-Decomposition.svg.png)"
   ]
  },
  {
   "cell_type": "markdown",
   "metadata": {
    "slideshow": {
     "slide_type": "slide"
    }
   },
   "source": [
    "### Singular value decomposition\n",
    "\n",
    "Recall an $m\\times n$ matrix represents a linear tranformation: $$T:V\\to W$$"
   ]
  },
  {
   "cell_type": "markdown",
   "metadata": {
    "slideshow": {
     "slide_type": "fragment"
    }
   },
   "source": [
    "We would like to make a choice of bases for both $V$ and $W$, such that the matrix representing $T$ is as simple as possible."
   ]
  },
  {
   "cell_type": "markdown",
   "metadata": {
    "slideshow": {
     "slide_type": "fragment"
    }
   },
   "source": [
    "When $m=n$ we could use the eigenvalue decomposition.  We mimick this process."
   ]
  },
  {
   "cell_type": "markdown",
   "metadata": {
    "slideshow": {
     "slide_type": "subslide"
    }
   },
   "source": [
    "> **DEFINITION.** A _singular value decomposition_ of a matrix $A$ is a factorization: $$M=U\\Sigma V^*$$ where $U$ is an $m\\times m$ unitary matrix, $V$ is an $n\\times n$ unitary matrix and $\\Sigma$ is an $m\\times n$ diagonal matrix."
   ]
  },
  {
   "cell_type": "markdown",
   "metadata": {
    "slideshow": {
     "slide_type": "fragment"
    }
   },
   "source": [
    "The columns of $U$ are called the _left singular vectors_ of $M$.  The columns of $V$ are called the _right singular vectors_ of $M$.  The entries of $\\Sigma$ are called the _singular values_ of $M$."
   ]
  },
  {
   "cell_type": "code",
   "execution_count": 1,
   "metadata": {
    "collapsed": false,
    "slideshow": {
     "slide_type": "subslide"
    }
   },
   "outputs": [
    {
     "data": {
      "text/plain": [
       "(\n",
       "2x2 Array{Float64,2}:\n",
       " -0.376168  -0.926551\n",
       " -0.926551   0.376168,\n",
       "\n",
       "[14.227407412633742,1.2573298353791105],\n",
       "4x2 Array{Float64,2}:\n",
       " -0.352062   0.758981\n",
       " -0.443626   0.321242\n",
       " -0.53519   -0.116498\n",
       " -0.626754  -0.554238)"
      ]
     },
     "execution_count": 1,
     "metadata": {},
     "output_type": "execute_result"
    }
   ],
   "source": [
    "svd([1 2 3 4; 5 6 7 8])"
   ]
  },
  {
   "cell_type": "markdown",
   "metadata": {
    "slideshow": {
     "slide_type": "subslide"
    }
   },
   "source": [
    "### ED vs SVD\n",
    "\n",
    "> __*Question.*__ If $M$ is normal (hence square), is its singular value decomposition equal to its eigenvalue decomposition?"
   ]
  },
  {
   "cell_type": "code",
   "execution_count": 3,
   "metadata": {
    "collapsed": false,
    "slideshow": {
     "slide_type": "subslide"
    }
   },
   "outputs": [
    {
     "data": {
      "text/plain": [
       "(\n",
       "2x2 Array{Float64,2}:\n",
       " -0.707107  -0.707107\n",
       " -0.707107   0.707107,\n",
       "\n",
       "[2.9999999999999996,1.0000000000000002],\n",
       "2x2 Array{Float64,2}:\n",
       " -0.707107  -0.707107\n",
       " -0.707107   0.707107)"
      ]
     },
     "execution_count": 3,
     "metadata": {},
     "output_type": "execute_result"
    }
   ],
   "source": [
    "svd([2 1; 1 2])"
   ]
  },
  {
   "cell_type": "code",
   "execution_count": 1,
   "metadata": {
    "collapsed": false,
    "slideshow": {
     "slide_type": "fragment"
    }
   },
   "outputs": [
    {
     "data": {
      "text/plain": [
       "([1.0,3.0],\n",
       "2x2 Array{Float64,2}:\n",
       " -0.707107  0.707107\n",
       "  0.707107  0.707107)"
      ]
     },
     "execution_count": 1,
     "metadata": {},
     "output_type": "execute_result"
    }
   ],
   "source": [
    "eig([2 1; 1 2])"
   ]
  },
  {
   "cell_type": "markdown",
   "metadata": {
    "slideshow": {
     "slide_type": "slide"
    }
   },
   "source": [
    "### Computing singular value decompositions\n",
    "\n",
    "If $M$ is $m\\times n$, then $M^*M$ is $n\\times n$ and $MM^*$ is $m\\times m$.  Both are normal, hence by the Spectral Theorem:\n",
    "\\begin{align} MM^* &= VD_1 V^*\\\\ M^*M &= U D_2 U^*\\end{align}\n",
    "Where $D_1$ and $D_2$ are diagonal matrices the same nonzero entries counted with multiplicity."
   ]
  },
  {
   "cell_type": "markdown",
   "metadata": {
    "slideshow": {
     "slide_type": "subslide"
    }
   },
   "source": [
    "> **THEOREM.** Every matrix has a singular value decomposition.  Furthermore, the singular values are uniquely determined."
   ]
  },
  {
   "cell_type": "markdown",
   "metadata": {
    "slideshow": {
     "slide_type": "fragment"
    }
   },
   "source": [
    "This states that _every_ linear transformation is a rotation, followed by certain scalings, followed by a rotation."
   ]
  },
  {
   "cell_type": "markdown",
   "metadata": {
    "slideshow": {
     "slide_type": "fragment"
    }
   },
   "source": [
    "**Nota Bene:** The theorem does _not_ say that the singular value decomposition is unique, only that it exists _and_ that the singular values are unique."
   ]
  },
  {
   "cell_type": "markdown",
   "metadata": {
    "collapsed": true,
    "slideshow": {
     "slide_type": "slide"
    }
   },
   "source": [
    "> **THEOREM.** The singular value decomposition of a normal matrix is equivalent to the eigenvalue decomposition if and only if the matrix is positive semi-definite."
   ]
  },
  {
   "cell_type": "markdown",
   "metadata": {
    "slideshow": {
     "slide_type": "subslide"
    }
   },
   "source": [
    "**Proof.**\n",
    "\n",
    "It is clear that the left and right singular vectors are equal to the eigenvectors (since $A$ is assumed normal).  Further a matrix is positive semi-definite if and only if its eigenvalues are nonnegative.  The singular values are precisely the positive square roots of the squares of the eigenvalues."
   ]
  },
  {
   "cell_type": "code",
   "execution_count": 14,
   "metadata": {
    "collapsed": false,
    "slideshow": {
     "slide_type": "subslide"
    }
   },
   "outputs": [
    {
     "data": {
      "text/plain": [
       "(\n",
       "2x2 Array{Float64,2}:\n",
       " -0.788205  -0.615412\n",
       " -0.615412   0.788205,\n",
       "\n",
       "[2.135779205069857,0.6621534468619564],\n",
       "3x2 Array{Float64,2}:\n",
       " -0.657192   0.260956\n",
       " -0.369048  -0.92941 \n",
       " -0.657192   0.260956)"
      ]
     },
     "execution_count": 14,
     "metadata": {},
     "output_type": "execute_result"
    }
   ],
   "source": [
    "M = [1 1 1; 1 0 1]\n",
    "svd(M)"
   ]
  },
  {
   "cell_type": "markdown",
   "metadata": {
    "slideshow": {
     "slide_type": "fragment"
    }
   },
   "source": [
    "Observe that the singular vectors are orthonormal, and the $2$-norm of $M$ is always the largest singular value:"
   ]
  },
  {
   "cell_type": "code",
   "execution_count": 15,
   "metadata": {
    "collapsed": false,
    "slideshow": {
     "slide_type": "fragment"
    }
   },
   "outputs": [
    {
     "data": {
      "text/plain": [
       "2.135779205069857"
      ]
     },
     "execution_count": 15,
     "metadata": {},
     "output_type": "execute_result"
    }
   ],
   "source": [
    "norm(M)"
   ]
  },
  {
   "cell_type": "markdown",
   "metadata": {
    "slideshow": {
     "slide_type": "slide"
    }
   },
   "source": [
    "The proof of Existence of a singular value decomposition will proceed inductively on the number of columns of the matrix."
   ]
  },
  {
   "cell_type": "markdown",
   "metadata": {
    "slideshow": {
     "slide_type": "subslide"
    }
   },
   "source": [
    "**Proof of Existence of SVD**\n",
    "\n",
    "Let $\\sigma_1=\\|A\\|_2$.  By compactness, there are vectors $\\mathbf{v}_1\\in\\mathbb{C}^n$ and $\\mathbf{u}_1\\in\\mathbb{C}^m$ satsifying: $$\\|\\mathbf{v}_1\\|_2 = \\|\\mathbf{u}\\|_2=1,\\quad A \\mathbf{v}_1 = \\sigma_1 \\mathbf{u}_1.$$"
   ]
  },
  {
   "cell_type": "markdown",
   "metadata": {
    "collapsed": true,
    "slideshow": {
     "slide_type": "fragment"
    }
   },
   "source": [
    "Extend both of these sets to orthonormal bases of $\\mathbb{C}^n$ and $\\mathbb{C}^m$, and let $V_1$ and $U_1$ denote the corresponding unitary matrices with these vectors as columns.  Then: $$U_1^*A V_1 = S = \\begin{bmatrix} \\sigma_1 & \\mathbf{w}^* \\\\ \\mathbf{0} & B\\end{bmatrix}.$$"
   ]
  },
  {
   "cell_type": "markdown",
   "metadata": {
    "slideshow": {
     "slide_type": "subslide"
    }
   },
   "source": [
    "We check: $$\\left\\|\\begin{bmatrix} \\sigma_1 & \\mathbf{w}^*\\\\ \\mathbf{0} & B\\end{bmatrix}\\begin{bmatrix} \\sigma_1\\\\ \\mathbf{w}\\end{bmatrix}\\right\\|_2 \\geq \\sigma_1^2 + \\mathbf{w}^*\\mathbf{w} = \\left(\\sigma_1^2+\\mathbf{w}^*\\mathbf{w}\\right)^{1/2}\\left\\|\\begin{bmatrix} \\sigma_1\\\\ \\mathbf{w}\\end{bmatrix}\\right\\|_2,$$"
   ]
  },
  {
   "cell_type": "markdown",
   "metadata": {
    "slideshow": {
     "slide_type": "fragment"
    }
   },
   "source": [
    "Thus $\\|S\\|_2\\geq \\left(\\sigma_1^2 + \\mathbf{w}^*\\mathbf{w}\\right)^{1/2}$.  Since $U_1$ and $V_1$ are unitary, we know $\\|S\\|_2=\\|A\\|_2=\\sigma_1$, hence $\\mathbf{w}=0$."
   ]
  },
  {
   "cell_type": "markdown",
   "metadata": {
    "slideshow": {
     "slide_type": "subslide"
    }
   },
   "source": [
    "If either $n$ or $m$ are equal to $1$, we are done.   Otherwise, $B$ describes the action of the matrix $A$ on the subspace orthogonal to $\\mathbf{v}_1$.  "
   ]
  },
  {
   "cell_type": "markdown",
   "metadata": {
    "slideshow": {
     "slide_type": "fragment"
    }
   },
   "source": [
    "By induction, $B=U_2 \\sigma_2 V_2^*$, and: $$A=U_1 \\begin{bmatrix} 1 & \\mathbf{0} \\\\ \\mathbf{0} & U_2\\end{bmatrix} \\begin{bmatrix} \\sigma_1 & \\mathbf{0}\\\\ \\mathbf{0} & \\Sigma_2\\end{bmatrix}\\begin{bmatrix} 1 & \\mathbf{0}\\\\ \\mathbf{0} & V_2\\end{bmatrix}^* V_1^*.$$"
   ]
  },
  {
   "cell_type": "markdown",
   "metadata": {
    "slideshow": {
     "slide_type": "subslide"
    }
   },
   "source": [
    "**Proof of Uniqueness of SVD**\n",
    "\n",
    "The uniqueness of $\\sigma_1$ is clear by maximality, i.e. $\\sigma_1 = \\|A\\|_2$.  Proceeding inductively, by noting that once $\\sigma_1,\\mathbf{u}_1$ and $\\mathbf{v}_1$ are determined the remainder of the SVD is determined by the action of $A$ on the space orthogonal to $\\mathbf{v}_1$ --- which is uniquely defined up to sign. Continuing, one can show that: $$\\sigma_1\\geq \\sigma_2 \\geq \\cdots \\geq \\sigma_k,$$ where $k=\\min(m,n)$.\n"
   ]
  },
  {
   "cell_type": "markdown",
   "metadata": {
    "slideshow": {
     "slide_type": "slide"
    }
   },
   "source": [
    "### Image compression\n",
    "\n",
    "Singular value decompositions can be used to represent data efficiently. Suppose, for instance, that we wish to transmit the following image:\n",
    "\n",
    "![pixel](http://www.ams.org/featurecolumn/images/august2009/svd.O.gif)\n",
    "\n",
    "which consists of an array of $25\\times 15$ black or white pixels."
   ]
  },
  {
   "cell_type": "code",
   "execution_count": 2,
   "metadata": {
    "collapsed": true,
    "slideshow": {
     "slide_type": "slide"
    }
   },
   "outputs": [
    {
     "data": {
      "text/plain": [
       "25x15 Array{Int64,2}:\n",
       " 1  1  1  1  1  1  1  1  1  1  1  1  1  1  1\n",
       " 1  1  1  1  1  1  1  1  1  1  1  1  1  1  1\n",
       " 1  1  1  1  1  1  1  1  1  1  1  1  1  1  1\n",
       " 1  1  1  1  1  1  1  1  1  1  1  1  1  1  1\n",
       " 1  1  1  1  1  1  1  1  1  1  1  1  1  1  1\n",
       " 1  1  0  0  0  0  0  0  0  0  0  0  0  1  1\n",
       " 1  1  0  0  0  0  0  0  0  0  0  0  0  1  1\n",
       " 1  1  0  0  0  0  0  0  0  0  0  0  0  1  1\n",
       " 1  1  0  0  0  1  1  1  1  1  0  0  0  1  1\n",
       " 1  1  0  0  0  1  1  1  1  1  0  0  0  1  1\n",
       " 1  1  0  0  0  1  1  1  1  1  0  0  0  1  1\n",
       " 1  1  0  0  0  1  1  1  1  1  0  0  0  1  1\n",
       " 1  1  0  0  0  1  1  1  1  1  0  0  0  1  1\n",
       " 1  1  0  0  0  1  1  1  1  1  0  0  0  1  1\n",
       " 1  1  0  0  0  1  1  1  1  1  0  0  0  1  1\n",
       " 1  1  0  0  0  1  1  1  1  1  0  0  0  1  1\n",
       " 1  1  0  0  0  1  1  1  1  1  0  0  0  1  1\n",
       " 1  1  0  0  0  0  0  0  0  0  0  0  0  1  1\n",
       " 1  1  0  0  0  0  0  0  0  0  0  0  0  1  1\n",
       " 1  1  0  0  0  0  0  0  0  0  0  0  0  1  1\n",
       " 1  1  1  1  1  1  1  1  1  1  1  1  1  1  1\n",
       " 1  1  1  1  1  1  1  1  1  1  1  1  1  1  1\n",
       " 1  1  1  1  1  1  1  1  1  1  1  1  1  1  1\n",
       " 1  1  1  1  1  1  1  1  1  1  1  1  1  1  1\n",
       " 1  1  1  1  1  1  1  1  1  1  1  1  1  1  1"
      ]
     },
     "execution_count": 2,
     "metadata": {},
     "output_type": "execute_result"
    }
   ],
   "source": [
    "M = [1 1 1 1 1 1 1 1 1 1 1 1 1 1 1; \n",
    "     1 1 1 1 1 1 1 1 1 1 1 1 1 1 1;\n",
    "     1 1 1 1 1 1 1 1 1 1 1 1 1 1 1; \n",
    "     1 1 1 1 1 1 1 1 1 1 1 1 1 1 1;\n",
    "     1 1 1 1 1 1 1 1 1 1 1 1 1 1 1;\n",
    "     1 1 0 0 0 0 0 0 0 0 0 0 0 1 1;\n",
    "     1 1 0 0 0 0 0 0 0 0 0 0 0 1 1;\n",
    "     1 1 0 0 0 0 0 0 0 0 0 0 0 1 1;\n",
    "     1 1 0 0 0 1 1 1 1 1 0 0 0 1 1;\n",
    "     1 1 0 0 0 1 1 1 1 1 0 0 0 1 1;\n",
    "     1 1 0 0 0 1 1 1 1 1 0 0 0 1 1;\n",
    "     1 1 0 0 0 1 1 1 1 1 0 0 0 1 1;\n",
    "     1 1 0 0 0 1 1 1 1 1 0 0 0 1 1;\n",
    "     1 1 0 0 0 1 1 1 1 1 0 0 0 1 1;\n",
    "     1 1 0 0 0 1 1 1 1 1 0 0 0 1 1;\n",
    "     1 1 0 0 0 1 1 1 1 1 0 0 0 1 1;\n",
    "     1 1 0 0 0 1 1 1 1 1 0 0 0 1 1;\n",
    "     1 1 0 0 0 0 0 0 0 0 0 0 0 1 1;\n",
    "     1 1 0 0 0 0 0 0 0 0 0 0 0 1 1;\n",
    "     1 1 0 0 0 0 0 0 0 0 0 0 0 1 1;\n",
    "     1 1 1 1 1 1 1 1 1 1 1 1 1 1 1; \n",
    "     1 1 1 1 1 1 1 1 1 1 1 1 1 1 1;\n",
    "     1 1 1 1 1 1 1 1 1 1 1 1 1 1 1; \n",
    "     1 1 1 1 1 1 1 1 1 1 1 1 1 1 1;\n",
    "     1 1 1 1 1 1 1 1 1 1 1 1 1 1 1;\n",
    "]"
   ]
  },
  {
   "cell_type": "code",
   "execution_count": 4,
   "metadata": {
    "collapsed": false,
    "slideshow": {
     "slide_type": "subslide"
    }
   },
   "outputs": [
    {
     "data": {
      "text/plain": [
       "(\n",
       "25x15 Array{Float64,2}:\n",
       " -0.254727   -0.183563  -0.0376665  …   6.66134e-17  -2.498e-17  \n",
       " -0.254727   -0.183563  -0.0376665     -9.07659e-18   3.01407e-17\n",
       " -0.254727   -0.183563  -0.0376665      8.27064e-18   4.66705e-17\n",
       " -0.254727   -0.183563  -0.0376665      8.27064e-18  -2.09394e-17\n",
       " -0.254727   -0.183563  -0.0376665     -2.57652e-17   3.39131e-17\n",
       " -0.0872463   0.192717  -0.349163   …  -6.85833e-18  -4.0722e-17 \n",
       " -0.0872463   0.192717  -0.349163      -1.42425e-16   2.71824e-17\n",
       " -0.0872463   0.192717  -0.349163      -1.55019e-16   1.47039e-17\n",
       " -0.184232    0.22116    0.168101       0.00349757   -1.80873e-16\n",
       " -0.184232    0.22116    0.168101      -0.161402      2.14801e-16\n",
       " -0.184232    0.22116    0.168101   …   0.934561     -6.56966e-16\n",
       " -0.184232    0.22116    0.168101      -0.129443      0.563142   \n",
       " -0.184232    0.22116    0.168101      -0.129443      0.591329   \n",
       " -0.184232    0.22116    0.168101      -0.129443     -0.288618   \n",
       " -0.184232    0.22116    0.168101      -0.129443     -0.288618   \n",
       " -0.184232    0.22116    0.168101   …  -0.129443     -0.288618   \n",
       " -0.184232    0.22116    0.168101      -0.129443     -0.288618   \n",
       " -0.0872463   0.192717  -0.349163       1.01178e-16   8.44459e-18\n",
       " -0.0872463   0.192717  -0.349163       1.01178e-16   8.44459e-18\n",
       " -0.0872463   0.192717  -0.349163       1.01178e-16   8.44459e-18\n",
       " -0.254727   -0.183563  -0.0376665  …  -1.37533e-17   1.70323e-18\n",
       " -0.254727   -0.183563  -0.0376665     -1.37533e-17   1.70323e-18\n",
       " -0.254727   -0.183563  -0.0376665     -1.37533e-17   1.70323e-18\n",
       " -0.254727   -0.183563  -0.0376665     -1.37533e-17   1.70323e-18\n",
       " -0.254727   -0.183563  -0.0376665     -1.37533e-17   1.70323e-18,\n",
       "\n",
       "[14.724253056565878,5.21662293482156,3.314093704484553,5.7852058868648e-16,4.6490282558955e-16,5.732681207036566e-17,6.996891466623839e-32,1.6436603393843544e-32,1.1148911652143973e-47,1.1717746418956173e-48,3.8056938872156064e-49,1.7224044350991095e-64,6.3231106197103315e-65,7.772568552445547e-66,2.4881106284937148e-82],\n",
       "15x15 Array{Float64,2}:\n",
       " -0.321159   0.251333   -0.28929   …   0.0          -0.0        \n",
       " -0.321159   0.251333   -0.28929       2.41611e-17  -7.6724e-17 \n",
       " -0.172998  -0.351882   -0.113656      2.75329e-17   2.81778e-17\n",
       " -0.172998  -0.351882   -0.113656      0.0311947     1.67756e-17\n",
       " -0.172998  -0.351882   -0.113656     -0.0403481    -1.32331e-16\n",
       " -0.285607   0.0296757   0.342853  …  -0.0400428     4.64596e-17\n",
       " -0.285607   0.0296757   0.342853     -0.0268824    -6.83068e-17\n",
       " -0.285607   0.0296757   0.342853      0.0360895     2.51e-17   \n",
       " -0.285607   0.0296757   0.342853      0.208092      5.4074e-17 \n",
       " -0.285607   0.0296757   0.342853     -0.177257     -6.40776e-17\n",
       " -0.172998  -0.351882   -0.113656  …   0.714254      1.09588e-16\n",
       " -0.172998  -0.351882   -0.113656     -0.635663     -6.27794e-17\n",
       " -0.172998  -0.351882   -0.113656     -0.0694369     9.42999e-18\n",
       " -0.321159   0.251333   -0.28929       4.8697e-18    0.707107   \n",
       " -0.321159   0.251333   -0.28929       4.8697e-18   -0.707107   )"
      ]
     },
     "execution_count": 4,
     "metadata": {},
     "output_type": "execute_result"
    }
   ],
   "source": [
    "U, s, V = svd(M)"
   ]
  },
  {
   "cell_type": "code",
   "execution_count": 11,
   "metadata": {
    "collapsed": true,
    "slideshow": {
     "slide_type": "subslide"
    }
   },
   "outputs": [
    {
     "data": {
      "text/plain": [
       "25x3 Array{Float64,2}:\n",
       " -0.254727   -0.183563  -0.0376665\n",
       " -0.254727   -0.183563  -0.0376665\n",
       " -0.254727   -0.183563  -0.0376665\n",
       " -0.254727   -0.183563  -0.0376665\n",
       " -0.254727   -0.183563  -0.0376665\n",
       " -0.0872463   0.192717  -0.349163 \n",
       " -0.0872463   0.192717  -0.349163 \n",
       " -0.0872463   0.192717  -0.349163 \n",
       " -0.184232    0.22116    0.168101 \n",
       " -0.184232    0.22116    0.168101 \n",
       " -0.184232    0.22116    0.168101 \n",
       " -0.184232    0.22116    0.168101 \n",
       " -0.184232    0.22116    0.168101 \n",
       " -0.184232    0.22116    0.168101 \n",
       " -0.184232    0.22116    0.168101 \n",
       " -0.184232    0.22116    0.168101 \n",
       " -0.184232    0.22116    0.168101 \n",
       " -0.0872463   0.192717  -0.349163 \n",
       " -0.0872463   0.192717  -0.349163 \n",
       " -0.0872463   0.192717  -0.349163 \n",
       " -0.254727   -0.183563  -0.0376665\n",
       " -0.254727   -0.183563  -0.0376665\n",
       " -0.254727   -0.183563  -0.0376665\n",
       " -0.254727   -0.183563  -0.0376665\n",
       " -0.254727   -0.183563  -0.0376665"
      ]
     },
     "execution_count": 11,
     "metadata": {},
     "output_type": "execute_result"
    }
   ],
   "source": [
    "u = [U[:,1] U[:,2] U[:,3]]"
   ]
  },
  {
   "cell_type": "code",
   "execution_count": 14,
   "metadata": {
    "collapsed": true,
    "slideshow": {
     "slide_type": "subslide"
    }
   },
   "outputs": [
    {
     "data": {
      "text/plain": [
       "15x3 Array{Float64,2}:\n",
       " -0.321159   0.251333   -0.28929 \n",
       " -0.321159   0.251333   -0.28929 \n",
       " -0.172998  -0.351882   -0.113656\n",
       " -0.172998  -0.351882   -0.113656\n",
       " -0.172998  -0.351882   -0.113656\n",
       " -0.285607   0.0296757   0.342853\n",
       " -0.285607   0.0296757   0.342853\n",
       " -0.285607   0.0296757   0.342853\n",
       " -0.285607   0.0296757   0.342853\n",
       " -0.285607   0.0296757   0.342853\n",
       " -0.172998  -0.351882   -0.113656\n",
       " -0.172998  -0.351882   -0.113656\n",
       " -0.172998  -0.351882   -0.113656\n",
       " -0.321159   0.251333   -0.28929 \n",
       " -0.321159   0.251333   -0.28929 "
      ]
     },
     "execution_count": 14,
     "metadata": {},
     "output_type": "execute_result"
    }
   ],
   "source": [
    "v = [V[:,1] V[:,2] V[:,3]]"
   ]
  },
  {
   "cell_type": "code",
   "execution_count": 24,
   "metadata": {
    "collapsed": false,
    "slideshow": {
     "slide_type": "subslide"
    }
   },
   "outputs": [
    {
     "data": {
      "text/plain": [
       "3x3 Array{Float64,2}:\n",
       " 14.7243  0.0      0.0    \n",
       "  0.0     5.21662  0.0    \n",
       "  0.0     0.0      3.31409"
      ]
     },
     "execution_count": 24,
     "metadata": {},
     "output_type": "execute_result"
    }
   ],
   "source": [
    "D = diagm(s)\n",
    "d = [D[:,1] D[:,2] D[:,3]]\n",
    "f = [d[1,:]; d[2,:]; d[3,:]]"
   ]
  },
  {
   "cell_type": "code",
   "execution_count": 26,
   "metadata": {
    "collapsed": false,
    "slideshow": {
     "slide_type": "subslide"
    }
   },
   "outputs": [
    {
     "data": {
      "text/plain": [
       "25x15 Array{Float64,2}:\n",
       " 1.0  1.0  1.0          1.0          …  1.0          1.0          1.0  1.0\n",
       " 1.0  1.0  1.0          1.0             1.0          1.0          1.0  1.0\n",
       " 1.0  1.0  1.0          1.0             1.0          1.0          1.0  1.0\n",
       " 1.0  1.0  1.0          1.0             1.0          1.0          1.0  1.0\n",
       " 1.0  1.0  1.0          1.0             1.0          1.0          1.0  1.0\n",
       " 1.0  1.0  4.996e-16    2.77556e-16  …  3.88578e-16  3.88578e-16  1.0  1.0\n",
       " 1.0  1.0  4.996e-16    2.77556e-16     3.88578e-16  3.88578e-16  1.0  1.0\n",
       " 1.0  1.0  4.996e-16    2.77556e-16     3.88578e-16  3.88578e-16  1.0  1.0\n",
       " 1.0  1.0  9.29812e-16  9.57567e-16     8.60423e-16  8.60423e-16  1.0  1.0\n",
       " 1.0  1.0  9.29812e-16  9.57567e-16     8.60423e-16  8.60423e-16  1.0  1.0\n",
       " 1.0  1.0  9.29812e-16  9.57567e-16  …  8.60423e-16  8.60423e-16  1.0  1.0\n",
       " 1.0  1.0  9.29812e-16  9.57567e-16     8.60423e-16  8.60423e-16  1.0  1.0\n",
       " 1.0  1.0  9.29812e-16  9.57567e-16     8.60423e-16  8.60423e-16  1.0  1.0\n",
       " 1.0  1.0  9.29812e-16  9.57567e-16     8.60423e-16  8.60423e-16  1.0  1.0\n",
       " 1.0  1.0  9.29812e-16  9.57567e-16     8.60423e-16  8.60423e-16  1.0  1.0\n",
       " 1.0  1.0  9.29812e-16  9.57567e-16  …  8.60423e-16  8.60423e-16  1.0  1.0\n",
       " 1.0  1.0  9.29812e-16  9.57567e-16     8.60423e-16  8.60423e-16  1.0  1.0\n",
       " 1.0  1.0  4.996e-16    2.77556e-16     3.88578e-16  3.88578e-16  1.0  1.0\n",
       " 1.0  1.0  4.996e-16    2.77556e-16     3.88578e-16  3.88578e-16  1.0  1.0\n",
       " 1.0  1.0  4.996e-16    2.77556e-16     3.88578e-16  3.88578e-16  1.0  1.0\n",
       " 1.0  1.0  1.0          1.0          …  1.0          1.0          1.0  1.0\n",
       " 1.0  1.0  1.0          1.0             1.0          1.0          1.0  1.0\n",
       " 1.0  1.0  1.0          1.0             1.0          1.0          1.0  1.0\n",
       " 1.0  1.0  1.0          1.0             1.0          1.0          1.0  1.0\n",
       " 1.0  1.0  1.0          1.0             1.0          1.0          1.0  1.0"
      ]
     },
     "execution_count": 26,
     "metadata": {},
     "output_type": "execute_result"
    }
   ],
   "source": [
    "*(u,*(f,transpose(v)))"
   ]
  },
  {
   "cell_type": "markdown",
   "metadata": {
    "slideshow": {
     "slide_type": "slide"
    }
   },
   "source": [
    "### Collaborative filtering\n",
    "\n",
    "Amy, Bob, Charlie and David rate the following six movies from 1 to 5: $$\\begin{array}{ccccl} \\text{Amy} & \\text{Bob} & \\text{Charlie} & \\text{David} & \\\\ 1 & 1 & 5 & 4 & \\text{The Dark Knight}\\\\ 2 & 1 & 4 & 4 & \\text{The Amazing Spiderman}\\\\ 4 & 5 & 2 & 1 & \\text{Love Actually}\\\\ 5 & 4 & 2 & 1 & \\text{Bridget Jones's Diary}\\\\ 4 & 5 & 1 & 2 & \\text{Pretty Woman}\\\\ 1 & 2 & 5 & 4 & \\text{Superman 2}\\end{array}$$"
   ]
  },
  {
   "cell_type": "code",
   "execution_count": 27,
   "metadata": {
    "collapsed": false,
    "slideshow": {
     "slide_type": "subslide"
    }
   },
   "outputs": [
    {
     "data": {
      "text/plain": [
       "6x4 Array{Int64,2}:\n",
       " 1  1  5  4\n",
       " 2  1  4  5\n",
       " 4  5  2  1\n",
       " 5  4  2  1\n",
       " 4  5  1  2\n",
       " 1  2  5  5"
      ]
     },
     "execution_count": 27,
     "metadata": {},
     "output_type": "execute_result"
    }
   ],
   "source": [
    "A = [1 1 5 4; 2 1 4 5; 4 5 2 1; 5 4 2 1; 4 5 1 2; 1 2 5 5]"
   ]
  },
  {
   "cell_type": "code",
   "execution_count": 29,
   "metadata": {
    "collapsed": false,
    "slideshow": {
     "slide_type": "subslide"
    }
   },
   "outputs": [
    {
     "data": {
      "text/plain": [
       "1x24 Array{Int64,2}:\n",
       " 1  2  4  5  4  1  1  1  5  4  5  2  5  4  2  2  1  5  4  5  1  1  2  5"
      ]
     },
     "execution_count": 29,
     "metadata": {},
     "output_type": "execute_result"
    }
   ],
   "source": [
    "M = reshape(A, 1, 24)"
   ]
  },
  {
   "cell_type": "code",
   "execution_count": 31,
   "metadata": {
    "collapsed": false,
    "slideshow": {
     "slide_type": "fragment"
    }
   },
   "outputs": [
    {
     "data": {
      "text/plain": [
       "3.0"
      ]
     },
     "execution_count": 31,
     "metadata": {},
     "output_type": "execute_result"
    }
   ],
   "source": [
    "m = mean(M)"
   ]
  },
  {
   "cell_type": "markdown",
   "metadata": {
    "slideshow": {
     "slide_type": "fragment"
    }
   },
   "source": [
    "We compute the mean-centered ratings matrix:"
   ]
  },
  {
   "cell_type": "code",
   "execution_count": 33,
   "metadata": {
    "collapsed": false,
    "slideshow": {
     "slide_type": "fragment"
    }
   },
   "outputs": [
    {
     "data": {
      "text/plain": [
       "6x4 Array{Float64,2}:\n",
       " -2.0  -2.0   2.0   1.0\n",
       " -1.0  -2.0   1.0   2.0\n",
       "  1.0   2.0  -1.0  -2.0\n",
       "  2.0   1.0  -1.0  -2.0\n",
       "  1.0   2.0  -2.0  -1.0\n",
       " -2.0  -1.0   2.0   2.0"
      ]
     },
     "execution_count": 33,
     "metadata": {},
     "output_type": "execute_result"
    }
   ],
   "source": [
    "B = m*ones(6,4)\n",
    "C = A-B"
   ]
  },
  {
   "cell_type": "markdown",
   "metadata": {
    "slideshow": {
     "slide_type": "subslide"
    }
   },
   "source": [
    "We compute the singular value decomposition of the mean-centered ratings matrix:"
   ]
  },
  {
   "cell_type": "code",
   "execution_count": 35,
   "metadata": {
    "collapsed": false,
    "slideshow": {
     "slide_type": "fragment"
    }
   },
   "outputs": [
    {
     "data": {
      "text/plain": [
       "(\n",
       "6x4 Array{Float64,2}:\n",
       " -0.446401  -0.371748     -0.420224   -0.601501   \n",
       " -0.390517  -4.68375e-15   0.562549    3.60822e-16\n",
       "  0.390517   4.68375e-15  -0.562549   -2.77556e-17\n",
       "  0.384996  -0.601501      0.0833694   0.371748   \n",
       "  0.384996   0.601501      0.0833694  -0.371748   \n",
       " -0.446401   0.371748     -0.420224    0.601501   ,\n",
       "\n",
       "[7.785085687110693,1.6180339887498958,1.5467517073998112,0.6180339887498946],\n",
       "4x4 Array{Float64,2}:\n",
       "  0.478046  -0.371748   0.52103   0.601501\n",
       "  0.52103    0.601501  -0.478046  0.371748\n",
       " -0.478046  -0.371748  -0.52103   0.601501\n",
       " -0.52103    0.601501   0.478046  0.371748)"
      ]
     },
     "execution_count": 35,
     "metadata": {},
     "output_type": "execute_result"
    }
   ],
   "source": [
    "p, q, r = svd(C)"
   ]
  },
  {
   "cell_type": "markdown",
   "metadata": {
    "slideshow": {
     "slide_type": "subslide"
    }
   },
   "source": [
    "We observe that the first singular value is significantly larger than the rest.   This indicates that the mean centered ratings matrix is well-approximated by the following low rank matrix formed from the first singular vectors:"
   ]
  },
  {
   "cell_type": "code",
   "execution_count": 48,
   "metadata": {
    "collapsed": false,
    "slideshow": {
     "slide_type": "fragment"
    }
   },
   "outputs": [
    {
     "data": {
      "text/plain": [
       "6x4 Array{Float64,2}:\n",
       " 1.33866  1.18928  4.66134  4.81072\n",
       " 1.54664  1.41596  4.45336  4.58404\n",
       " 4.45336  4.58404  1.54664  1.41596\n",
       " 4.43281  4.56164  1.56719  1.43836\n",
       " 4.43281  4.56164  1.56719  1.43836\n",
       " 1.33866  1.18928  4.66134  4.81072"
      ]
     },
     "execution_count": 48,
     "metadata": {},
     "output_type": "execute_result"
    }
   ],
   "source": [
    "B+q[1]*p[:,1]*transpose(r[:,1])"
   ]
  },
  {
   "cell_type": "markdown",
   "metadata": {
    "slideshow": {
     "slide_type": "slide"
    }
   },
   "source": [
    "The first left-singular vector is:"
   ]
  },
  {
   "cell_type": "code",
   "execution_count": 49,
   "metadata": {
    "collapsed": false,
    "slideshow": {
     "slide_type": "fragment"
    }
   },
   "outputs": [
    {
     "data": {
      "text/plain": [
       "6-element Array{Float64,1}:\n",
       " -0.446401\n",
       " -0.390517\n",
       "  0.390517\n",
       "  0.384996\n",
       "  0.384996\n",
       " -0.446401"
      ]
     },
     "execution_count": 49,
     "metadata": {},
     "output_type": "execute_result"
    }
   ],
   "source": [
    "p[:,1]"
   ]
  },
  {
   "cell_type": "markdown",
   "metadata": {
    "slideshow": {
     "slide_type": "fragment"
    }
   },
   "source": [
    "Similar centered scores indicate similar genre."
   ]
  },
  {
   "cell_type": "markdown",
   "metadata": {
    "slideshow": {
     "slide_type": "slide"
    }
   },
   "source": [
    "The first right-singular vector is:"
   ]
  },
  {
   "cell_type": "code",
   "execution_count": 50,
   "metadata": {
    "collapsed": false,
    "slideshow": {
     "slide_type": "fragment"
    }
   },
   "outputs": [
    {
     "data": {
      "text/plain": [
       "4-element Array{Float64,1}:\n",
       "  0.478046\n",
       "  0.52103 \n",
       " -0.478046\n",
       " -0.52103 "
      ]
     },
     "execution_count": 50,
     "metadata": {},
     "output_type": "execute_result"
    }
   ],
   "source": [
    "r[:,1]"
   ]
  },
  {
   "cell_type": "markdown",
   "metadata": {
    "slideshow": {
     "slide_type": "fragment"
    }
   },
   "source": [
    "Similar centered scores indicate users with similar tastes, thus Amy and Bob are a cluster (both prefer romantic comedies over action)."
   ]
  },
  {
   "cell_type": "markdown",
   "metadata": {
    "slideshow": {
     "slide_type": "slide"
    }
   },
   "source": [
    "### Principal components analysis"
   ]
  },
  {
   "cell_type": "markdown",
   "metadata": {
    "slideshow": {
     "slide_type": "fragment"
    }
   },
   "source": [
    "Consider the following data:\n",
    "![PCA](http://www.ams.org/featurecolumn/images/august2009/random.data.gif)"
   ]
  },
  {
   "cell_type": "code",
   "execution_count": 56,
   "metadata": {
    "collapsed": false,
    "slideshow": {
     "slide_type": "subslide"
    }
   },
   "outputs": [
    {
     "data": {
      "text/plain": [
       "(\n",
       "2x2 Array{Float64,2}:\n",
       " -0.430715  -0.902488\n",
       " -0.902488   0.430715,\n",
       "\n",
       "[6.0397087855043186,0.21867278363335854],\n",
       "10x2 Array{Float64,2}:\n",
       "  0.406673    -0.141455 \n",
       " -0.293348     0.117118 \n",
       "  0.00441479   0.0431487\n",
       " -0.167865    -0.371511 \n",
       "  0.450549     0.698989 \n",
       " -0.372441    -0.107093 \n",
       " -0.291276     0.34317  \n",
       "  0.0608567   -0.194134 \n",
       "  0.300887    -0.317841 \n",
       " -0.446746     0.264312 )"
      ]
     },
     "execution_count": 56,
     "metadata": {},
     "output_type": "execute_result"
    }
   ],
   "source": [
    "M = [-1.03 0.74 -0.02 0.51 -1.31 0.99 0.69 -0.12 -0.72 1.11; \n",
    "     -2.23 1.61 -0.02 0.88 -2.39 2.02 1.62 -0.35 -1.67 2.46]\n",
    "L, Q, R = svd(M)"
   ]
  },
  {
   "cell_type": "markdown",
   "metadata": {
    "slideshow": {
     "slide_type": "fragment"
    }
   },
   "source": [
    "With one singular value so much larger than the other, it may be safe to assume that the small value of the second singular value is due to noise in the data.   So we reconstitute the matrix using only the first singular value and its singular vectors."
   ]
  },
  {
   "cell_type": "code",
   "execution_count": 57,
   "metadata": {
    "collapsed": false
   },
   "outputs": [
    {
     "data": {
      "text/plain": [
       "2x10 Array{Float64,2}:\n",
       " -1.05792  0.763113  -0.0114846  0.436682  …  -0.158312  -0.782726  1.16216\n",
       " -2.21668  1.59897   -0.024064   0.914991     -0.331715  -1.64006   2.43511"
      ]
     },
     "execution_count": 57,
     "metadata": {},
     "output_type": "execute_result"
    }
   ],
   "source": [
    "Q[1]*L[:,1]*transpose(R[:,1])"
   ]
  },
  {
   "cell_type": "markdown",
   "metadata": {},
   "source": [
    "![line](http://www.ams.org/featurecolumn/images/august2009/random.data.svd.gif)"
   ]
  }
 ],
 "metadata": {
  "celltoolbar": "Slideshow",
  "kernelspec": {
   "display_name": "Julia 0.4.7",
   "language": "julia",
   "name": "julia-0.4"
  },
  "language_info": {
   "file_extension": ".jl",
   "mimetype": "application/julia",
   "name": "julia",
   "version": "0.4.7"
  }
 },
 "nbformat": 4,
 "nbformat_minor": 0
}
