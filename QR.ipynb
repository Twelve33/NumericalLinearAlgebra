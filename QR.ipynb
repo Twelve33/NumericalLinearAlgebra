{
 "cells": [
  {
   "cell_type": "markdown",
   "metadata": {
    "slideshow": {
     "slide_type": "slide"
    }
   },
   "source": [
    "# The QR factorization"
   ]
  },
  {
   "cell_type": "markdown",
   "metadata": {
    "slideshow": {
     "slide_type": "subslide"
    }
   },
   "source": [
    "## Gram-Schmidt orthogonalization\n",
    "\n",
    "The classical way to prove the existence of a QR factorization is to construct it via the Gram-Schmidt process. Let's look at it for a small example. "
   ]
  },
  {
   "cell_type": "code",
   "execution_count": 22,
   "metadata": {
    "collapsed": false,
    "slideshow": {
     "slide_type": "fragment"
    }
   },
   "outputs": [
    {
     "data": {
      "text/plain": [
       "6×4 Array{Float64,2}:\n",
       " 6.0  7.0  8.0   2.0\n",
       " 2.0  1.0  9.0  10.0\n",
       " 4.0  7.0  5.0   5.0\n",
       " 8.0  2.0  2.0   9.0\n",
       " 9.0  7.0  3.0   1.0\n",
       " 1.0  7.0  4.0   7.0"
      ]
     },
     "execution_count": 22,
     "metadata": {},
     "output_type": "execute_result"
    }
   ],
   "source": [
    "A = round(10*rand(6,4))"
   ]
  },
  {
   "cell_type": "markdown",
   "metadata": {
    "slideshow": {
     "slide_type": "subslide"
    }
   },
   "source": [
    "First we want an orthonormal basis for the span of the first column. That's pretty easy."
   ]
  },
  {
   "cell_type": "code",
   "execution_count": 23,
   "metadata": {
    "collapsed": false,
    "slideshow": {
     "slide_type": "fragment"
    }
   },
   "outputs": [],
   "source": [
    "(Q,R) = (zeros(6,4),zeros(4,4));\n",
    "R[1,1] = norm(A[:,1]);\n",
    "Q[:,1] = A[:,1]/R[1,1];"
   ]
  },
  {
   "cell_type": "markdown",
   "metadata": {
    "slideshow": {
     "slide_type": "fragment"
    }
   },
   "source": [
    "Next we add another orthonormal vector to become a basis for the span of the first _two_ columns. We can do that via orthogonal projection..."
   ]
  },
  {
   "cell_type": "code",
   "execution_count": 24,
   "metadata": {
    "collapsed": false,
    "slideshow": {
     "slide_type": "fragment"
    }
   },
   "outputs": [
    {
     "name": "stdout",
     "output_type": "stream",
     "text": [
      "v' * Q[:,1] = [-4.44089e-16]\n"
     ]
    }
   ],
   "source": [
    "P = Q[:,1]*Q[:,1]';  \n",
    "v = A[:,2] - P*A[:,2];\n",
    "@show v'*Q[:,1];"
   ]
  },
  {
   "cell_type": "markdown",
   "metadata": {
    "slideshow": {
     "slide_type": "subslide"
    }
   },
   "source": [
    "However, we'll organize the process in a particular way. \n",
    "\n",
    "$$\n",
    "r_{22}\\mathbf{q}_2 = \\mathbf{v} = \\mathbf{a}_2 - (QQ^*)\\mathbf{a}_2 = \\mathbf{a}_2 - Q(Q^*\\mathbf{a}_2) = \\mathbf{a}_2 - \\mathbf{q}_1(r_{12})\n",
    "$$\n",
    "\n",
    "Doing so allows us to rearrange to\n",
    "\n",
    "$$\n",
    "\\mathbf{a}_2 = \\mathbf{q}_1r_{12} + \\mathbf{q}_2 r_{22}, \n",
    "$$\n",
    "\n",
    "which is the second column of $A=QR$. "
   ]
  },
  {
   "cell_type": "code",
   "execution_count": 25,
   "metadata": {
    "collapsed": false,
    "slideshow": {
     "slide_type": "subslide"
    }
   },
   "outputs": [
    {
     "name": "stdout",
     "output_type": "stream",
     "text": [
      "R = [14.2127 11.1168 0.0 0.0; 0.0 8.79863 0.0 0.0; 0.0 0.0 0.0 0.0; 0.0 0.0 0.0 0.0]\n",
      "Q = [0.422159 0.262192 0.0 0.0; 0.14072 -0.0641414 0.0 0.0; 0.281439 0.439988 0.0 0.0; 0.562878 -0.483874 0.0 0.0; 0.633238 -0.00450115 0.0 0.0; 0.0703598 0.706681 0.0 0.0]\n"
     ]
    }
   ],
   "source": [
    "R[1,2] = dot(Q[:,1],A[:,2]);\n",
    "v = A[:,2] - Q[:,1]*R[1,2];\n",
    "\n",
    "R[2,2] = norm(v);\n",
    "@show R;\n",
    "Q[:,2] = v/R[2,2];\n",
    "@show Q;"
   ]
  },
  {
   "cell_type": "markdown",
   "metadata": {
    "slideshow": {
     "slide_type": "subslide"
    }
   },
   "source": [
    "Now the relevant projector is"
   ]
  },
  {
   "cell_type": "code",
   "execution_count": 26,
   "metadata": {
    "collapsed": false,
    "slideshow": {
     "slide_type": "fragment"
    }
   },
   "outputs": [
    {
     "name": "stdout",
     "output_type": "stream",
     "text": [
      "v' * Q[:,1:2] = [-4.99936e-16 4.29766e-16]\n"
     ]
    }
   ],
   "source": [
    "P = Q[:,1:2]*Q[:,1:2]';\n",
    "v = A[:,2] - P*A[:,2];\n",
    "@show v'*Q[:,1:2];"
   ]
  },
  {
   "cell_type": "markdown",
   "metadata": {
    "slideshow": {
     "slide_type": "subslide"
    }
   },
   "source": [
    "But we break it into steps as before."
   ]
  },
  {
   "cell_type": "code",
   "execution_count": 27,
   "metadata": {
    "collapsed": false,
    "slideshow": {
     "slide_type": "fragment"
    }
   },
   "outputs": [
    {
     "name": "stdout",
     "output_type": "stream",
     "text": [
      "R = [14.2127 11.1168 9.35785 0.0; 0.0 8.79863 5.56567 0.0; 0.0 0.0 8.96961 0.0; 0.0 0.0 0.0 0.0]\n"
     ]
    }
   ],
   "source": [
    "(R[1,3],R[2,3]) = dot(Q[:,1],A[:,3]),dot(Q[:,2],A[:,3]);\n",
    "v = A[:,3] - Q[:,1:2]*R[1:2,3];\n",
    "R[3,3] = norm(v);\n",
    "@show R;\n",
    "Q[:,3] = v/R[3,3];"
   ]
  },
  {
   "cell_type": "markdown",
   "metadata": {
    "slideshow": {
     "slide_type": "subslide"
    }
   },
   "source": [
    "$Q$ is unitary and $R$ is upper triangular by construction, and we have"
   ]
  },
  {
   "cell_type": "code",
   "execution_count": 28,
   "metadata": {
    "collapsed": false,
    "slideshow": {
     "slide_type": "fragment"
    }
   },
   "outputs": [
    {
     "name": "stdout",
     "output_type": "stream",
     "text": [
      "norm(Q * R[:,1:3] - A[:,1:3]) = 1.039706991435451e-15\n"
     ]
    }
   ],
   "source": [
    "@show norm( Q*R[:,1:3] - A[:,1:3] );"
   ]
  },
  {
   "cell_type": "markdown",
   "metadata": {
    "slideshow": {
     "slide_type": "subslide"
    }
   },
   "source": [
    "Rather than finish things manually, let's start over and automate everything in a loop."
   ]
  },
  {
   "cell_type": "code",
   "execution_count": 29,
   "metadata": {
    "collapsed": false,
    "slideshow": {
     "slide_type": "fragment"
    }
   },
   "outputs": [],
   "source": [
    "(m,n) = size(A);\n",
    "(Q,R) = (zeros(m,n),zeros(n,n));\n",
    "R[1,1] = norm(A[:,1]);\n",
    "Q[:,1] = A[:,1]/R[1,1];\n",
    "for j = 2:n\n",
    "    R[1:j-1,j] = Q[:,1:j-1]'*A[:,j];\n",
    "    v = A[:,j] - Q[:,1:j-1]*R[1:j-1,j];\n",
    "    R[j,j] = norm(v);\n",
    "    Q[:,j] = v/R[j,j];\n",
    "end"
   ]
  },
  {
   "cell_type": "code",
   "execution_count": 30,
   "metadata": {
    "collapsed": false,
    "slideshow": {
     "slide_type": "fragment"
    }
   },
   "outputs": [
    {
     "name": "stdout",
     "output_type": "stream",
     "text": [
      "Q = [0.422159 0.262192 0.288778 -0.549909; 0.14072 -0.0641414 0.896377 0.157757; 0.281439 0.439988 -0.00919676 0.119077; 0.562878 -0.483874 -0.0640208 0.556328; 0.633238 -0.00450115 -0.323391 -0.274042; 0.0703598 0.706681 -0.0659529 0.523387]\n"
     ]
    }
   ],
   "source": [
    " @show Q;"
   ]
  },
  {
   "cell_type": "code",
   "execution_count": 31,
   "metadata": {
    "collapsed": false,
    "slideshow": {
     "slide_type": "subslide"
    }
   },
   "outputs": [
    {
     "data": {
      "text/plain": [
       "3.4692172871370876e-16"
      ]
     },
     "execution_count": 31,
     "metadata": {},
     "output_type": "execute_result"
    }
   ],
   "source": [
    "norm(Q'*Q-eye(n))"
   ]
  },
  {
   "cell_type": "code",
   "execution_count": 32,
   "metadata": {
    "collapsed": false,
    "slideshow": {
     "slide_type": "fragment"
    }
   },
   "outputs": [
    {
     "data": {
      "text/plain": [
       "1.039706991435451e-15"
      ]
     },
     "execution_count": 32,
     "metadata": {},
     "output_type": "execute_result"
    }
   ],
   "source": [
    "norm(A-Q*R)"
   ]
  },
  {
   "cell_type": "markdown",
   "metadata": {
    "slideshow": {
     "slide_type": "fragment"
    }
   },
   "source": [
    "This only produces the \"thin\" version of the QR factorization. Conceptually at least, the full version just tacks on an orthonormal basis for whatever remains of $\\mathbb{C}^m$."
   ]
  },
  {
   "cell_type": "markdown",
   "metadata": {
    "slideshow": {
     "slide_type": "slide"
    }
   },
   "source": [
    "## Linear system solution\n",
    "\n",
    "We can apply QR to solve a linear system $A\\mathbf{x}=\\mathbf{b}$ for $m\\times m$ matrix $A$. We have $QR\\mathbf{x}=\\mathbf{b}$, so $R\\mathbf{x}=Q^*\\mathbf{b}$ is an equivalent triangular system, solvable by back substitution. "
   ]
  },
  {
   "cell_type": "code",
   "execution_count": 33,
   "metadata": {
    "collapsed": false,
    "slideshow": {
     "slide_type": "fragment"
    }
   },
   "outputs": [
    {
     "name": "stdout",
     "output_type": "stream",
     "text": [
      "x = [0.815123,0.565944,-0.0466339,-1.12679,-1.52542,0.751361,-0.913183,-0.515948,2.03705]\n"
     ]
    }
   ],
   "source": [
    "A = round(10*rand(9,9));\n",
    "b = collect(1:9);\n",
    "m = 9;\n",
    "Q,R = qr(A);\n",
    "z = Q'*b;\n",
    "x = zeros(m);\n",
    "x[m] = z[m]/R[m,m];\n",
    "for i = m-1:-1:1\n",
    "    y = z[i] - (R[i,i+1:m])'*x[i+1:m];\n",
    "    x[i] = y[1] / R[i,i];\n",
    "end\n",
    "@show x;"
   ]
  },
  {
   "cell_type": "code",
   "execution_count": 34,
   "metadata": {
    "collapsed": false,
    "slideshow": {
     "slide_type": "fragment"
    }
   },
   "outputs": [
    {
     "data": {
      "text/plain": [
       "3.173917730451172e-14"
      ]
     },
     "execution_count": 34,
     "metadata": {},
     "output_type": "execute_result"
    }
   ],
   "source": [
    "norm(A*x-b)"
   ]
  }
 ],
 "metadata": {
  "celltoolbar": "Slideshow",
  "kernelspec": {
   "display_name": "Julia 0.5.0",
   "language": "julia",
   "name": "julia-0.5"
  },
  "language_info": {
   "file_extension": ".jl",
   "mimetype": "application/julia",
   "name": "julia",
   "version": "0.5.0"
  }
 },
 "nbformat": 4,
 "nbformat_minor": 1
}
