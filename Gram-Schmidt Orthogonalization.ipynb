{
 "cells": [
  {
   "cell_type": "markdown",
   "metadata": {
    "slideshow": {
     "slide_type": "slide"
    }
   },
   "source": [
    "# Gram-Schmidt orthogonalization"
   ]
  },
  {
   "cell_type": "markdown",
   "metadata": {
    "slideshow": {
     "slide_type": "slide"
    }
   },
   "source": [
    "## Modified Gram-Schmidt"
   ]
  },
  {
   "cell_type": "markdown",
   "metadata": {
    "slideshow": {
     "slide_type": "fragment"
    }
   },
   "source": [
    "The classical Gram-Schmidt process is numerically unstable. A mathematically equivalent formulation, which we call MGS, which is a lot more stable numerically. "
   ]
  },
  {
   "cell_type": "markdown",
   "metadata": {
    "slideshow": {
     "slide_type": "fragment"
    }
   },
   "source": [
    "Let $A\\in\\mathbb{C}^{m\\times n}$ with $m\\geq n$ be a full rank matrix."
   ]
  },
  {
   "cell_type": "markdown",
   "metadata": {
    "slideshow": {
     "slide_type": "fragment"
    }
   },
   "source": [
    "Gram-Schmidt can be expressed as follows: \n",
    "\n",
    "$$\n",
    "\\mathbf{q}_1 = \\frac{P_1 \\mathbf{a}_1}{\\|P_1\\mathbf{a}_1\\|},\\ \\mathbf{q}_2 = \\frac{P_2 \\mathbf{a}_2}{\\|P_2\\mathbf{a}_2\\|}, \\dots, \\mathbf{q}_j = \\frac{P_j \\mathbf{a}_j}{\\|P_j\\mathbf{a}_j\\|}\n",
    "$$\n",
    "\n",
    "where $P_j$ denotes a projector matrix onto $\\langle \\mathbf{q}_1,\\dots, \\mathbf{q}_{j-1}\\rangle$."
   ]
  },
  {
   "cell_type": "markdown",
   "metadata": {
    "slideshow": {
     "slide_type": "subslide"
    }
   },
   "source": [
    "In classical GS the key step is to project a new column of $A$ onto the orthogonal complement of the span of all the previous $\\mathbf{q}_j$s. We express this projection as \n",
    "\n",
    "$$P_j=I - Q_jQ_j^*,$$ \n",
    "\n",
    "where $Q_j=\\bigl[ \\mathbf{q}_1 \\mid \\mathbf{q}_2\\mid \\cdots \\mid \\mathbf{q}_j\\bigr]$ For example:"
   ]
  },
  {
   "cell_type": "code",
   "execution_count": 4,
   "metadata": {
    "collapsed": false,
    "slideshow": {
     "slide_type": "subslide"
    }
   },
   "outputs": [
    {
     "data": {
      "text/plain": [
       "6-element Array{Float64,1}:\n",
       " 1.0        \n",
       " 1.0        \n",
       " 1.0        \n",
       " 5.88654e-16\n",
       " 2.49034e-16\n",
       " 1.71746e-16"
      ]
     },
     "execution_count": 4,
     "metadata": {},
     "output_type": "execute_result"
    }
   ],
   "source": [
    "m = 6;\n",
    "j = 3;\n",
    "Qj = qr(rand(m,j))[1];   # get a random Q with 3 O-N columns\n",
    "Pj = eye(m) - Qj*Qj';\n",
    "σ = svd(Pj)[2]      # all 1 or 0, as required for an orthogonal projector"
   ]
  },
  {
   "cell_type": "markdown",
   "metadata": {
    "slideshow": {
     "slide_type": "subslide"
    }
   },
   "source": [
    "We get the same result by subtracting off projections onto each column, one at a time."
   ]
  },
  {
   "cell_type": "code",
   "execution_count": 5,
   "metadata": {
    "collapsed": false,
    "slideshow": {
     "slide_type": "fragment"
    }
   },
   "outputs": [
    {
     "data": {
      "text/plain": [
       "1.1102230246251565e-16"
      ]
     },
     "execution_count": 5,
     "metadata": {},
     "output_type": "execute_result"
    }
   ],
   "source": [
    "Mj = eye(m) - Qj[:,1]*Qj[:,1]' - Qj[:,2]*Qj[:,2]' - Qj[:,3]*Qj[:,3]';\n",
    "norm(Pj-Mj)"
   ]
  },
  {
   "cell_type": "markdown",
   "metadata": {
    "slideshow": {
     "slide_type": "subslide"
    }
   },
   "source": [
    "We can also write this as a product of orthogonal projectors:"
   ]
  },
  {
   "cell_type": "code",
   "execution_count": 6,
   "metadata": {
    "collapsed": false,
    "slideshow": {
     "slide_type": "fragment"
    }
   },
   "outputs": [
    {
     "data": {
      "text/plain": [
       "2.3344068582393236e-16"
      ]
     },
     "execution_count": 6,
     "metadata": {},
     "output_type": "execute_result"
    }
   ],
   "source": [
    "Gj = eye(m);\n",
    "for k = 1:j\n",
    "    Gj = Gj*(eye(m)-Qj[:,k]*Qj[:,k]');\n",
    "end\n",
    "norm(Gj-Pj)"
   ]
  },
  {
   "cell_type": "markdown",
   "metadata": {
    "slideshow": {
     "slide_type": "fragment"
    }
   },
   "source": [
    "This works because the \"cross-terms\" you get in the products have inner products between different $\\mathbf{q}_k$ and thus are zero. In MGS, we apply each of these factors, as soon at it is found, to _all_ the columns of $A$ at once. By the time we are ready to choose a new column from $A$, it is already orthgonalized against the entire ON basis set found so far."
   ]
  },
  {
   "cell_type": "markdown",
   "metadata": {
    "slideshow": {
     "slide_type": "slide"
    }
   },
   "source": [
    "## Operation counts"
   ]
  },
  {
   "cell_type": "markdown",
   "metadata": {
    "slideshow": {
     "slide_type": "fragment"
    }
   },
   "source": [
    "It's standard in numerical analysis to compare the performance of algorithms by counting the number of floating point operations, or flops, that are performed as a function of the input size. "
   ]
  },
  {
   "cell_type": "markdown",
   "metadata": {
    "slideshow": {
     "slide_type": "fragment"
    }
   },
   "source": [
    "> ** THEOREM. ** By either form of QR factorization, the number of flops is $\\sim 2mn^2$ in asymptotic notation, i.e. \n",
    "$$\\lim_{m,n\\to \\infty} \\frac{\\# \\text{flops}}{2mn^2} = 1.$$"
   ]
  },
  {
   "cell_type": "markdown",
   "metadata": {
    "slideshow": {
     "slide_type": "subslide"
    }
   },
   "source": [
    "** Proof. ** \n",
    "When $m$ and $n$ are large, the the work is dominated by:\n",
    "\n",
    "$$\n",
    "r_{ij} = \\mathbf{q}_i^* \\mathbf{v}_j, \\quad \\mathbf{v}_j = \\mathbf{v}_j-r_{ij}\\mathbf{q}_i.\n",
    "$$"
   ]
  },
  {
   "cell_type": "markdown",
   "metadata": {
    "slideshow": {
     "slide_type": "fragment"
    }
   },
   "source": [
    "The first equation requires $m$ multiplications and $m-1$ additions.  The second requires $m$ multiplications and $m$ subtractions.  Thus the total work requires about $4m$ flops."
   ]
  },
  {
   "cell_type": "markdown",
   "metadata": {
    "slideshow": {
     "slide_type": "fragment"
    }
   },
   "source": [
    "$$\n",
    "\\# \\text{flops} = \\sum_{i=1}^n \\sum_{j=i+1}^n 4m \\sim \\sum_{i=1}^n (i) 4m \\sim 2mn^2.\n",
    "$$"
   ]
  },
  {
   "cell_type": "code",
   "execution_count": 11,
   "metadata": {
    "collapsed": false,
    "slideshow": {
     "slide_type": "subslide"
    }
   },
   "outputs": [
    {
     "name": "stdout",
     "output_type": "stream",
     "text": [
      "elapsed time: 0.024288513 seconds\n",
      "elapsed time: 0.015827882 seconds\n",
      "elapsed time: 0.024764961 seconds\n",
      "elapsed time: 0.037601717 seconds\n",
      "elapsed time: 0.052256049 seconds\n",
      "elapsed time: 0.172886537 seconds\n",
      "elapsed time: 0.08946784 seconds\n",
      "elapsed time: 0.110156249 seconds\n",
      "elapsed time: 0.134769558 seconds\n",
      "elapsed time: 0.218159947 seconds\n",
      "elapsed time: 0.21395933 seconds\n",
      "elapsed time: 0.347534136 seconds\n",
      "elapsed time: 0.263182906 seconds\n",
      "elapsed time: 0.305520892 seconds\n",
      "elapsed time: 0.375287571 seconds\n",
      "elapsed time: 0.426824258 seconds\n",
      "elapsed time: 0.794532895 seconds\n",
      "elapsed time: 0.537377079 seconds\n"
     ]
    },
    {
     "data": {
      "image/png": "[encoded data removed]",
      "text/plain": [
       "PyPlot.Figure(PyObject <matplotlib.figure.Figure object at 0x7fb54e2e2810>)"
      ]
     },
     "metadata": {},
     "output_type": "display_data"
    },
    {
     "name": "stdout",
     "output_type": "stream",
     "text": [
      "elapsed time: 0.532009197 seconds\n"
     ]
    },
    {
     "data": {
      "text/plain": [
       "(PyObject <matplotlib.text.Text object at 0x7fb54e33c8d0>,PyObject <matplotlib.text.Text object at 0x7fb54e388e10>)"
      ]
     },
     "execution_count": 11,
     "metadata": {},
     "output_type": "execute_result"
    }
   ],
   "source": [
    "n_ = collect(50:25:500);\n",
    "time_ = zeros(size(n_));\n",
    "for k = 1:length(n_)\n",
    "    n = n_[k];\n",
    "    A = rand(1200,n);\n",
    "    Q = zeros(1200,n);  R = zeros(600,600); \n",
    "    \n",
    "    tic();\n",
    "    R[1,1] = norm(A[:,1]);\n",
    "    Q[:,1] = A[:,1]/R[1,1];\n",
    "    for j = 2:n\n",
    "        R[1:j-1,j] = Q[:,1:j-1]'*A[:,j];\n",
    "        v = A[:,j] - Q[:,1:j-1]*R[1:j-1,j];\n",
    "        R[j,j] = norm(v);\n",
    "        Q[:,j] = v/R[j,j];\n",
    "    end\n",
    "    time_[k] = toc();\n",
    "end\n",
    "\n",
    "\n",
    "using PyPlot\n",
    "loglog(n_,time_,\"-o\",n_,(n_/500).^2,\"--\")\n",
    "xlabel(\"n\"), ylabel(\"elapsed time\")"
   ]
  },
  {
   "cell_type": "markdown",
   "metadata": {
    "slideshow": {
     "slide_type": "subslide"
    }
   },
   "source": [
    "Flops aren't everything. On massively parallel computers, for example, the time needed for memory access and communication often competes with or dwarfs the floating point arithmetic. "
   ]
  },
  {
   "cell_type": "markdown",
   "metadata": {
    "slideshow": {
     "slide_type": "slide"
    }
   },
   "source": [
    "## Gram-Schmidt as Triangular Orthogonalization"
   ]
  },
  {
   "cell_type": "markdown",
   "metadata": {
    "slideshow": {
     "slide_type": "fragment"
    }
   },
   "source": [
    "The Gram-Schmidt algorithm can be viewed as multiplying $A$ on the right by a sequence of the triangular matrices:\n",
    "\n",
    "$$\n",
    "A \\cdot \\underbrace{R_1 R_2 \\cdots R_n}_{\\hat{R}^{-1}} = \\hat{Q}.\n",
    "$$"
   ]
  },
  {
   "cell_type": "markdown",
   "metadata": {
    "slideshow": {
     "slide_type": "fragment"
    }
   },
   "source": [
    "For instance:\n",
    "$$\n",
    "R_n = \\begin{bmatrix} 1 & \\cdots & & \\\\ & \\ddots & & \\\\ & & & \\frac{1}{r_{nn}}\\end{bmatrix}, R_{n-1} = \\begin{bmatrix} 1 & \\cdots & & \\\\ & \\ddots & & \\\\ & & \\frac{1}{r_{(n-1)(n-1)}} & \\frac{-r_{(n-1)n}}{r_{(n-1)(n-1)}} \\\\ & & & 1\\end{bmatrix}, \\dots\n",
    "$$"
   ]
  },
  {
   "cell_type": "code",
   "execution_count": 28,
   "metadata": {
    "collapsed": false,
    "slideshow": {
     "slide_type": "subslide"
    }
   },
   "outputs": [
    {
     "data": {
      "text/plain": [
       "6×3 Array{Float64,2}:\n",
       " -0.494323   0.555085   0.36109  \n",
       " -0.496602  -0.117899   0.0274194\n",
       " -0.509613   0.295338  -0.562796 \n",
       " -0.294441  -0.250213   0.415776 \n",
       " -0.318945  -0.597139  -0.428885 \n",
       " -0.246787  -0.414216   0.441941 "
      ]
     },
     "execution_count": 28,
     "metadata": {},
     "output_type": "execute_result"
    }
   ],
   "source": [
    "m = 6;\n",
    "j = 3;\n",
    "A = rand(m,j);\n",
    "Rj = qr(A)[2];\n",
    "R = inv(Rj)\n",
    "Q = A*R"
   ]
  },
  {
   "cell_type": "code",
   "execution_count": 37,
   "metadata": {
    "collapsed": false,
    "slideshow": {
     "slide_type": "fragment"
    }
   },
   "outputs": [
    {
     "data": {
      "text/plain": [
       "([-3.46945e-16],[3.60822e-16],[5.55112e-17])"
      ]
     },
     "execution_count": 37,
     "metadata": {},
     "output_type": "execute_result"
    }
   ],
   "source": [
    "(Q[:,1]')*Q[:,2], (Q[:,2]')*Q[:,3], (Q[:,3]')*Q[:,1]"
   ]
  }
 ],
 "metadata": {
  "celltoolbar": "Slideshow",
  "kernelspec": {
   "display_name": "Julia 0.5.0",
   "language": "julia",
   "name": "julia-0.5"
  },
  "language_info": {
   "file_extension": ".jl",
   "mimetype": "application/julia",
   "name": "julia",
   "version": "0.5.0"
  }
 },
 "nbformat": 4,
 "nbformat_minor": 1
}
